{
  "nbformat": 4,
  "nbformat_minor": 0,
  "metadata": {
    "colab": {
      "provenance": [],
      "authorship_tag": "ABX9TyOxKLic0vAVQ4FM0i6yJBzn",
      "include_colab_link": true
    },
    "kernelspec": {
      "name": "python3",
      "display_name": "Python 3"
    },
    "language_info": {
      "name": "python"
    }
  },
  "cells": [
    {
      "cell_type": "markdown",
      "metadata": {
        "id": "view-in-github",
        "colab_type": "text"
      },
      "source": [
        "<a href=\"https://colab.research.google.com/github/surendarmanoj/data-science/blob/main/Multiple_Linear_Regression_30_04_2025.ipynb\" target=\"_parent\"><img src=\"https://colab.research.google.com/assets/colab-badge.svg\" alt=\"Open In Colab\"/></a>"
      ]
    },
    {
      "cell_type": "markdown",
      "source": [
        "Student performance dataset - [Dataset](https://www.kaggle.com/datasets/nikhil7280/student-performance-multiple-linear-regression?resource=download)"
      ],
      "metadata": {
        "id": "QLV8KIQrFhbC"
      }
    },
    {
      "cell_type": "code",
      "execution_count": 19,
      "metadata": {
        "id": "Bcn9hvsfCYX5"
      },
      "outputs": [],
      "source": [
        "import pandas as pd\n",
        "import numpy as np\n",
        "import matplotlib.pyplot as plt\n",
        "import random"
      ]
    },
    {
      "cell_type": "code",
      "source": [
        "import plotly.express as px\n",
        "import plotly.graph_objects as go"
      ],
      "metadata": {
        "id": "lVflGqBgIQ3g"
      },
      "execution_count": 17,
      "outputs": []
    },
    {
      "cell_type": "code",
      "source": [
        "from sklearn.metrics import mean_absolute_error, mean_squared_error, r2_score\n",
        "from sklearn.model_selection import train_test_split\n",
        "from sklearn.linear_model import LinearRegression"
      ],
      "metadata": {
        "id": "FAVw2g8rJnJ2"
      },
      "execution_count": 23,
      "outputs": []
    },
    {
      "cell_type": "code",
      "source": [
        "stud_df = pd.read_csv(\"Student_Performance.csv\")\n",
        "stud_df.head()"
      ],
      "metadata": {
        "colab": {
          "base_uri": "https://localhost:8080/",
          "height": 206
        },
        "id": "X9yVdtN3Cwx6",
        "outputId": "2eaa04d6-7895-4ca3-d351-9cd465e08fd7"
      },
      "execution_count": 5,
      "outputs": [
        {
          "output_type": "execute_result",
          "data": {
            "text/plain": [
              "   Hours Studied  Previous Scores Extracurricular Activities  Sleep Hours  \\\n",
              "0              7               99                        Yes            9   \n",
              "1              4               82                         No            4   \n",
              "2              8               51                        Yes            7   \n",
              "3              5               52                        Yes            5   \n",
              "4              7               75                         No            8   \n",
              "\n",
              "   Sample Question Papers Practiced  Performance Index  \n",
              "0                                 1               91.0  \n",
              "1                                 2               65.0  \n",
              "2                                 2               45.0  \n",
              "3                                 2               36.0  \n",
              "4                                 5               66.0  "
            ],
            "text/html": [
              "\n",
              "  <div id=\"df-e2e0076e-00ee-4a02-b8ed-65f4852dc642\" class=\"colab-df-container\">\n",
              "    <div>\n",
              "<style scoped>\n",
              "    .dataframe tbody tr th:only-of-type {\n",
              "        vertical-align: middle;\n",
              "    }\n",
              "\n",
              "    .dataframe tbody tr th {\n",
              "        vertical-align: top;\n",
              "    }\n",
              "\n",
              "    .dataframe thead th {\n",
              "        text-align: right;\n",
              "    }\n",
              "</style>\n",
              "<table border=\"1\" class=\"dataframe\">\n",
              "  <thead>\n",
              "    <tr style=\"text-align: right;\">\n",
              "      <th></th>\n",
              "      <th>Hours Studied</th>\n",
              "      <th>Previous Scores</th>\n",
              "      <th>Extracurricular Activities</th>\n",
              "      <th>Sleep Hours</th>\n",
              "      <th>Sample Question Papers Practiced</th>\n",
              "      <th>Performance Index</th>\n",
              "    </tr>\n",
              "  </thead>\n",
              "  <tbody>\n",
              "    <tr>\n",
              "      <th>0</th>\n",
              "      <td>7</td>\n",
              "      <td>99</td>\n",
              "      <td>Yes</td>\n",
              "      <td>9</td>\n",
              "      <td>1</td>\n",
              "      <td>91.0</td>\n",
              "    </tr>\n",
              "    <tr>\n",
              "      <th>1</th>\n",
              "      <td>4</td>\n",
              "      <td>82</td>\n",
              "      <td>No</td>\n",
              "      <td>4</td>\n",
              "      <td>2</td>\n",
              "      <td>65.0</td>\n",
              "    </tr>\n",
              "    <tr>\n",
              "      <th>2</th>\n",
              "      <td>8</td>\n",
              "      <td>51</td>\n",
              "      <td>Yes</td>\n",
              "      <td>7</td>\n",
              "      <td>2</td>\n",
              "      <td>45.0</td>\n",
              "    </tr>\n",
              "    <tr>\n",
              "      <th>3</th>\n",
              "      <td>5</td>\n",
              "      <td>52</td>\n",
              "      <td>Yes</td>\n",
              "      <td>5</td>\n",
              "      <td>2</td>\n",
              "      <td>36.0</td>\n",
              "    </tr>\n",
              "    <tr>\n",
              "      <th>4</th>\n",
              "      <td>7</td>\n",
              "      <td>75</td>\n",
              "      <td>No</td>\n",
              "      <td>8</td>\n",
              "      <td>5</td>\n",
              "      <td>66.0</td>\n",
              "    </tr>\n",
              "  </tbody>\n",
              "</table>\n",
              "</div>\n",
              "    <div class=\"colab-df-buttons\">\n",
              "\n",
              "  <div class=\"colab-df-container\">\n",
              "    <button class=\"colab-df-convert\" onclick=\"convertToInteractive('df-e2e0076e-00ee-4a02-b8ed-65f4852dc642')\"\n",
              "            title=\"Convert this dataframe to an interactive table.\"\n",
              "            style=\"display:none;\">\n",
              "\n",
              "  <svg xmlns=\"http://www.w3.org/2000/svg\" height=\"24px\" viewBox=\"0 -960 960 960\">\n",
              "    <path d=\"M120-120v-720h720v720H120Zm60-500h600v-160H180v160Zm220 220h160v-160H400v160Zm0 220h160v-160H400v160ZM180-400h160v-160H180v160Zm440 0h160v-160H620v160ZM180-180h160v-160H180v160Zm440 0h160v-160H620v160Z\"/>\n",
              "  </svg>\n",
              "    </button>\n",
              "\n",
              "  <style>\n",
              "    .colab-df-container {\n",
              "      display:flex;\n",
              "      gap: 12px;\n",
              "    }\n",
              "\n",
              "    .colab-df-convert {\n",
              "      background-color: #E8F0FE;\n",
              "      border: none;\n",
              "      border-radius: 50%;\n",
              "      cursor: pointer;\n",
              "      display: none;\n",
              "      fill: #1967D2;\n",
              "      height: 32px;\n",
              "      padding: 0 0 0 0;\n",
              "      width: 32px;\n",
              "    }\n",
              "\n",
              "    .colab-df-convert:hover {\n",
              "      background-color: #E2EBFA;\n",
              "      box-shadow: 0px 1px 2px rgba(60, 64, 67, 0.3), 0px 1px 3px 1px rgba(60, 64, 67, 0.15);\n",
              "      fill: #174EA6;\n",
              "    }\n",
              "\n",
              "    .colab-df-buttons div {\n",
              "      margin-bottom: 4px;\n",
              "    }\n",
              "\n",
              "    [theme=dark] .colab-df-convert {\n",
              "      background-color: #3B4455;\n",
              "      fill: #D2E3FC;\n",
              "    }\n",
              "\n",
              "    [theme=dark] .colab-df-convert:hover {\n",
              "      background-color: #434B5C;\n",
              "      box-shadow: 0px 1px 3px 1px rgba(0, 0, 0, 0.15);\n",
              "      filter: drop-shadow(0px 1px 2px rgba(0, 0, 0, 0.3));\n",
              "      fill: #FFFFFF;\n",
              "    }\n",
              "  </style>\n",
              "\n",
              "    <script>\n",
              "      const buttonEl =\n",
              "        document.querySelector('#df-e2e0076e-00ee-4a02-b8ed-65f4852dc642 button.colab-df-convert');\n",
              "      buttonEl.style.display =\n",
              "        google.colab.kernel.accessAllowed ? 'block' : 'none';\n",
              "\n",
              "      async function convertToInteractive(key) {\n",
              "        const element = document.querySelector('#df-e2e0076e-00ee-4a02-b8ed-65f4852dc642');\n",
              "        const dataTable =\n",
              "          await google.colab.kernel.invokeFunction('convertToInteractive',\n",
              "                                                    [key], {});\n",
              "        if (!dataTable) return;\n",
              "\n",
              "        const docLinkHtml = 'Like what you see? Visit the ' +\n",
              "          '<a target=\"_blank\" href=https://colab.research.google.com/notebooks/data_table.ipynb>data table notebook</a>'\n",
              "          + ' to learn more about interactive tables.';\n",
              "        element.innerHTML = '';\n",
              "        dataTable['output_type'] = 'display_data';\n",
              "        await google.colab.output.renderOutput(dataTable, element);\n",
              "        const docLink = document.createElement('div');\n",
              "        docLink.innerHTML = docLinkHtml;\n",
              "        element.appendChild(docLink);\n",
              "      }\n",
              "    </script>\n",
              "  </div>\n",
              "\n",
              "\n",
              "    <div id=\"df-f164de08-a618-40cd-b936-cd84c99ca6d7\">\n",
              "      <button class=\"colab-df-quickchart\" onclick=\"quickchart('df-f164de08-a618-40cd-b936-cd84c99ca6d7')\"\n",
              "                title=\"Suggest charts\"\n",
              "                style=\"display:none;\">\n",
              "\n",
              "<svg xmlns=\"http://www.w3.org/2000/svg\" height=\"24px\"viewBox=\"0 0 24 24\"\n",
              "     width=\"24px\">\n",
              "    <g>\n",
              "        <path d=\"M19 3H5c-1.1 0-2 .9-2 2v14c0 1.1.9 2 2 2h14c1.1 0 2-.9 2-2V5c0-1.1-.9-2-2-2zM9 17H7v-7h2v7zm4 0h-2V7h2v10zm4 0h-2v-4h2v4z\"/>\n",
              "    </g>\n",
              "</svg>\n",
              "      </button>\n",
              "\n",
              "<style>\n",
              "  .colab-df-quickchart {\n",
              "      --bg-color: #E8F0FE;\n",
              "      --fill-color: #1967D2;\n",
              "      --hover-bg-color: #E2EBFA;\n",
              "      --hover-fill-color: #174EA6;\n",
              "      --disabled-fill-color: #AAA;\n",
              "      --disabled-bg-color: #DDD;\n",
              "  }\n",
              "\n",
              "  [theme=dark] .colab-df-quickchart {\n",
              "      --bg-color: #3B4455;\n",
              "      --fill-color: #D2E3FC;\n",
              "      --hover-bg-color: #434B5C;\n",
              "      --hover-fill-color: #FFFFFF;\n",
              "      --disabled-bg-color: #3B4455;\n",
              "      --disabled-fill-color: #666;\n",
              "  }\n",
              "\n",
              "  .colab-df-quickchart {\n",
              "    background-color: var(--bg-color);\n",
              "    border: none;\n",
              "    border-radius: 50%;\n",
              "    cursor: pointer;\n",
              "    display: none;\n",
              "    fill: var(--fill-color);\n",
              "    height: 32px;\n",
              "    padding: 0;\n",
              "    width: 32px;\n",
              "  }\n",
              "\n",
              "  .colab-df-quickchart:hover {\n",
              "    background-color: var(--hover-bg-color);\n",
              "    box-shadow: 0 1px 2px rgba(60, 64, 67, 0.3), 0 1px 3px 1px rgba(60, 64, 67, 0.15);\n",
              "    fill: var(--button-hover-fill-color);\n",
              "  }\n",
              "\n",
              "  .colab-df-quickchart-complete:disabled,\n",
              "  .colab-df-quickchart-complete:disabled:hover {\n",
              "    background-color: var(--disabled-bg-color);\n",
              "    fill: var(--disabled-fill-color);\n",
              "    box-shadow: none;\n",
              "  }\n",
              "\n",
              "  .colab-df-spinner {\n",
              "    border: 2px solid var(--fill-color);\n",
              "    border-color: transparent;\n",
              "    border-bottom-color: var(--fill-color);\n",
              "    animation:\n",
              "      spin 1s steps(1) infinite;\n",
              "  }\n",
              "\n",
              "  @keyframes spin {\n",
              "    0% {\n",
              "      border-color: transparent;\n",
              "      border-bottom-color: var(--fill-color);\n",
              "      border-left-color: var(--fill-color);\n",
              "    }\n",
              "    20% {\n",
              "      border-color: transparent;\n",
              "      border-left-color: var(--fill-color);\n",
              "      border-top-color: var(--fill-color);\n",
              "    }\n",
              "    30% {\n",
              "      border-color: transparent;\n",
              "      border-left-color: var(--fill-color);\n",
              "      border-top-color: var(--fill-color);\n",
              "      border-right-color: var(--fill-color);\n",
              "    }\n",
              "    40% {\n",
              "      border-color: transparent;\n",
              "      border-right-color: var(--fill-color);\n",
              "      border-top-color: var(--fill-color);\n",
              "    }\n",
              "    60% {\n",
              "      border-color: transparent;\n",
              "      border-right-color: var(--fill-color);\n",
              "    }\n",
              "    80% {\n",
              "      border-color: transparent;\n",
              "      border-right-color: var(--fill-color);\n",
              "      border-bottom-color: var(--fill-color);\n",
              "    }\n",
              "    90% {\n",
              "      border-color: transparent;\n",
              "      border-bottom-color: var(--fill-color);\n",
              "    }\n",
              "  }\n",
              "</style>\n",
              "\n",
              "      <script>\n",
              "        async function quickchart(key) {\n",
              "          const quickchartButtonEl =\n",
              "            document.querySelector('#' + key + ' button');\n",
              "          quickchartButtonEl.disabled = true;  // To prevent multiple clicks.\n",
              "          quickchartButtonEl.classList.add('colab-df-spinner');\n",
              "          try {\n",
              "            const charts = await google.colab.kernel.invokeFunction(\n",
              "                'suggestCharts', [key], {});\n",
              "          } catch (error) {\n",
              "            console.error('Error during call to suggestCharts:', error);\n",
              "          }\n",
              "          quickchartButtonEl.classList.remove('colab-df-spinner');\n",
              "          quickchartButtonEl.classList.add('colab-df-quickchart-complete');\n",
              "        }\n",
              "        (() => {\n",
              "          let quickchartButtonEl =\n",
              "            document.querySelector('#df-f164de08-a618-40cd-b936-cd84c99ca6d7 button');\n",
              "          quickchartButtonEl.style.display =\n",
              "            google.colab.kernel.accessAllowed ? 'block' : 'none';\n",
              "        })();\n",
              "      </script>\n",
              "    </div>\n",
              "\n",
              "    </div>\n",
              "  </div>\n"
            ],
            "application/vnd.google.colaboratory.intrinsic+json": {
              "type": "dataframe",
              "variable_name": "stud_df",
              "summary": "{\n  \"name\": \"stud_df\",\n  \"rows\": 10000,\n  \"fields\": [\n    {\n      \"column\": \"Hours Studied\",\n      \"properties\": {\n        \"dtype\": \"number\",\n        \"std\": 2,\n        \"min\": 1,\n        \"max\": 9,\n        \"num_unique_values\": 9,\n        \"samples\": [\n          1,\n          4,\n          6\n        ],\n        \"semantic_type\": \"\",\n        \"description\": \"\"\n      }\n    },\n    {\n      \"column\": \"Previous Scores\",\n      \"properties\": {\n        \"dtype\": \"number\",\n        \"std\": 17,\n        \"min\": 40,\n        \"max\": 99,\n        \"num_unique_values\": 60,\n        \"samples\": [\n          99,\n          78,\n          93\n        ],\n        \"semantic_type\": \"\",\n        \"description\": \"\"\n      }\n    },\n    {\n      \"column\": \"Extracurricular Activities\",\n      \"properties\": {\n        \"dtype\": \"category\",\n        \"num_unique_values\": 2,\n        \"samples\": [\n          \"No\",\n          \"Yes\"\n        ],\n        \"semantic_type\": \"\",\n        \"description\": \"\"\n      }\n    },\n    {\n      \"column\": \"Sleep Hours\",\n      \"properties\": {\n        \"dtype\": \"number\",\n        \"std\": 1,\n        \"min\": 4,\n        \"max\": 9,\n        \"num_unique_values\": 6,\n        \"samples\": [\n          9,\n          4\n        ],\n        \"semantic_type\": \"\",\n        \"description\": \"\"\n      }\n    },\n    {\n      \"column\": \"Sample Question Papers Practiced\",\n      \"properties\": {\n        \"dtype\": \"number\",\n        \"std\": 2,\n        \"min\": 0,\n        \"max\": 9,\n        \"num_unique_values\": 10,\n        \"samples\": [\n          9,\n          2\n        ],\n        \"semantic_type\": \"\",\n        \"description\": \"\"\n      }\n    },\n    {\n      \"column\": \"Performance Index\",\n      \"properties\": {\n        \"dtype\": \"number\",\n        \"std\": 19.212557799463323,\n        \"min\": 10.0,\n        \"max\": 100.0,\n        \"num_unique_values\": 91,\n        \"samples\": [\n          41.0,\n          49.0\n        ],\n        \"semantic_type\": \"\",\n        \"description\": \"\"\n      }\n    }\n  ]\n}"
            }
          },
          "metadata": {},
          "execution_count": 5
        }
      ]
    },
    {
      "cell_type": "code",
      "source": [
        "stud_df.info()"
      ],
      "metadata": {
        "colab": {
          "base_uri": "https://localhost:8080/"
        },
        "id": "bgZxtmmxDsUg",
        "outputId": "347d7d79-d06e-4ea7-84ae-b2c706523257"
      },
      "execution_count": 6,
      "outputs": [
        {
          "output_type": "stream",
          "name": "stdout",
          "text": [
            "<class 'pandas.core.frame.DataFrame'>\n",
            "RangeIndex: 10000 entries, 0 to 9999\n",
            "Data columns (total 6 columns):\n",
            " #   Column                            Non-Null Count  Dtype  \n",
            "---  ------                            --------------  -----  \n",
            " 0   Hours Studied                     10000 non-null  int64  \n",
            " 1   Previous Scores                   10000 non-null  int64  \n",
            " 2   Extracurricular Activities        10000 non-null  object \n",
            " 3   Sleep Hours                       10000 non-null  int64  \n",
            " 4   Sample Question Papers Practiced  10000 non-null  int64  \n",
            " 5   Performance Index                 10000 non-null  float64\n",
            "dtypes: float64(1), int64(4), object(1)\n",
            "memory usage: 468.9+ KB\n"
          ]
        }
      ]
    },
    {
      "cell_type": "code",
      "source": [
        "stud_df.shape"
      ],
      "metadata": {
        "colab": {
          "base_uri": "https://localhost:8080/"
        },
        "id": "lEUHxzHbGHRw",
        "outputId": "9a3db1ea-ba7d-490d-af55-4d4b63371782"
      },
      "execution_count": 9,
      "outputs": [
        {
          "output_type": "execute_result",
          "data": {
            "text/plain": [
              "(10000, 6)"
            ]
          },
          "metadata": {},
          "execution_count": 9
        }
      ]
    },
    {
      "cell_type": "code",
      "source": [
        "stud_df.drop('Extracurricular Activities', inplace=True, axis=1)"
      ],
      "metadata": {
        "id": "XojUP6dkHBu1"
      },
      "execution_count": 12,
      "outputs": []
    },
    {
      "cell_type": "code",
      "source": [
        "stud_df.corr()['Performance Index']"
      ],
      "metadata": {
        "colab": {
          "base_uri": "https://localhost:8080/",
          "height": 241
        },
        "id": "1iBLeDQiGWz_",
        "outputId": "03df0f4b-f1b4-4f66-d574-f07ecdc64003"
      },
      "execution_count": 15,
      "outputs": [
        {
          "output_type": "execute_result",
          "data": {
            "text/plain": [
              "Hours Studied                       0.373730\n",
              "Previous Scores                     0.915189\n",
              "Sleep Hours                         0.048106\n",
              "Sample Question Papers Practiced    0.043268\n",
              "Performance Index                   1.000000\n",
              "Name: Performance Index, dtype: float64"
            ],
            "text/html": [
              "<div>\n",
              "<style scoped>\n",
              "    .dataframe tbody tr th:only-of-type {\n",
              "        vertical-align: middle;\n",
              "    }\n",
              "\n",
              "    .dataframe tbody tr th {\n",
              "        vertical-align: top;\n",
              "    }\n",
              "\n",
              "    .dataframe thead th {\n",
              "        text-align: right;\n",
              "    }\n",
              "</style>\n",
              "<table border=\"1\" class=\"dataframe\">\n",
              "  <thead>\n",
              "    <tr style=\"text-align: right;\">\n",
              "      <th></th>\n",
              "      <th>Performance Index</th>\n",
              "    </tr>\n",
              "  </thead>\n",
              "  <tbody>\n",
              "    <tr>\n",
              "      <th>Hours Studied</th>\n",
              "      <td>0.373730</td>\n",
              "    </tr>\n",
              "    <tr>\n",
              "      <th>Previous Scores</th>\n",
              "      <td>0.915189</td>\n",
              "    </tr>\n",
              "    <tr>\n",
              "      <th>Sleep Hours</th>\n",
              "      <td>0.048106</td>\n",
              "    </tr>\n",
              "    <tr>\n",
              "      <th>Sample Question Papers Practiced</th>\n",
              "      <td>0.043268</td>\n",
              "    </tr>\n",
              "    <tr>\n",
              "      <th>Performance Index</th>\n",
              "      <td>1.000000</td>\n",
              "    </tr>\n",
              "  </tbody>\n",
              "</table>\n",
              "</div><br><label><b>dtype:</b> float64</label>"
            ]
          },
          "metadata": {},
          "execution_count": 15
        }
      ]
    },
    {
      "cell_type": "code",
      "source": [
        "plt.scatter(stud_df['Previous Scores'], stud_df['Performance Index'])\n",
        "plt.xlabel('Previous Scores')\n",
        "plt.ylabel('Performance Index')\n",
        "plt.show()"
      ],
      "metadata": {
        "colab": {
          "base_uri": "https://localhost:8080/",
          "height": 449
        },
        "id": "dWo8jnGfG9xS",
        "outputId": "2b33fbe2-29f0-45cc-d1c4-5850af1bab26"
      },
      "execution_count": 20,
      "outputs": [
        {
          "output_type": "display_data",
          "data": {
            "text/plain": [
              "<Figure size 640x480 with 1 Axes>"
            ],
            "image/png": "[encoded data removed]"
          },
          "metadata": {}
        }
      ]
    },
    {
      "cell_type": "code",
      "source": [
        "plt.scatter(stud_df['Sleep Hours'], stud_df['Performance Index'])\n",
        "plt.xlabel('Sleep Hours')\n",
        "plt.ylabel('Performance Index')\n",
        "plt.show()"
      ],
      "metadata": {
        "colab": {
          "base_uri": "https://localhost:8080/",
          "height": 449
        },
        "id": "pCWAIY_oIK1b",
        "outputId": "ef592dc4-9cd5-4088-daec-97247dbc33f8"
      },
      "execution_count": 21,
      "outputs": [
        {
          "output_type": "display_data",
          "data": {
            "text/plain": [
              "<Figure size 640x480 with 1 Axes>"
            ],
            "image/png": "[encoded data removed]"
          },
          "metadata": {}
        }
      ]
    },
    {
      "cell_type": "code",
      "source": [
        "fig = px.scatter_3d(stud_df, x = \"Previous Scores\", y = \"Performance Index\", z = \"Hours Studied\")\n",
        "fig.show()"
      ],
      "metadata": {
        "colab": {
          "base_uri": "https://localhost:8080/",
          "height": 542
        },
        "id": "josoKI09IsEB",
        "outputId": "23366356-7841-46f7-9bea-f1cb756aea5b"
      },
      "execution_count": 22,
      "outputs": [
        {
          "output_type": "display_data",
          "data": {
            "text/html": [
              "<html>\n",
              "<head><meta charset=\"utf-8\" /></head>\n",
              "<body>\n",
              "    <div>            <script src=\"https://cdnjs.cloudflare.com/ajax/libs/mathjax/2.7.5/MathJax.js?config=TeX-AMS-MML_SVG\"></script><script type=\"text/javascript\">if (window.MathJax && window.MathJax.Hub && window.MathJax.Hub.Config) {window.MathJax.Hub.Config({SVG: {font: \"STIX-Web\"}});}</script>                <script type=\"text/javascript\">window.PlotlyConfig = {MathJaxConfig: 'local'};</script>\n",
              "        <script charset=\"utf-8\" src=\"https://cdn.plot.ly/plotly-2.35.2.min.js\"></script>                <div id=\"7289de77-486d-4b3a-8743-ecc9d0734227\" class=\"plotly-graph-div\" style=\"height:525px; width:100%;\"></div>            <script type=\"text/javascript\">                                    window.PLOTLYENV=window.PLOTLYENV || {};                                    if (document.getElementById(\"7289de77-486d-4b3a-8743-ecc9d0734227\")) {                    Plotly.newPlot(                        \"7289de77-486d-4b3a-8743-ecc9d0734227\",                        [{\"hovertemplate\":\"Previous Scores=%{x}\\u003cbr\\u003ePerformance Index=%{y}\\u003cbr\\u003eHours Studied=%{z}\\u003cextra\\u003e\\u003c\\u002fextra\\u003e\",\"legendgroup\":\"\",\"marker\":{\"color\":\"#636efa\",\"symbol\":\"circle\"},\"mode\":\"markers\",\"name\":\"\",\"scene\":\"scene\",\"showlegend\":false,\"x\":[99,82,51,52,75,78,73,45,77,89,91,79,47,47,79,72,73,83,54,75,99,96,74,85,61,62,79,84,94,90,61,44,70,52,67,97,59,72,55,68,62,63,73,46,77,76,43,73,81,61,44,89,81,62,93,99,54,70,98,48,82,97,92,64,64,88,60,48,94,87,77,61,82,62,88,43,68,54,40,93,69,68,59,72,80,83,75,99,61,52,46,47,67,84,82,48,64,95,55,49,50,70,51,99,70,53,90,83,71,89,92,56,74,40,68,90,43,62,67,55,51,92,60,84,56,79,52,91,97,71,76,89,54,51,88,96,54,73,45,56,87,88,96,59,48,98,44,62,72,77,95,53,56,96,58,72,40,52,85,66,45,98,45,72,69,85,74,62,49,90,58,90,67,62,43,59,58,81,66,96,73,43,95,77,46,87,46,89,91,65,65,93,58,48,59,81,84,89,55,93,56,61,52,51,49,40,71,69,47,60,61,57,41,87,83,48,42,93,65,60,69,67,75,65,73,47,49,87,94,82,89,93,53,79,94,54,56,92,57,71,77,62,85,62,74,78,54,92,63,67,55,55,79,78,45,41,93,52,83,86,98,48,73,56,66,68,76,82,61,90,63,46,73,87,51,62,54,72,96,52,62,77,71,84,89,74,40,86,97,84,44,96,52,93,44,99,71,90,60,63,99,57,60,93,49,63,79,86,60,64,91,99,96,98,62,61,43,73,95,45,67,70,74,78,81,62,45,55,41,63,56,84,40,45,44,96,84,99,94,89,68,51,78,86,42,87,40,66,87,63,83,58,98,47,94,83,86,41,69,69,88,78,84,71,40,77,52,50,49,87,98,65,95,94,59,56,56,43,44,99,62,85,91,49,85,67,72,82,65,94,89,87,68,66,57,79,99,49,97,81,44,49,89,60,63,77,42,79,70,80,76,41,41,78,88,81,83,73,81,59,72,43,84,83,50,81,86,44,64,88,99,76,73,48,45,57,53,58,53,79,56,99,74,68,81,56,98,82,47,40,84,92,75,46,85,44,63,67,82,56,76,59,42,76,65,54,90,87,47,52,87,42,40,48,70,80,93,65,56,95,73,48,95,90,52,44,80,52,40,64,86,43,75,91,49,67,96,45,66,95,51,91,87,42,85,72,49,70,54,46,75,53,95,87,53,42,88,92,85,89,42,61,58,74,51,93,44,49,80,72,52,74,90,71,50,87,77,63,74,58,45,79,93,84,83,81,74,43,72,52,95,75,93,82,58,82,51,50,45,51,66,80,64,81,42,42,59,67,62,87,42,81,63,82,79,45,59,50,71,99,66,60,83,87,89,52,61,74,86,61,67,60,85,57,70,99,85,76,60,53,64,66,79,99,99,62,70,86,99,68,86,69,90,65,59,77,58,66,64,79,77,91,62,68,54,98,42,49,54,95,55,56,58,50,87,44,44,97,53,89,65,47,44,46,55,94,53,76,95,80,43,75,87,95,56,86,75,45,55,68,75,77,76,87,96,87,49,80,75,68,53,43,83,95,81,75,89,84,52,85,57,72,60,55,54,93,96,44,45,77,42,87,51,75,72,75,72,70,60,66,66,47,95,76,71,65,41,51,61,56,46,82,43,76,77,71,50,40,64,81,91,63,92,82,95,56,47,98,84,66,91,57,66,61,55,41,44,57,42,66,93,56,55,45,90,46,89,53,77,79,54,86,86,87,72,82,66,68,96,76,44,68,71,99,92,45,41,45,85,82,43,95,68,98,64,48,95,42,65,87,82,66,75,71,40,96,92,93,55,90,87,50,65,79,94,40,65,67,92,97,48,99,98,83,61,47,97,88,81,66,78,58,64,77,60,63,63,99,99,58,89,86,41,53,92,71,81,71,67,87,78,79,81,86,79,52,51,47,54,65,51,82,90,85,66,57,84,75,88,90,66,48,94,78,40,46,65,46,91,46,47,55,42,84,49,89,46,60,92,76,70,62,96,66,95,61,78,96,66,93,88,43,63,62,87,58,81,42,66,42,67,56,70,49,88,61,69,88,60,75,92,62,77,51,64,93,96,59,88,88,81,46,68,87,68,52,42,41,55,69,77,45,84,46,44,95,46,73,71,88,52,69,64,60,99,98,60,67,87,97,59,73,44,57,99,78,82,96,96,50,93,56,87,84,61,76,59,87,99,93,93,87,87,85,45,73,53,87,62,59,52,86,83,80,71,65,89,92,53,91,96,75,47,79,61,61,55,66,95,99,99,49,64,70,60,66,56,72,70,89,81,65,60,75,40,43,43,65,43,88,48,69,90,84,43,44,84,62,55,61,76,47,87,72,94,99,77,82,55,44,55,46,90,40,48,57,84,97,86,42,63,67,49,48,52,87,74,93,62,86,56,85,46,91,55,92,79,75,59,63,86,44,84,45,67,98,44,88,78,77,41,82,78,93,60,79,76,98,57,93,87,85,51,56,76,85,77,54,46,53,89,40,77,42,76,83,70,82,52,87,57,56,56,50,59,49,68,87,73,56,93,91,81,52,83,86,78,66,93,92,65,67,52,51,83,67,41,76,96,96,73,62,97,91,84,68,74,50,87,72,90,50,48,53,48,78,87,42,68,58,75,71,46,94,67,83,57,99,44,62,94,61,65,81,51,79,58,86,40,42,66,57,89,69,41,44,68,72,81,59,69,81,44,89,60,97,54,59,47,88,70,51,60,69,66,83,65,72,65,65,75,79,40,98,54,89,40,50,94,41,40,70,83,55,93,61,81,57,86,56,69,49,74,97,60,55,45,42,80,82,60,52,57,97,93,99,63,66,93,43,61,63,79,84,49,41,79,45,87,57,56,77,84,62,85,69,97,60,49,95,82,52,51,48,43,78,63,93,73,78,80,44,54,89,43,90,91,97,78,97,47,88,84,63,92,67,94,82,66,40,73,56,76,77,65,96,63,78,99,60,69,86,90,87,96,52,76,42,71,74,58,53,87,61,56,98,43,84,79,58,76,41,54,41,50,84,62,49,42,44,42,77,52,81,58,79,89,74,63,63,56,79,49,41,83,62,45,41,60,94,95,74,88,68,46,68,92,76,62,72,47,51,85,87,49,54,92,63,65,86,81,92,99,78,97,42,41,45,60,48,49,75,98,42,80,63,61,88,53,81,84,83,66,72,99,61,68,58,58,45,84,58,52,98,65,61,60,75,95,41,86,83,69,66,46,59,89,70,62,52,56,43,96,53,59,99,52,42,65,65,57,71,53,86,42,40,65,63,88,74,53,42,52,86,89,53,60,65,42,90,79,43,75,90,82,40,79,86,72,46,92,91,91,95,50,66,53,61,55,85,51,88,85,49,63,85,57,61,48,56,77,79,97,52,89,76,45,60,90,75,46,75,64,50,83,53,84,68,49,89,87,44,47,85,44,97,99,63,79,96,65,45,55,99,75,51,50,42,83,76,45,58,57,55,62,82,76,48,42,47,77,43,51,83,70,64,92,55,81,93,53,52,80,46,51,76,89,43,41,74,97,83,42,43,77,51,58,49,40,56,55,48,96,92,48,98,94,48,51,94,80,54,41,50,50,47,94,71,45,92,59,78,74,47,89,88,82,73,96,92,98,95,58,46,70,57,79,53,78,99,92,99,98,75,56,76,83,48,97,59,84,96,67,89,59,80,75,92,66,47,71,40,56,96,48,59,84,71,41,71,84,48,69,59,77,99,40,99,96,44,74,75,40,53,48,69,63,43,89,53,64,43,64,49,74,94,46,81,52,43,89,82,96,75,95,53,57,47,71,66,81,76,62,46,51,64,42,65,43,81,75,54,71,68,49,60,93,55,86,58,68,91,90,57,97,83,96,55,40,87,41,95,54,78,67,40,44,81,61,92,75,85,52,40,55,94,80,61,71,55,90,54,97,85,91,81,92,51,99,40,92,56,80,94,90,96,89,67,46,48,61,65,92,51,46,85,86,54,77,60,53,41,47,84,94,45,76,76,96,72,80,45,91,65,78,80,76,53,76,47,78,52,52,79,82,67,97,57,96,58,77,71,61,41,99,52,62,64,67,97,50,72,63,41,69,56,79,73,77,61,44,87,79,90,55,52,65,70,91,78,87,62,87,51,53,95,57,66,67,57,55,91,55,52,97,68,48,65,67,80,52,75,48,86,53,90,51,92,97,96,71,77,42,97,96,93,91,55,59,71,95,62,56,55,77,47,58,69,96,97,73,53,61,83,56,99,98,54,89,87,71,52,60,88,79,72,96,97,66,74,55,67,73,86,40,80,87,70,75,83,72,72,78,57,62,99,62,54,65,69,64,84,55,78,87,84,53,56,51,68,71,95,63,91,52,95,59,54,95,92,43,93,73,67,89,41,96,86,69,65,90,86,65,59,81,67,95,59,50,97,49,62,76,80,91,58,84,57,88,66,45,49,41,63,77,67,67,92,84,89,78,41,85,44,89,50,49,82,98,41,54,78,80,76,46,59,73,74,73,92,61,70,62,58,43,63,59,78,67,93,78,56,58,93,87,74,71,86,85,86,85,78,96,74,69,56,81,86,68,45,99,56,56,53,63,96,89,96,76,79,78,94,71,75,89,76,87,53,66,98,58,70,85,48,77,56,58,83,43,87,96,50,61,43,56,47,85,98,73,50,70,50,95,93,95,77,92,60,85,69,49,65,66,47,78,47,99,47,94,73,98,55,80,52,62,51,66,61,71,96,88,66,41,84,72,65,67,58,82,44,72,59,69,84,47,77,56,83,40,42,85,65,70,47,82,98,85,47,74,78,67,90,43,96,55,52,59,90,44,94,76,59,63,75,73,97,84,87,93,73,58,56,44,64,57,99,94,92,89,47,66,54,84,52,55,61,59,52,59,41,74,86,94,58,84,76,97,93,45,53,43,61,90,94,78,75,73,66,46,42,86,72,41,81,55,64,99,54,63,54,70,53,93,53,45,53,56,57,59,90,56,55,79,78,91,71,99,83,48,66,85,91,72,49,56,88,88,75,56,57,91,62,73,47,52,62,96,93,59,61,86,91,62,80,74,42,73,72,85,56,84,58,69,62,54,98,96,53,41,78,88,57,45,98,71,60,79,67,66,41,72,55,78,61,95,82,86,52,95,41,53,95,77,80,67,46,57,95,80,94,75,80,75,83,43,96,69,63,59,85,95,70,63,46,65,52,93,47,94,44,83,52,68,59,53,71,99,89,66,95,64,91,43,60,57,78,54,92,77,87,91,63,47,67,60,55,99,93,55,74,56,48,96,74,91,68,78,57,51,58,87,61,98,95,88,91,54,40,41,47,61,64,41,90,48,48,52,45,69,54,90,92,54,89,46,97,50,79,77,79,41,90,87,78,49,83,56,46,93,79,78,43,74,90,86,75,70,64,80,52,57,60,87,40,75,89,47,91,87,60,82,91,92,92,60,66,58,62,90,89,90,82,74,79,91,90,81,87,44,91,80,47,50,55,78,86,63,60,91,62,88,77,86,47,46,41,69,52,62,68,77,76,59,72,68,89,54,62,81,42,76,95,68,84,47,61,92,68,41,80,88,98,89,84,40,83,59,91,60,76,47,66,86,98,74,45,99,84,83,58,57,95,40,64,66,46,83,81,68,70,83,82,75,58,45,64,70,48,59,49,76,66,52,80,41,89,60,72,63,92,83,81,73,99,48,41,94,95,69,61,85,50,94,82,56,75,52,46,55,72,84,40,50,45,59,74,83,76,80,65,97,51,69,67,66,81,58,44,97,44,80,66,67,65,66,91,88,81,60,40,93,67,87,97,97,54,94,56,65,59,64,52,72,64,47,44,45,62,91,69,53,93,62,50,70,45,50,52,51,93,41,92,74,94,75,56,67,67,61,77,46,54,71,50,63,42,69,45,97,41,53,80,57,90,83,70,52,65,83,51,57,48,88,60,87,88,92,95,79,82,63,73,47,83,92,72,62,52,93,92,88,53,53,55,88,77,97,99,78,65,65,40,71,96,54,91,60,57,69,99,97,52,63,69,41,58,86,83,86,64,89,53,45,51,59,62,69,69,77,97,69,80,69,96,97,75,88,73,55,63,53,65,47,53,70,41,87,43,40,94,59,98,53,79,64,99,64,42,44,77,93,65,79,77,77,43,46,69,69,95,58,78,74,79,72,72,53,77,49,96,67,53,75,77,55,99,60,67,72,45,80,54,83,42,82,86,74,53,41,68,43,65,90,51,41,56,74,49,87,61,80,82,60,54,74,87,60,60,60,99,83,71,94,44,78,48,92,57,60,47,83,91,73,49,90,80,96,63,79,63,95,71,95,72,77,83,96,95,90,98,88,73,50,70,57,62,99,61,82,57,79,86,80,86,78,59,52,84,40,91,43,63,75,75,84,41,67,65,62,54,75,66,45,74,78,77,74,75,49,69,92,80,77,68,91,98,82,78,89,43,44,43,75,98,84,55,64,53,50,68,73,61,53,95,63,98,78,65,82,75,78,55,97,77,98,71,45,73,95,47,69,66,46,66,64,95,85,80,54,64,61,57,51,62,90,84,78,64,49,69,49,73,85,52,93,68,77,80,84,48,52,76,53,76,48,47,78,79,93,42,94,95,86,79,72,71,46,58,73,53,89,86,85,95,96,58,90,93,98,65,56,93,67,58,66,87,91,96,58,72,90,46,68,94,82,44,69,88,82,95,97,47,81,51,81,52,65,57,81,90,91,88,59,55,76,42,66,54,97,73,84,61,79,62,98,88,43,90,93,96,80,62,86,99,48,63,60,80,85,94,92,55,95,94,64,65,88,84,48,54,78,72,40,44,95,48,83,45,67,84,65,67,79,54,45,66,77,43,50,60,69,57,74,42,51,66,92,69,60,77,60,99,77,79,54,57,91,68,87,77,99,60,56,80,90,57,96,94,76,99,77,51,50,87,91,88,59,48,40,97,42,60,62,48,93,58,84,94,85,91,58,62,66,66,78,75,51,94,66,85,73,72,67,70,71,89,59,79,74,70,97,70,77,61,84,80,48,91,48,54,52,61,55,71,41,65,53,98,77,73,47,75,60,95,85,82,95,67,85,83,87,45,59,70,72,83,46,47,48,41,56,91,84,76,81,83,56,92,77,74,99,86,78,69,45,43,90,76,74,97,96,48,45,52,98,61,67,69,91,75,41,97,75,47,84,81,89,48,40,52,89,54,71,73,82,70,53,93,86,53,87,94,68,86,58,66,48,76,76,82,67,91,96,63,67,75,91,57,64,74,43,53,78,65,47,63,55,59,54,46,97,56,61,61,93,51,57,95,85,86,54,76,55,44,41,91,67,96,80,93,66,70,80,75,86,82,40,89,68,40,47,96,55,97,67,61,57,61,80,51,58,64,89,98,44,98,73,78,98,49,86,96,46,99,76,86,91,99,91,54,81,63,65,65,85,65,97,49,56,92,53,41,87,52,66,48,46,87,49,95,93,48,61,62,46,87,48,66,63,68,56,59,46,82,79,46,67,58,59,83,78,79,46,45,64,80,98,52,78,79,61,88,56,87,61,73,47,88,84,57,63,99,93,99,81,41,41,66,53,87,78,92,92,95,51,71,67,94,67,85,64,43,65,75,89,42,40,56,46,87,44,58,78,85,73,74,88,55,79,89,86,78,66,80,77,89,89,64,65,95,53,53,53,64,75,43,86,54,71,57,53,97,40,81,59,49,49,98,63,73,67,66,79,40,72,43,46,48,55,44,73,99,62,82,89,64,96,90,52,63,50,91,90,56,76,52,66,59,72,81,71,47,95,68,79,58,45,83,99,78,87,80,60,96,61,81,49,49,91,68,55,40,56,69,65,92,85,58,92,60,56,85,79,60,92,80,79,84,88,58,99,46,56,40,76,96,45,65,41,98,71,96,87,93,44,76,70,51,74,69,87,45,54,54,55,59,52,83,81,85,70,73,68,42,48,50,50,64,61,81,97,85,48,59,98,60,49,61,68,48,44,79,50,40,92,81,40,97,93,78,99,85,44,88,61,65,92,45,71,87,50,49,86,78,94,73,70,51,90,83,55,77,42,41,91,44,50,97,64,74,74,61,76,61,94,50,71,74,70,84,92,47,59,81,73,43,57,90,43,59,97,48,55,65,77,64,43,80,98,84,80,77,92,58,53,60,54,42,76,92,89,85,55,53,48,86,46,53,45,60,54,91,47,73,79,40,71,97,88,90,44,69,61,59,55,46,46,89,89,41,86,53,70,89,80,53,44,50,79,44,68,50,44,88,93,71,75,54,58,61,73,95,56,51,64,95,56,49,67,96,57,90,57,84,71,53,95,55,89,97,57,55,56,46,51,73,49,44,60,42,58,84,83,74,45,53,43,84,90,57,68,74,91,77,55,59,63,74,83,90,58,95,43,72,41,52,97,84,69,73,69,90,93,63,87,83,72,80,88,49,57,58,46,96,58,63,54,80,81,62,91,91,43,77,43,44,80,83,62,79,92,76,50,94,50,52,53,99,47,64,57,90,83,83,57,49,46,99,89,83,53,54,55,41,69,69,57,70,83,87,52,59,88,89,74,62,81,72,77,74,90,75,59,94,42,47,79,98,71,68,46,41,60,45,67,87,81,75,71,84,81,92,85,48,50,62,89,50,88,41,42,50,89,98,74,97,54,82,50,70,67,67,71,64,59,67,64,50,58,67,40,98,44,49,81,85,73,75,41,57,52,90,44,59,41,50,69,71,71,97,89,77,94,67,49,61,94,56,61,82,58,56,63,75,71,97,95,97,85,98,91,75,67,53,97,75,45,48,60,51,97,69,70,79,95,43,70,66,97,96,64,44,45,44,90,66,47,48,54,75,96,80,46,71,47,86,90,54,76,58,78,45,98,58,96,67,56,81,58,70,50,54,49,82,62,42,42,57,64,82,59,97,68,61,89,96,54,78,49,60,94,91,68,71,49,52,86,62,89,62,70,43,91,88,99,42,60,92,41,43,40,54,96,72,45,46,58,83,40,78,58,84,65,83,51,61,52,67,53,61,69,83,59,83,66,77,98,81,91,95,80,73,78,80,96,83,76,40,93,54,71,47,72,57,84,68,71,72,44,57,87,97,49,75,72,62,79,44,73,63,56,70,46,56,67,77,61,54,76,54,89,89,64,92,60,94,77,41,66,88,71,60,43,83,58,41,65,73,53,54,59,73,75,58,48,46,69,52,66,83,74,52,54,85,95,48,84,62,93,75,92,79,42,73,58,67,62,79,88,84,46,80,51,53,85,54,42,54,90,63,91,85,47,44,90,43,53,55,59,63,45,94,96,70,45,74,54,68,42,50,42,67,49,89,72,87,55,98,49,72,75,42,44,51,96,83,52,63,83,96,71,55,71,84,76,95,75,60,86,51,90,60,99,90,60,82,92,45,48,40,51,97,53,45,40,61,73,95,50,42,81,45,45,59,60,41,65,70,65,95,71,49,62,97,45,62,67,88,69,53,76,94,71,88,73,80,83,90,61,70,46,80,60,55,59,82,83,86,89,58,87,71,54,44,50,54,68,89,84,43,88,75,87,62,54,85,83,42,71,49,79,77,61,53,56,60,90,87,54,97,54,40,63,94,94,51,49,85,81,81,91,70,50,93,55,48,86,53,58,70,48,75,92,78,93,65,47,63,47,58,86,87,69,97,61,94,48,97,97,83,87,43,76,47,40,67,45,86,75,92,50,44,89,63,86,57,59,67,52,44,69,40,61,57,85,44,70,45,66,95,64,68,67,55,93,92,51,59,57,73,94,92,62,84,66,88,56,87,60,89,79,70,42,56,89,97,65,62,45,67,47,94,97,84,47,58,77,68,62,86,71,49,66,88,40,78,68,98,84,42,90,86,76,70,50,61,57,74,45,42,44,48,67,58,67,66,52,77,82,92,60,66,85,45,77,88,50,86,80,92,56,95,78,46,69,60,40,64,71,98,96,47,44,69,90,47,88,58,83,98,94,69,54,75,94,83,66,52,53,76,93,87,69,78,86,52,97,55,83,46,87,94,94,66,84,94,74,54,67,74,46,89,85,89,90,85,59,71,77,79,71,65,97,78,59,57,89,54,91,61,90,61,92,60,41,79,92,82,57,62,52,80,48,88,46,80,93,40,41,43,53,71,75,41,79,89,90,53,59,64,81,88,47,67,85,60,62,71,47,70,76,55,79,81,66,79,80,57,74,88,91,54,92,66,56,79,41,88,89,70,76,80,80,73,73,90,94,98,42,56,53,53,85,77,74,40,87,68,43,72,56,67,89,65,47,73,98,57,70,98,66,55,97,49,79,51,61,55,51,50,59,90,40,66,42,51,69,48,92,93,76,40,81,88,43,54,90,66,47,99,99,62,54,66,70,78,86,47,69,97,94,81,57,43,86,82,61,42,54,74,86,77,72,53,87,40,92,88,65,47,89,55,77,49,81,76,65,67,51,59,88,53,85,74,68,51,91,57,83,41,41,98,56,49,57,61,58,97,92,40,63,75,64,75,70,70,41,58,92,51,49,70,84,61,62,91,62,54,65,42,62,59,84,79,96,78,95,47,57,80,45,66,75,54,76,97,44,78,48,46,80,59,49,65,43,77,63,53,80,40,56,84,63,66,46,48,82,74,97,51,60,42,54,60,49,72,85,98,91,45,41,68,94,79,72,43,98,43,68,76,99,99,59,80,62,84,57,88,64,40,93,54,73,87,59,93,76,66,61,90,44,73,78,42,56,63,63,42,84,46,64,95,42,54,68,89,68,49,71,62,78,48,76,91,79,53,43,59,67,53,83,73,52,70,72,91,78,67,64,71,48,67,97,70,56,92,62,52,94,49,55,45,87,50,97,91,42,67,80,54,99,52,81,91,95,84,56,46,67,77,52,99,56,54,75,67,54,85,92,50,95,70,43,74,73,91,66,49,69,84,59,68,97,92,68,62,96,89,60,87,82,49,80,51,69,90,72,57,53,61,60,40,88,82,91,99,54,75,86,93,61,71,97,85,93,72,97,80,98,78,62,82,94,41,41,77,94,90,68,91,85,99,42,78,46,75,68,94,76,88,97,75,62,84,55,87,70,73,89,40,57,97,79,82,95,95,54,87,88,56,83,49,59,45,47,84,73,71,90,93,81,43,83,89,78,59,63,63,94,65,64,75,46,49,97,86,51,40,91,89,64,55,44,58,43,45,65,88,78,95,94,78,48,84,91,53,87,94,48,54,76,89,92,59,47,71,86,60,96,80,58,68,97,70,93,45,43,82,68,81,42,40,83,94,54,86,60,85,97,70,46,56,95,58,78,99,42,69,74,97,96,68,89,91,93,53,74,67,97,69,65,46,78,70,44,74,89,86,91,53,75,66,63,79,68,92,84,61,47,54,88,44,91,43,50,57,81,88,69,54,45,94,92,55,86,79,48,82,98,73,66,52,75,66,48,44,90,61,70,42,69,60,74,45,67,71,81,76,64,71,74,61,63,78,93,69,89,71,70,62,79,72,64,75,63,70,97,78,85,52,49,62,57,71,72,75,67,55,55,57,47,81,55,94,95,50,45,40,51,96,77,67,84,97,56,40,71,47,93,79,95,82,85,63,49,86,78,78,49,75,64,99,89,98,96,49,58,85,84,54,55,41,68,43,92,89,68,70,56,49,66,92,80,54,99,83,70,60,99,98,97,80,85,84,99,65,77,90,75,91,56,90,42,53,88,52,80,66,40,96,56,87,89,73,53,93,94,98,56,42,73,79,64,41,73,65,70,48,69,59,60,68,98,64,77,97,83,64,48,78,83,65,96,76,55,76,51,63,65,59,48,62,78,68,70,58,59,62,82,66,69,60,83,74,88,46,61,49,62,54,69,73,52,99,43,57,95,62,72,73,73,75,74,56,67,53,73,87,50,96,52,72,96,94,41,73,92,68,76,43,51,65,97,67,42,59,49,91,57,92,92,92,66,70,66,81,40,45,50,73,78,59,92,60,60,57,60,58,43,52,57,91,68,64,95,52,66,99,58,88,40,77,58,91,40,79,56,60,61,54,89,78,87,78,71,88,43,83,84,71,43,92,40,72,46,48,40,55,57,93,86,45,41,48,43,84,62,93,82,84,82,90,47,78,64,55,74,56,57,99,66,54,99,56,82,44,55,54,81,85,73,87,58,47,86,49,44,91,87,92,65,61,83,62,52,48,88,59,67,83,96,76,63,83,72,59,99,87,69,83,48,84,88,56,75,53,58,46,98,42,72,83,71,86,50,81,41,65,43,56,56,67,69,79,62,85,63,68,43,77,68,58,66,68,95,75,74,91,45,98,62,78,85,83,87,91,47,94,41,52,79,96,60,70,91,87,75,87,91,77,66,75,87,62,94,60,52,76,86,65,79,46,85,78,61,78,62,97,69,57,81,57,85,49,78,69,65,46,46,44,40,85,57,52,64,79,47,49,71,56,77,54,54,96,87,79,90,59,54,74,45,69,96,47,70,87,86,71,84,97,91,54,57,52,63,79,53,67,50,45,95,64,40,64,41,71,52,72,71,95,63,66,43,63,62,68,73,60,69,65,59,55,42,88,76,97,79,83,64,62,83,98,40,72,54,56,73,56,91,97,80,83,43,52,43,46,85,98,48,62,72,72,59,43,40,93,81,73,66,60,63,54,74,64,94,48,56,60,99,52,42,43,43,82,67,46,65,50,63,82,49,76,52,83,81,78,58,90,58,51,91,61,86,76,95,69,85,51,68,60,50,99,76,87,97,57,83,98,66,76,87,51,62,73,77,62,92,64,43,69,69,52,81,88,53,95,86,47,94,63,57,74,64,56,71,95,63,46,52,66,87,44,75,65,81,84,70,49,85,65,61,51,71,66,72,92,91,59,78,80,79,98,52,53,83,79,92,61,57,87,68,82,55,85,74,92,73,42,43,93,44,49,91,68,71,70,41,51,66,44,76,66,62,72,43,98,60,63,83,70,83,87,63,88,92,49,88,88,89,41,70,64,43,90,50,56,83,41,45,48,44,59,68,60,48,67,94,47,70,59,66,47,93,60,67,62,45,42,44,48,46,99,43,78,44,50,54,73,52,93,87,46,79,45,95,78,89,69,61,64,67,93,59,78,42,44,40,54,65,42,79,96,80,86,81,73,91,44,70,90,52,82,40,61,54,65,57,87,48,40,82,48,62,82,84,97,41,53,77,79,57,55,92,68,83,50,45,42,53,99,41,71,70,50,61,42,89,70,72,63,40,83,54,76,66,77,87,66,83,51,42,69,71,62,41,46,73,71,92,78,71,82,82,53,42,85,71,82,75,56,87,42,96,49,92,86,79,57,42,78,49,91,48,85,94,85,50,99,72,75,65,66,77,61,65,61,44,74,41,74,48,90,90,88,57,82,51,42,57,95,77,46,72,45,57,84,61,90,78,90,48,74,62,51,91,63,89,79,48,52,79,93,81,56,46,56,94,89,63,41,74,67,58,72,60,92,49,92,85,84,48,77,45,90,92,81,94,74,57,92,58,44,64,50,49,56,75,65,70,71,60,57,99,57,40,53,47,41,90,54,99,73,75,40,90,60,81,40,71,59,93,86,75,78,69,46,61,96,89,84,49,95,47,66,49,53,85,98,91,93,50,45,60,72,58,78,63,57,74,91,82,76,58,92,63,95,73,61,43,96,49,41,47,72,98,77,82,98,67,49,84,40,73,42,48,44,81,49,51,57,97,60,60,40,42,44,64,97,88,47,56,48,71,45,88,79,60,46,46,86,78,93,66,47,48,67,54,41,46,86,57,61,89,49,93,89,72,46,42,53,83,85,75,52,55,55,93,44,91,64,77,77,89,77,78,95,95,87,80,65,98,52,83,90,65,94,94,40,47,43,60,61,90,92,97,76,88,42,58,40,68,62,72,94,91,80,62,44,46,96,97,45,88,61,88,52,51,43,47,76,70,76,84,65,82,47,79,72,84,68,44,67,92,79,56,94,62,84,48,41,71,90,91,88,70,46,69,97,42,90,90,95,48,49,85,89,97,86,65,40,69,96,77,54,64,45,57,40,95,42,56,87,47,99,88,79,56,64,80,51,68,64,90,75,92,93,64,68,50,99,43,53,85,77,56,41,47,75,49,46,75,55,53,55,64,80,43,68,95,45,40,78,40,90,79,96,42,40,40,78,60,84,69,71,72,87,61,69,93,85,43,62,94,83,64,51,56,92,54,49,74,94,91,91,68,51,40,40,49,57,86,41,88,47,61,61,65,65,48,60,70,91,82,45,95,53,72,46,63,48,50,95,62,87,90,41,54,74,75,91,93,67,78,83,43,49,45,96,69,93,85,74,88,82,49,97,92,71,81,81,42,95,65,54,56,66,57,90,58,51,63,44,63,66,87,69,54,86,98,77,83,73,66,59,80,71,43,44,92,97,47,61,81,46,61,85,69,76,55,54,44,42,62,49,44,62,54,57,64,47,70,60,41,61,47,62,71,47,43,69,58,62,57,92,68,62,72,91,86,57,93,83,72,46,90,67,40,95,78,73,78,58,70,52,96,63,44,62,58,40,72,98,89,95,72,71,98,67,76,80,51,48,89,94,50,72,58,93,96,81,73,46,70,91,41,58,77,71,49,80,47,65,69,50,80,59,99,59,48,47,99,54,73,63,72,80,80,84,79,66,60,44,74,60,43,88,87,55,96,70,65,91,74,45,72,60,55,86,78,73,81,96,99,54,45,41,63,95,88,67,40,40,67,75,59,87,47,40,65,90,82,88,64,49,51,80,46,51,86,79,56,44,53,73,87,56,74,94,40,98,89,89,75,54,99,58,90,81,44,58,82,78,44,91,51,58,86,51,75,51,57,88,90,87,82,73,87,72,88,57,96,68,84,44,64,63,68,98,77,72,49,76,99,72,62,97,50,63,63,46,89,60,59,92,49,64,86,75,87,86,54,83,79,79,89,45,76,41,51,97,43,62,52,56,70,55,80,65,67,40,86,51,76,94,95,89,59,41,75,54,77,61,83,89,71,98,59,75,72,54,89,85,42,68,86,66,44,98,95,70,61,74,93,46,45,65,93,40,58,46,75,51,59,62,64,69,98,68,70,57,80,58,93,43,40,80,98,54,93,47,54,54,89,78,61,57,55,41,75,59,55,42,95,69,94,41,74,65,96,44,41,90,95,59,73,73,93,95,94,59,89,64,59,64,92,53,99,86,83,82,82,78,51,87,44,41,93,55,94,69,86,82,77,84,90,81,63,90,69,76,96,98,92,78,50,53,62,92,55,89,60,94,94,43,72,93,86,53,58,98,44,75,70,84,57,83,70,94,69,60,86,69,94,80,43,44,80,84,49,66,55,69,52,75,60,84,92,79,84,54,59,59,84,94,98,44,93,93,99,71,45,69,65,76,52,68,44,64,52,63,70,59,94,47,99,48,60,90,59,54,65,93,81,50,76,80,50,66,69,58,73,77,62,92,40,42,42,67,53,91,69,97,93,44,88,54,77,53,53,96,98,88,47,47,58,71,70,68,80,50,84,52,66,95,58,65,92,90,76,87,48,67,71,91,93,42,90,71,44,47,53,95,42,63,52,82,68,47,90,81,70,65,57,97,57,96,46,87,77,87,55,94,95,99,72,95,90,42,77,43,75,43,81,48,79,90,56,56,72,59,53,61,91,66,82,42,63,69,47,61,64,99,49,88,68,79,93,40,91,60,78,63,48,99,83,93,65,48,59,95,74,75,81,75,93,48,61,40,44,48,76,77,58,47,81,82,71,52,59,75,82,83,76,69,49,70,64,68,63,78,60,80,48,81,81,41,43,47,71,53,88,52,60,63,89,57,84,79,65,71,83,96,94,95,92,72,91,70,57,74,51,90,64,84,70,49,86,91,73,90,42,85,78,47,71,82,68,61,59,45,82,88,68,81,95,56,70,92,73,77,96,76,43,41,51,74,45,95,85,47,60,92,97,85,74,87,54,46,54,84,45,86,56,43,61,71,98,61,66,85,54,99,83,90,61,67,81,77,99,96,48,73,75,48,54,84,59,47,97,67,90,58,96,55,50,81,47,72,49,57,74,82,89,42,79,66,98,67,85,45,86,53,46,49,54,70,68,81,93,56,98,90,68,88,83,54,65,51,64,80,44,43,83,87,80,96,70,42,92,42,65,89,56,99,49,41,63,50,63,74,62,71,62,73,80,58,41,99,90,41,54,95,60,74,44,82,66,63,46,45,85,72,97,88,56,85,81,69,47,79,85,46,45,43,40,54,70,64,86,72,91,74,94,44,44,75,56,92,91,53,97,68,47,73,79,40,68,75,90,76,68,44,92,71,99,91,63,58,51,91,40,46,56,73,82,46,56,98,42,68,61,77,93,82,68,89,89,93,81,44,69,62,94,60,95,65,93,86,60,59,62,43,60,60,40,54,56,90,53,98,58,89,99,73,45,84,88,45,92,93,44,46,72,52,90,93,40,52,82,66,46,91,42,97,64,72,79,56,84,53,76,97,95,93,62,98,63,68,77,98,93,66,77,92,79,84,89,62,70,75,56,76,42,75,94,44,85,54,91,88,45,98,49,93,71,62,87,56,85,59,83,80,54,83,85,97,61,89,91,45,43,97,62,83,84,58,93,84,70,83,91,42,67,42,53,57,66,90,99,49,88,54,58,48,43,54,90,87,47,88,92,40,46,92,70,57,51,87,69,72,98,86,46,67,88,42,82,45,70,77,54,46,82,69,66,56,94,57,61,95,92,65,90,66,79,63,91,47,60,68,82,60,42,70,94,66,85,66,48,96,72,72,65,67,83,82,70,92,40,59,51,56,54,73,89,55,43,47,73,85,64,54,67,48,41,56,97,49,48,70,41,63,58,56,82,88,49,89,94,67,77,87,67,98,89,91,89,40,99,42,54,91,49,60,76,54,62,53,54,49,95,48,83,78,44,64,95,81,96,65,47,61,91,64,87,51,48,49,87,49,48,65,74,66,99,70,58,82,77,45,54,68,86,84,93,44,53,92,41,62,83,91,85,58,63,59,86,66,91,63,56,64,85,94,70,67,89,98,67,61,95,98,44,93,83,81,47,77,67,96,86,51,96,64,77,83,54,83,80,90,92,73,99,84,52,47,98,52,75,45,77,71,60,83,83,88,98,46,65,54,95,88,81,62,91,77,80,54,87,92,79,55,71,76,57,59,85,41,94,62,69,42,85,78,86,88,40,80,61,68,53,87,67,60,84,71,45,93,40,60,96,43,42,88,69,70,73,58,59,62,93,98,79,64,54,77,62,91,41,96,96,54,91,83,74,49,53,66,93,53,74,72,91,40,73,58,63,81,43,75,52,97,71,48,78,55,89,42,91,59,49,95,97,97,61,87,42,50,64,81,87,47,48,54,71,92,42,43,69,52,83,60,80,96,85,58,78,87,61,59,76,70,49,57,82,78,85,59,57,50,61,98,83,57,97,73,62,40,94,49,92,40,77,78,88,48,70,46,56,74,87,76,91,57,72,43,62,50,91,48,69,47,79,44,51,40,54,64,57,77,81,85,92,65,79,98,42,93,61,65,58,83,83,86,99,78,98,75,60,80,93,87,65,52,75,63,80,65,60,57,54,54,45,82,70,67,47,68,60,56,95,96,88,63,97,99,89,75,70,86,73,41,81,42,69,47,91,46,51,97,58,65,67,54,53,87,98,53,42,89,68,99,93,45,88,62,67,53,53,59,52,66,99,74,84,95,41,80,84,79,87,63,68,42,84,43,89,41,59,93,92,54,88,71,81,40,77,74,90,46,84,52,88,40,53,68,97,42,85,63,40,87,49,52,75,48,53,75,49,79,62,74,94,46,81,74,41,54,48,86,56,78,91,57,54,57,63,62,51,62,60,65,47,69,73,41,44,70,72,93,43,45,62,84,58,82,84,47,78,52,40,45,46,87,66,54,91,73,97,96,62,87,88,63,54,74,43,83,76,56,70,77,49,93,89,66,81,45,95,45,91,54,43,96,87,93,95,79,46,90,97,88,92,84,86,65,97,70,41,67,81,52,57,69,94,50,52,90,63,96,68,95,93,44,74,58,94,52,44,83,53,77,61,48,88,79,65,84,44,68,93,61,88,42,67,77,53,86,53,82,50,48,77,86,83,45,40,64,55,91,54,73,56,42,42,76,56,94,88,91,77,40,46,65,86,78,58,91,93,69,82,94,53,52,59,65,66,64,48,80,87,51,49,45,89,73,98,91,80,58,45,41,54,56,55,67,60,47,49,49,89,49,48,67,63,58,72,43,95,42,81,51,57,62,59,45,92,73,81,41,69,48,66,81,73,79,63,88,56,68,75,89,51,70,88,48,58,85,85,56,41,79,44,98,78,93,87,55,56,93,66,46,91,47,47,62,71,82,86,57,77,93,51,54,67,94,77,89,95,70,91,48,47,85,58,90,47,73,96,43,70,77,42,74,58,82,68,49,51,85,69,69,99,57,63,71,48,86,63,65,42,62,50,49,89,75,99,52,68,77,98,92,52,96,65,59,44,59,53,84,53,47,87,52,63,54,90,40,61,73,89,90,79,42,94,65,53,97,80,47,88,94,94,95,55,81,60,49,96,64,95,77,61,88,87,86,93,85,43,43,69,41,68,82,75,60,99,60,87,60,43,40,65,95,90,41,48,94,96,84,57,87,87,96,81,80,50,64,65,97,75,81,74,77,42,98,80,74,89,79,61,47,54,84,46,58,79,81,56,40,84,68,97,52,95,87,68,80,81,45,44,73,50,48,77,79,80,48,47,83,97,79,42,52,58,73,71,88,55,75,57,53,69,41,52,66,98,92,91,56,70,54,96,59,44,46,57,95,50,71,89,66,65,76,84,67,89,41,59,43,52,63,87,77,97,79,87,84,94,68,97,75,41,80,57,88,47,97,54,80,56,62,41,45,68,66,76,88,73,57,81,49,77,98,83,56,98,52,91,99,87,81,66,92,41,73,70,62,46,77,72,51,84,51,58,48,49,56,89,79,78,80,49,51,54,70,54,67,43,75,94,40,97,83,96,73,86,56,78,77,83,90,72,99,60,65,85,75,44,72,40,92,45,76,41,96,92,98,98,44,65,80,90,92,86,52,51,44,41,98,43,98,66,89,92,49,52,83,41,65,54,85,96,49,61,79,64,54,52,47,60,60,61,85,72,84,66,79,89,61,69,48,84,74,57,81,44,66,96,45,71,47,95,78,60,57,53,54,81,65,92,83,71,78,67,99,78,82,71,52,54,57,78,45,94,50,71,79,59,72,79,47,90,74,44,74,86,53,60,86,63,56,57,73,51,55,43,64,73,67,85,50,52,70,99,64,78,49,63,40,92,64,67,75,57,45,41,42,85,47,70,87,58,89,45,53,42,87,40,83,69,85,58,93,58,48,46,85,76,89,80,92,46,48,43,64,88,51,45,57,79,60,54,42,41,95,94,80,79,98,43,71,41,85,68,41,73,66,99,93,78,83,77,57,75,58,66,84,59,60,62,69,64,70,66,73,47,58,80,65,67,43,70,55,90,49,77,87,49,84,48,78,75,90,97,75,58,99,58,51,52,64,75,64,67,81,92,78,69,44,56,57,82,86,60,61,78,89,97,96,45,89,55,41,90,40,96,69,97,82,91,76,87,62,40,58,85,42,41,95,76,56,67,57,72,54,61,80,66,94,76,71,99,84,58,67,67,95,49,59,64,60,53,61,92,65,83,50,94,46,56,57,46,95,59,77,50,83,97,55,90,94,66,90,50,55,62,99,98,51,98,79,42,41,99,77,87,91,63,68,86,85,73,59,57,53,57,41,40,59,73,80,80,87,50,66,62,77,83,42,51,69,70,62,40,80,59,93,45,50,74,43,68,98,49,90,68,77,40,79,47,96,77,56,58,72,54,84,70,60,42,41,74,80,98,55,95,84,90,98,89,60,51,67,51,72,59,79,88,60,99,91,93,78,80,88,98,81,75,61,65,46,46,47,65,63,63,79,87,51,86,47,93,48,42,93,60,70,87,86,63,43,59,55,49,82,65,68,44,50,68,84,54,45,87,54,82,59,73,99,99,41,83,55,58,73,88,53,63,67,87,71,76,49,88,84,87,48,63,75,95,68,99,68,97,87,62,66,70,82,46,88,93,84,43,53,81,81,49,98,83,73,65,62,48,76,47,92,53,46,46,48,42,53,56,89,83,61,85,65,97,67,84,53,48,90,65,41,50,56,73,58,78,57,52,44,89,62,97,95,63,68,87,86,47,65,54,96,40,67,88,86,85,53,81,73,98,70,45,88,44,70,76,54,54,91,82,44,67,72,50,82,45,62,79,41,54,62,61,48,86,79,69,55,98,85,86,91,69,84,48,40,98,77,47,98,98,91,57,66,57,71,97,88,71,92,87,84,93,75,75,60,85,71,70,76,55,85,85,53,96,63,64,85,90,74,56,85,81,84,93,43,50,86,54,69,63,41,82,73,62,70,76,52,72,46,71,46,81,77,91,83,52,63,67,71,82,57,73,87,73,90,77,40,82,89,81,70,89,99,40,90,55,97,78,54,72,62,92,80,73,56,64,95,81,45,70,44,79,79,69,44,51,46,84,52,88,43,89,81,42,51,40,66,82,89,52,56,47,71,59,90,56,73,74,74,77,81,63,93,57,89,85,87,78,72,88,62,64,76,66,40,60,98,88,49,70,83,64,59,96,41,94,87,54,67,52,89,99,91,93,53,89,41,73,74,76,64,87,93,54,51,48,97,70,53,68,92,87,82,77,81,99,47,87,42,41,55,58,69,80,55,70,93,97,67,43,49,90,84,57,86,71,69,75,48,75,68,55,67,60,86,95,41,99,98,85,74,93,67,94,75,70,72,62,99,80,56,85,88,40,81,62,87,66,64,71,58,63,96,42,99,51,74,54,56,89,71,46,58,46,44,97,79,60,87,87,90,96,86,46,76,62,50,49,96,60,94,98,80,72,59,72,79,74,73,75,66,58,82,44,68,95,49,95,98,94,79,52,68,44,97,97,98,51,98,52,61,79,54,52,40,93,77,82,84,92,91,40,50,97,82,79,61,74,99,90,83,45,67,70,94,47,44,81,93,87,83,56,77,48,49,59,53,53,65,68,88,66,64,55,75,73,55,72,42,62,50,87,97,57,86,80,83,68,98,89,44,63,68,68,99,65,79,42,41,64,58,79,41,58,40,66,93,84,94,91,88,74,80,44,77,43,56,92,60,92,87,70,87,61,50,73,88,54,89,49,77,71,92,87,70,76,83,67,70,45,53,97,62,55,64,78,41,77,80,78,73,90,79,82,64,75,55,96,57,52,98,76,66,73,50,40,52,69,44,57,53,52,71,46,47,89,46,91,88,55,82,70,90,66,99,72,92,68,47,72,80,58,60,80,60,64,81,95,62,50,72,59,64,65,79,91,51,71,72,49,43,54,90,45,66,44,44,57,67,74,98,61,73,43,57,80,90,65,81,61,86,72,82,53,70,49,90,63,60,87,47,71,70,73,62,64,46,58,46,86,47,53,40,52,42,92,67,77,90,54,75,92,42,43,44,89,65,64,49,47,51,93,97,98,42,66,89,62,79,97,72,53,93,62,70,52,96,51,74,57,60,84,86,81,40,77,80,81,86,48,62,53,50,46,70,63,65,69,73,85,77,44,44,58,90,77,67,65,81,62,85,88,69,42,67,72,81,42,44,96,58,81,97,96,87,40,77,48,99,44,98,85,81,73,76,72,64,81,68,97,64,93,98,48,42,54,43,84,77,59,88,62,76,86,47,96,76,95,84,72,72,46,61,44,85,54,60,64,56,95,89,46,93,97,89,99,58,91,46,79,84,98,89,63,50,80,94,40,93,71,79,92,83,41,54,60,63,89,56,86,91,91,48,74,59,58,57,59,69,79,40,63,63,86,58,69,65,81,83,99,77,68,52,43,84,56,72,44,67,63,56,89,78,87,79,83,85,90,50,51,52,47,40,48,67,41,53,52,87,41,43,51,87,49,42,43,45,62,44,89,42,49,82,58,53,60,99,82,67,60,75,63,93,77,56,61,58,84,93,49,50,77,41,72,82,70,87,74,76,86,86,75,62,75,79,78,65,64,56,54,76,84,43,61,56,61,56,53,53,56,47,73,65,84,69,61,55,69,55,77,93,63,75,74,45,43,57,45,65,76,66,80,50,77,55,58,82,92,54,65,95,80,95,70,58,96,90,63,97,48,62,43,49,48,58,54,90,73,81,58,88,91,95,60,73,90,56,57,56,41,90,40,82,96,49,76,87,95,44,95,94,51,75,70,94,77,90,48,83,65,54,55,52,64,69,92,95,46,96,94,91,43,82,79,77,96,69,49,69,78,46,75,74,63,78,75,84,59,88,71,98,78,88,65,65,75,82,74,82,74,51,72,75,53,72,85,84,84,63,54,70,56,51,61,62,65,53,51,89,43,98,85,90,52,96,94,57,82,67,77,80,83,58,85,86,82,77,85,42,58,59,64,50,95,56,99,98,88,94,74,53,98,78,96,58,42,73,97,88,80,61,77,95,66,60,80,70,66,76,41,93,86,48,58,81,75,49,98,79,93,84,78,46,43,54,51,87,45,99,48,74,47,46,43,97,52,58,46,49,64,83,97,74],\"y\":[91.0,65.0,45.0,36.0,66.0,61.0,63.0,42.0,61.0,69.0,84.0,73.0,27.0,33.0,68.0,43.0,67.0,70.0,30.0,63.0,71.0,85.0,73.0,57.0,35.0,49.0,66.0,83.0,74.0,74.0,39.0,36.0,58.0,47.0,60.0,74.0,42.0,68.0,32.0,64.0,45.0,39.0,58.0,36.0,71.0,54.0,17.0,54.0,58.0,53.0,27.0,65.0,75.0,52.0,78.0,91.0,33.0,47.0,78.0,38.0,70.0,98.0,87.0,49.0,41.0,71.0,54.0,42.0,91.0,61.0,74.0,54.0,81.0,52.0,65.0,36.0,61.0,35.0,15.0,88.0,45.0,49.0,33.0,60.0,71.0,81.0,67.0,95.0,58.0,29.0,21.0,38.0,60.0,76.0,69.0,30.0,57.0,81.0,36.0,25.0,27.0,61.0,34.0,76.0,57.0,45.0,76.0,83.0,50.0,81.0,66.0,38.0,56.0,25.0,56.0,82.0,23.0,56.0,46.0,43.0,30.0,92.0,45.0,70.0,36.0,71.0,49.0,82.0,71.0,43.0,77.0,86.0,34.0,49.0,69.0,84.0,41.0,68.0,44.0,41.0,58.0,68.0,94.0,47.0,40.0,100.0,23.0,36.0,47.0,60.0,83.0,33.0,36.0,74.0,42.0,47.0,31.0,26.0,58.0,42.0,18.0,85.0,36.0,58.0,45.0,60.0,56.0,42.0,33.0,77.0,51.0,72.0,57.0,53.0,16.0,45.0,49.0,67.0,49.0,73.0,65.0,27.0,72.0,74.0,38.0,67.0,28.0,73.0,72.0,42.0,47.0,77.0,49.0,30.0,54.0,56.0,75.0,78.0,32.0,89.0,29.0,57.0,48.0,27.0,38.0,18.0,66.0,65.0,27.0,33.0,37.0,29.0,26.0,72.0,77.0,45.0,41.0,73.0,43.0,39.0,54.0,62.0,63.0,59.0,46.0,42.0,30.0,63.0,89.0,62.0,77.0,88.0,35.0,60.0,92.0,38.0,56.0,70.0,35.0,47.0,66.0,43.0,81.0,43.0,46.0,61.0,27.0,77.0,43.0,60.0,48.0,47.0,60.0,53.0,19.0,23.0,81.0,41.0,71.0,75.0,89.0,28.0,60.0,54.0,41.0,52.0,53.0,52.0,47.0,71.0,42.0,21.0,48.0,64.0,38.0,49.0,35.0,73.0,81.0,47.0,36.0,63.0,52.0,58.0,77.0,58.0,33.0,67.0,76.0,62.0,37.0,86.0,37.0,88.0,38.0,76.0,57.0,82.0,35.0,41.0,75.0,51.0,34.0,92.0,39.0,56.0,69.0,69.0,40.0,63.0,86.0,89.0,94.0,79.0,44.0,33.0,36.0,50.0,94.0,22.0,44.0,60.0,64.0,58.0,78.0,51.0,30.0,29.0,22.0,51.0,45.0,70.0,10.0,38.0,30.0,82.0,74.0,87.0,77.0,72.0,51.0,40.0,72.0,68.0,22.0,67.0,18.0,64.0,66.0,50.0,68.0,44.0,90.0,41.0,83.0,57.0,64.0,18.0,62.0,66.0,85.0,62.0,62.0,62.0,26.0,66.0,43.0,30.0,25.0,77.0,88.0,62.0,82.0,73.0,44.0,40.0,39.0,34.0,27.0,73.0,46.0,78.0,80.0,33.0,68.0,45.0,56.0,58.0,37.0,88.0,75.0,70.0,62.0,57.0,32.0,53.0,82.0,41.0,75.0,63.0,17.0,24.0,69.0,47.0,43.0,48.0,17.0,75.0,54.0,59.0,56.0,20.0,34.0,54.0,83.0,59.0,63.0,72.0,70.0,41.0,54.0,21.0,83.0,64.0,51.0,66.0,83.0,26.0,49.0,85.0,95.0,56.0,50.0,23.0,26.0,30.0,28.0,48.0,46.0,73.0,45.0,76.0,71.0,60.0,77.0,36.0,96.0,62.0,22.0,21.0,79.0,82.0,55.0,22.0,70.0,37.0,42.0,64.0,72.0,42.0,56.0,43.0,24.0,55.0,64.0,34.0,78.0,71.0,33.0,46.0,86.0,34.0,26.0,44.0,53.0,61.0,84.0,40.0,53.0,67.0,58.0,41.0,89.0,85.0,33.0,20.0,66.0,38.0,25.0,43.0,79.0,16.0,67.0,80.0,26.0,57.0,91.0,29.0,48.0,84.0,33.0,82.0,81.0,24.0,81.0,54.0,25.0,53.0,48.0,40.0,66.0,29.0,73.0,89.0,27.0,40.0,83.0,69.0,72.0,77.0,32.0,49.0,44.0,57.0,34.0,76.0,22.0,30.0,67.0,71.0,29.0,74.0,67.0,46.0,34.0,76.0,64.0,46.0,68.0,58.0,41.0,64.0,84.0,70.0,77.0,60.0,65.0,21.0,60.0,48.0,77.0,63.0,68.0,81.0,29.0,66.0,36.0,29.0,32.0,31.0,45.0,65.0,57.0,58.0,38.0,22.0,48.0,59.0,58.0,62.0,30.0,56.0,40.0,59.0,65.0,43.0,48.0,24.0,51.0,81.0,62.0,43.0,63.0,73.0,76.0,43.0,34.0,57.0,72.0,47.0,52.0,49.0,77.0,41.0,56.0,89.0,65.0,49.0,48.0,47.0,37.0,48.0,61.0,77.0,75.0,57.0,45.0,82.0,90.0,42.0,74.0,60.0,73.0,40.0,32.0,67.0,46.0,65.0,42.0,69.0,62.0,75.0,40.0,43.0,42.0,84.0,15.0,39.0,26.0,73.0,34.0,34.0,37.0,34.0,85.0,31.0,18.0,92.0,44.0,72.0,40.0,31.0,25.0,44.0,27.0,66.0,34.0,70.0,81.0,56.0,30.0,60.0,64.0,74.0,52.0,84.0,66.0,32.0,47.0,51.0,67.0,57.0,71.0,86.0,77.0,72.0,24.0,60.0,55.0,54.0,39.0,19.0,68.0,83.0,72.0,49.0,74.0,86.0,26.0,60.0,54.0,73.0,61.0,45.0,57.0,68.0,72.0,17.0,37.0,54.0,22.0,73.0,47.0,63.0,63.0,68.0,52.0,64.0,38.0,60.0,45.0,39.0,75.0,67.0,48.0,44.0,37.0,41.0,47.0,45.0,43.0,54.0,32.0,64.0,74.0,50.0,33.0,36.0,45.0,58.0,85.0,41.0,78.0,63.0,76.0,51.0,36.0,74.0,65.0,65.0,79.0,46.0,47.0,42.0,46.0,34.0,27.0,52.0,17.0,53.0,84.0,39.0,44.0,36.0,81.0,30.0,80.0,41.0,77.0,69.0,34.0,64.0,78.0,74.0,52.0,76.0,53.0,46.0,77.0,59.0,35.0,61.0,46.0,97.0,86.0,24.0,37.0,18.0,84.0,59.0,29.0,84.0,60.0,78.0,46.0,31.0,68.0,25.0,37.0,62.0,69.0,50.0,55.0,54.0,12.0,88.0,69.0,88.0,41.0,83.0,62.0,45.0,42.0,65.0,73.0,23.0,61.0,41.0,85.0,93.0,35.0,92.0,79.0,57.0,49.0,28.0,85.0,82.0,80.0,41.0,57.0,41.0,43.0,73.0,46.0,61.0,61.0,87.0,78.0,43.0,75.0,72.0,18.0,36.0,92.0,71.0,58.0,69.0,58.0,74.0,72.0,61.0,74.0,60.0,70.0,27.0,49.0,17.0,34.0,51.0,27.0,67.0,84.0,81.0,45.0,50.0,67.0,67.0,77.0,70.0,59.0,27.0,88.0,60.0,14.0,27.0,54.0,32.0,79.0,44.0,20.0,42.0,33.0,58.0,31.0,75.0,22.0,46.0,68.0,66.0,60.0,44.0,90.0,47.0,88.0,56.0,66.0,78.0,43.0,72.0,69.0,24.0,47.0,45.0,72.0,51.0,73.0,28.0,56.0,29.0,60.0,28.0,66.0,21.0,84.0,42.0,51.0,74.0,50.0,62.0,90.0,32.0,71.0,37.0,42.0,85.0,96.0,51.0,82.0,64.0,67.0,32.0,50.0,73.0,62.0,48.0,20.0,33.0,43.0,49.0,70.0,28.0,82.0,29.0,42.0,79.0,41.0,61.0,69.0,68.0,38.0,67.0,54.0,39.0,93.0,76.0,39.0,38.0,69.0,88.0,54.0,68.0,33.0,40.0,87.0,64.0,70.0,70.0,72.0,38.0,71.0,40.0,58.0,77.0,38.0,60.0,57.0,63.0,82.0,84.0,84.0,77.0,61.0,73.0,15.0,64.0,33.0,78.0,43.0,34.0,48.0,66.0,60.0,53.0,51.0,43.0,68.0,80.0,26.0,70.0,85.0,57.0,30.0,56.0,53.0,52.0,47.0,48.0,78.0,79.0,75.0,40.0,59.0,49.0,48.0,60.0,29.0,68.0,63.0,71.0,76.0,57.0,54.0,61.0,34.0,32.0,23.0,44.0,18.0,82.0,18.0,52.0,88.0,78.0,26.0,26.0,74.0,52.0,40.0,54.0,51.0,35.0,79.0,45.0,81.0,87.0,56.0,65.0,38.0,17.0,35.0,20.0,75.0,26.0,23.0,38.0,78.0,91.0,67.0,31.0,49.0,57.0,45.0,22.0,35.0,65.0,53.0,79.0,57.0,58.0,50.0,75.0,17.0,70.0,36.0,61.0,78.0,71.0,36.0,63.0,78.0,39.0,70.0,34.0,49.0,71.0,34.0,77.0,67.0,52.0,25.0,68.0,76.0,85.0,40.0,56.0,62.0,99.0,46.0,86.0,73.0,74.0,37.0,50.0,65.0,79.0,53.0,55.0,31.0,47.0,63.0,27.0,53.0,33.0,56.0,65.0,55.0,67.0,32.0,73.0,45.0,43.0,32.0,42.0,55.0,28.0,58.0,67.0,66.0,46.0,79.0,83.0,63.0,45.0,63.0,70.0,58.0,50.0,77.0,75.0,40.0,43.0,47.0,22.0,71.0,63.0,37.0,72.0,73.0,72.0,68.0,59.0,97.0,83.0,65.0,47.0,51.0,32.0,63.0,60.0,70.0,32.0,32.0,29.0,21.0,74.0,81.0,11.0,65.0,37.0,75.0,61.0,17.0,87.0,52.0,71.0,46.0,99.0,40.0,42.0,91.0,57.0,58.0,55.0,46.0,64.0,45.0,78.0,24.0,36.0,65.0,35.0,87.0,45.0,35.0,18.0,46.0,63.0,62.0,35.0,63.0,58.0,37.0,74.0,40.0,78.0,38.0,55.0,39.0,84.0,60.0,47.0,34.0,54.0,56.0,82.0,45.0,45.0,43.0,57.0,56.0,56.0,30.0,75.0,33.0,80.0,27.0,26.0,81.0,41.0,34.0,68.0,83.0,44.0,75.0,52.0,56.0,37.0,67.0,50.0,46.0,31.0,51.0,82.0,58.0,31.0,29.0,40.0,51.0,79.0,52.0,36.0,43.0,81.0,81.0,84.0,55.0,64.0,68.0,41.0,53.0,50.0,65.0,78.0,31.0,30.0,64.0,26.0,66.0,55.0,52.0,57.0,68.0,57.0,75.0,54.0,82.0,51.0,43.0,68.0,77.0,33.0,37.0,23.0,26.0,56.0,42.0,65.0,66.0,57.0,59.0,28.0,46.0,84.0,42.0,73.0,77.0,74.0,75.0,94.0,27.0,89.0,62.0,59.0,73.0,57.0,90.0,80.0,50.0,18.0,68.0,39.0,67.0,69.0,43.0,84.0,50.0,65.0,74.0,35.0,61.0,64.0,66.0,81.0,93.0,28.0,71.0,13.0,59.0,67.0,35.0,46.0,59.0,57.0,51.0,80.0,22.0,71.0,73.0,40.0,75.0,24.0,45.0,25.0,42.0,63.0,44.0,26.0,31.0,26.0,15.0,77.0,31.0,75.0,34.0,74.0,68.0,64.0,43.0,54.0,53.0,56.0,34.0,27.0,66.0,41.0,25.0,20.0,45.0,70.0,86.0,46.0,73.0,42.0,27.0,64.0,71.0,56.0,43.0,50.0,31.0,42.0,60.0,76.0,28.0,45.0,71.0,44.0,48.0,57.0,61.0,86.0,95.0,70.0,81.0,18.0,24.0,32.0,40.0,25.0,41.0,66.0,83.0,22.0,70.0,42.0,56.0,72.0,31.0,60.0,74.0,62.0,44.0,46.0,96.0,51.0,43.0,51.0,58.0,23.0,67.0,50.0,31.0,83.0,55.0,44.0,45.0,73.0,76.0,23.0,84.0,73.0,48.0,50.0,30.0,51.0,76.0,66.0,50.0,40.0,42.0,29.0,77.0,45.0,49.0,74.0,45.0,27.0,44.0,42.0,43.0,68.0,29.0,73.0,39.0,30.0,53.0,38.0,82.0,72.0,24.0,44.0,45.0,75.0,75.0,26.0,49.0,42.0,14.0,64.0,54.0,16.0,73.0,67.0,69.0,28.0,67.0,62.0,60.0,43.0,70.0,70.0,84.0,72.0,44.0,46.0,41.0,58.0,44.0,89.0,45.0,87.0,61.0,41.0,57.0,62.0,39.0,54.0,33.0,42.0,70.0,67.0,80.0,44.0,69.0,66.0,35.0,61.0,68.0,55.0,36.0,56.0,58.0,40.0,68.0,43.0,61.0,45.0,36.0,67.0,67.0,29.0,31.0,74.0,37.0,79.0,76.0,45.0,65.0,72.0,62.0,19.0,39.0,93.0,62.0,37.0,34.0,23.0,79.0,51.0,18.0,41.0,57.0,36.0,47.0,65.0,57.0,22.0,20.0,27.0,64.0,32.0,29.0,62.0,56.0,43.0,70.0,49.0,68.0,66.0,31.0,44.0,65.0,36.0,27.0,71.0,76.0,31.0,26.0,69.0,90.0,79.0,33.0,40.0,58.0,28.0,50.0,37.0,15.0,50.0,55.0,25.0,79.0,79.0,36.0,69.0,83.0,44.0,36.0,84.0,58.0,44.0,36.0,23.0,33.0,31.0,90.0,45.0,40.0,81.0,47.0,75.0,61.0,37.0,75.0,63.0,61.0,70.0,91.0,80.0,83.0,72.0,35.0,41.0,57.0,43.0,55.0,42.0,59.0,90.0,79.0,89.0,87.0,50.0,33.0,58.0,68.0,33.0,73.0,50.0,59.0,93.0,47.0,89.0,47.0,77.0,53.0,87.0,53.0,28.0,66.0,23.0,28.0,89.0,38.0,37.0,66.0,44.0,33.0,67.0,76.0,33.0,59.0,39.0,55.0,96.0,30.0,80.0,75.0,19.0,71.0,67.0,16.0,45.0,44.0,50.0,37.0,15.0,71.0,42.0,49.0,41.0,40.0,25.0,62.0,93.0,19.0,77.0,52.0,41.0,69.0,82.0,82.0,49.0,82.0,40.0,48.0,28.0,60.0,43.0,59.0,71.0,52.0,27.0,28.0,62.0,27.0,55.0,39.0,66.0,46.0,47.0,59.0,46.0,47.0,39.0,67.0,26.0,68.0,49.0,45.0,88.0,67.0,54.0,75.0,67.0,91.0,30.0,29.0,75.0,41.0,84.0,31.0,64.0,48.0,29.0,33.0,59.0,45.0,86.0,65.0,73.0,50.0,20.0,36.0,78.0,65.0,48.0,49.0,32.0,69.0,41.0,77.0,60.0,88.0,61.0,69.0,29.0,73.0,22.0,93.0,46.0,74.0,83.0,84.0,71.0,82.0,49.0,27.0,29.0,50.0,53.0,80.0,21.0,39.0,74.0,76.0,43.0,61.0,48.0,48.0,40.0,40.0,80.0,90.0,36.0,48.0,60.0,76.0,47.0,73.0,22.0,74.0,58.0,76.0,59.0,55.0,33.0,50.0,37.0,58.0,36.0,25.0,62.0,57.0,39.0,84.0,45.0,72.0,45.0,63.0,50.0,53.0,36.0,97.0,49.0,40.0,43.0,60.0,85.0,26.0,53.0,53.0,34.0,63.0,31.0,71.0,67.0,57.0,46.0,34.0,76.0,65.0,84.0,38.0,27.0,49.0,52.0,86.0,74.0,64.0,53.0,87.0,43.0,37.0,68.0,32.0,49.0,56.0,52.0,41.0,87.0,34.0,32.0,89.0,46.0,36.0,51.0,46.0,72.0,27.0,59.0,25.0,67.0,24.0,82.0,35.0,88.0,87.0,79.0,58.0,76.0,34.0,95.0,93.0,67.0,85.0,36.0,38.0,66.0,78.0,58.0,48.0,41.0,61.0,42.0,50.0,40.0,94.0,84.0,59.0,39.0,49.0,59.0,49.0,89.0,73.0,40.0,79.0,74.0,49.0,35.0,39.0,83.0,56.0,46.0,95.0,86.0,39.0,70.0,51.0,41.0,53.0,71.0,31.0,63.0,61.0,65.0,63.0,63.0,58.0,62.0,61.0,40.0,39.0,89.0,40.0,35.0,55.0,60.0,45.0,76.0,38.0,73.0,72.0,68.0,27.0,33.0,28.0,46.0,52.0,72.0,58.0,69.0,54.0,85.0,33.0,33.0,67.0,80.0,25.0,76.0,53.0,63.0,75.0,38.0,79.0,63.0,60.0,49.0,66.0,71.0,66.0,41.0,67.0,46.0,86.0,37.0,42.0,77.0,32.0,47.0,54.0,60.0,89.0,34.0,59.0,52.0,84.0,57.0,30.0,47.0,15.0,49.0,74.0,45.0,61.0,67.0,64.0,73.0,68.0,33.0,60.0,30.0,82.0,33.0,28.0,64.0,88.0,35.0,30.0,60.0,66.0,52.0,39.0,45.0,64.0,66.0,61.0,76.0,49.0,43.0,45.0,49.0,27.0,50.0,52.0,72.0,62.0,80.0,53.0,42.0,37.0,77.0,73.0,46.0,54.0,70.0,60.0,67.0,58.0,63.0,83.0,64.0,57.0,45.0,61.0,68.0,45.0,39.0,77.0,55.0,38.0,40.0,49.0,74.0,86.0,72.0,72.0,77.0,76.0,67.0,52.0,52.0,67.0,66.0,74.0,40.0,44.0,97.0,48.0,65.0,57.0,19.0,68.0,48.0,34.0,67.0,15.0,83.0,83.0,46.0,57.0,42.0,51.0,24.0,64.0,94.0,50.0,41.0,45.0,37.0,75.0,80.0,94.0,62.0,73.0,43.0,78.0,51.0,24.0,46.0,51.0,35.0,75.0,38.0,79.0,42.0,89.0,66.0,100.0,34.0,59.0,28.0,39.0,36.0,52.0,57.0,66.0,95.0,79.0,42.0,23.0,67.0,64.0,43.0,56.0,43.0,55.0,16.0,65.0,38.0,57.0,83.0,47.0,71.0,56.0,57.0,23.0,27.0,65.0,54.0,50.0,23.0,77.0,83.0,66.0,38.0,65.0,54.0,65.0,68.0,31.0,83.0,49.0,45.0,46.0,85.0,33.0,83.0,71.0,49.0,39.0,51.0,57.0,81.0,65.0,66.0,86.0,66.0,50.0,46.0,20.0,58.0,38.0,91.0,77.0,83.0,79.0,50.0,51.0,49.0,79.0,26.0,42.0,42.0,35.0,31.0,50.0,18.0,50.0,82.0,78.0,53.0,65.0,76.0,94.0,79.0,27.0,43.0,30.0,37.0,90.0,68.0,64.0,73.0,53.0,46.0,37.0,29.0,80.0,52.0,29.0,70.0,40.0,49.0,92.0,46.0,42.0,41.0,60.0,41.0,83.0,43.0,36.0,38.0,47.0,40.0,59.0,76.0,31.0,44.0,71.0,59.0,69.0,63.0,87.0,77.0,31.0,47.0,78.0,86.0,48.0,24.0,39.0,71.0,60.0,54.0,45.0,51.0,78.0,48.0,59.0,28.0,35.0,55.0,69.0,87.0,32.0,37.0,66.0,66.0,56.0,70.0,48.0,17.0,59.0,56.0,66.0,41.0,76.0,54.0,57.0,62.0,38.0,73.0,72.0,28.0,28.0,67.0,62.0,36.0,33.0,74.0,52.0,38.0,62.0,50.0,48.0,15.0,51.0,37.0,59.0,46.0,78.0,74.0,78.0,27.0,74.0,15.0,46.0,90.0,58.0,65.0,65.0,36.0,52.0,79.0,74.0,93.0,57.0,65.0,69.0,71.0,31.0,78.0,60.0,58.0,46.0,87.0,81.0,69.0,46.0,41.0,50.0,24.0,97.0,35.0,82.0,24.0,59.0,42.0,56.0,30.0,49.0,56.0,98.0,79.0,54.0,93.0,63.0,76.0,27.0,35.0,39.0,59.0,50.0,77.0,70.0,62.0,71.0,39.0,41.0,51.0,52.0,49.0,76.0,71.0,42.0,60.0,53.0,40.0,85.0,70.0,63.0,42.0,73.0,35.0,48.0,49.0,75.0,35.0,70.0,71.0,74.0,77.0,30.0,13.0,26.0,35.0,40.0,55.0,37.0,64.0,23.0,27.0,42.0,34.0,63.0,50.0,75.0,74.0,39.0,63.0,36.0,84.0,30.0,60.0,61.0,70.0,32.0,87.0,72.0,68.0,29.0,78.0,45.0,20.0,66.0,77.0,72.0,26.0,67.0,67.0,68.0,56.0,61.0,50.0,68.0,47.0,56.0,40.0,68.0,26.0,55.0,84.0,40.0,85.0,85.0,40.0,68.0,74.0,90.0,82.0,57.0,61.0,38.0,46.0,80.0,67.0,84.0,58.0,55.0,57.0,87.0,80.0,54.0,64.0,33.0,83.0,66.0,33.0,31.0,40.0,66.0,67.0,64.0,52.0,68.0,58.0,72.0,65.0,65.0,24.0,35.0,34.0,57.0,54.0,42.0,39.0,62.0,71.0,42.0,52.0,54.0,68.0,50.0,46.0,68.0,19.0,68.0,74.0,63.0,60.0,47.0,47.0,87.0,45.0,31.0,61.0,73.0,92.0,65.0,69.0,20.0,66.0,38.0,81.0,39.0,53.0,44.0,58.0,79.0,75.0,59.0,23.0,74.0,65.0,60.0,32.0,38.0,91.0,34.0,46.0,55.0,43.0,67.0,56.0,58.0,60.0,77.0,69.0,60.0,52.0,36.0,49.0,50.0,48.0,43.0,34.0,57.0,50.0,28.0,72.0,38.0,68.0,41.0,53.0,36.0,80.0,73.0,59.0,67.0,91.0,34.0,23.0,86.0,73.0,49.0,43.0,61.0,45.0,85.0,75.0,44.0,66.0,45.0,40.0,38.0,50.0,67.0,21.0,51.0,25.0,53.0,71.0,77.0,75.0,60.0,49.0,87.0,40.0,56.0,49.0,59.0,59.0,54.0,17.0,90.0,23.0,82.0,49.0,50.0,60.0,60.0,74.0,71.0,77.0,34.0,39.0,85.0,64.0,87.0,91.0,73.0,34.0,70.0,42.0,55.0,45.0,49.0,37.0,55.0,38.0,35.0,41.0,43.0,46.0,69.0,37.0,31.0,90.0,33.0,44.0,62.0,41.0,38.0,45.0,34.0,72.0,29.0,83.0,61.0,75.0,63.0,36.0,62.0,49.0,46.0,69.0,35.0,38.0,62.0,30.0,52.0,16.0,66.0,20.0,86.0,38.0,30.0,71.0,49.0,79.0,69.0,56.0,47.0,41.0,58.0,38.0,52.0,25.0,62.0,60.0,63.0,72.0,84.0,74.0,61.0,77.0,36.0,65.0,23.0,60.0,83.0,56.0,37.0,43.0,76.0,83.0,63.0,39.0,48.0,53.0,84.0,63.0,73.0,99.0,52.0,58.0,50.0,18.0,62.0,87.0,53.0,87.0,37.0,31.0,63.0,81.0,95.0,45.0,48.0,47.0,31.0,43.0,82.0,80.0,76.0,57.0,64.0,35.0,24.0,30.0,38.0,45.0,44.0,53.0,53.0,84.0,47.0,76.0,57.0,71.0,74.0,54.0,84.0,62.0,35.0,62.0,30.0,47.0,25.0,40.0,56.0,38.0,86.0,38.0,17.0,75.0,48.0,87.0,32.0,68.0,42.0,96.0,42.0,18.0,41.0,54.0,67.0,57.0,65.0,62.0,56.0,39.0,38.0,65.0,68.0,82.0,44.0,67.0,53.0,61.0,53.0,61.0,49.0,61.0,38.0,76.0,47.0,32.0,71.0,69.0,53.0,100.0,49.0,48.0,45.0,40.0,71.0,34.0,76.0,29.0,71.0,69.0,58.0,43.0,17.0,41.0,27.0,45.0,65.0,31.0,14.0,33.0,60.0,34.0,82.0,40.0,66.0,76.0,46.0,31.0,57.0,65.0,38.0,46.0,53.0,97.0,63.0,55.0,79.0,26.0,55.0,37.0,78.0,45.0,45.0,34.0,66.0,79.0,63.0,32.0,64.0,78.0,69.0,46.0,54.0,51.0,78.0,54.0,80.0,67.0,48.0,61.0,83.0,82.0,78.0,78.0,70.0,48.0,26.0,46.0,42.0,46.0,91.0,47.0,61.0,31.0,71.0,66.0,52.0,71.0,60.0,32.0,33.0,56.0,32.0,76.0,40.0,60.0,54.0,59.0,74.0,29.0,61.0,50.0,36.0,41.0,60.0,56.0,23.0,63.0,54.0,64.0,64.0,58.0,38.0,60.0,79.0,57.0,69.0,51.0,86.0,90.0,57.0,61.0,71.0,30.0,34.0,34.0,58.0,85.0,55.0,51.0,53.0,51.0,31.0,44.0,48.0,41.0,40.0,72.0,41.0,78.0,70.0,41.0,78.0,70.0,61.0,33.0,71.0,51.0,72.0,69.0,21.0,61.0,76.0,30.0,59.0,45.0,39.0,53.0,43.0,85.0,70.0,56.0,52.0,65.0,39.0,48.0,47.0,41.0,72.0,61.0,74.0,38.0,42.0,60.0,35.0,52.0,61.0,32.0,95.0,53.0,54.0,70.0,78.0,42.0,33.0,75.0,26.0,58.0,29.0,29.0,70.0,67.0,93.0,21.0,74.0,82.0,65.0,75.0,55.0,54.0,26.0,48.0,49.0,49.0,64.0,81.0,64.0,82.0,74.0,32.0,83.0,68.0,90.0,44.0,51.0,86.0,62.0,48.0,56.0,79.0,74.0,82.0,32.0,46.0,88.0,35.0,56.0,74.0,67.0,23.0,67.0,86.0,70.0,68.0,91.0,42.0,62.0,44.0,67.0,35.0,46.0,31.0,59.0,71.0,74.0,80.0,49.0,39.0,67.0,38.0,47.0,41.0,75.0,53.0,81.0,37.0,77.0,36.0,95.0,65.0,18.0,80.0,81.0,73.0,74.0,57.0,64.0,97.0,42.0,48.0,46.0,79.0,83.0,70.0,73.0,56.0,71.0,76.0,49.0,43.0,67.0,63.0,18.0,43.0,72.0,57.0,25.0,15.0,88.0,24.0,81.0,40.0,60.0,73.0,52.0,53.0,65.0,30.0,39.0,43.0,59.0,38.0,44.0,44.0,53.0,37.0,52.0,30.0,22.0,51.0,82.0,63.0,58.0,58.0,38.0,80.0,70.0,72.0,48.0,36.0,73.0,51.0,63.0,74.0,98.0,45.0,45.0,74.0,81.0,30.0,77.0,86.0,58.0,99.0,69.0,47.0,42.0,73.0,71.0,68.0,47.0,31.0,31.0,86.0,27.0,32.0,41.0,33.0,75.0,57.0,59.0,87.0,72.0,78.0,46.0,47.0,58.0,63.0,56.0,62.0,23.0,73.0,46.0,80.0,59.0,60.0,41.0,61.0,51.0,82.0,55.0,64.0,61.0,44.0,81.0,64.0,53.0,55.0,72.0,65.0,44.0,70.0,34.0,41.0,43.0,48.0,46.0,47.0,37.0,56.0,40.0,96.0,63.0,58.0,36.0,61.0,39.0,90.0,79.0,58.0,89.0,64.0,78.0,79.0,72.0,26.0,52.0,49.0,66.0,59.0,28.0,39.0,31.0,33.0,57.0,83.0,69.0,71.0,62.0,58.0,46.0,93.0,48.0,68.0,97.0,82.0,57.0,55.0,37.0,35.0,72.0,51.0,50.0,82.0,84.0,46.0,34.0,55.0,95.0,40.0,42.0,45.0,80.0,60.0,21.0,95.0,72.0,35.0,58.0,59.0,77.0,23.0,26.0,39.0,79.0,39.0,61.0,47.0,63.0,61.0,51.0,68.0,66.0,29.0,78.0,94.0,56.0,68.0,50.0,62.0,31.0,73.0,57.0,60.0,56.0,88.0,84.0,48.0,41.0,65.0,74.0,38.0,40.0,49.0,30.0,29.0,57.0,58.0,40.0,60.0,41.0,34.0,46.0,24.0,79.0,52.0,36.0,52.0,84.0,50.0,47.0,81.0,70.0,77.0,49.0,70.0,28.0,36.0,34.0,80.0,51.0,95.0,60.0,78.0,65.0,57.0,75.0,69.0,62.0,63.0,11.0,91.0,58.0,15.0,24.0,80.0,36.0,83.0,49.0,41.0,33.0,52.0,52.0,31.0,38.0,45.0,79.0,78.0,24.0,72.0,52.0,50.0,83.0,32.0,84.0,95.0,43.0,82.0,54.0,59.0,78.0,79.0,87.0,53.0,65.0,48.0,61.0,41.0,75.0,44.0,79.0,29.0,44.0,85.0,40.0,36.0,72.0,36.0,51.0,38.0,28.0,59.0,30.0,88.0,87.0,27.0,51.0,59.0,23.0,71.0,33.0,38.0,45.0,67.0,49.0,44.0,22.0,79.0,74.0,26.0,49.0,33.0,53.0,53.0,69.0,65.0,37.0,28.0,56.0,64.0,83.0,50.0,77.0,79.0,49.0,77.0,40.0,83.0,53.0,66.0,42.0,76.0,75.0,40.0,45.0,73.0,84.0,84.0,71.0,23.0,24.0,64.0,38.0,74.0,58.0,78.0,88.0,76.0,48.0,59.0,46.0,84.0,61.0,76.0,49.0,30.0,47.0,70.0,69.0,35.0,20.0,55.0,19.0,74.0,42.0,34.0,59.0,67.0,70.0,61.0,76.0,44.0,50.0,68.0,87.0,60.0,47.0,55.0,73.0,87.0,66.0,56.0,59.0,83.0,26.0,41.0,45.0,63.0,50.0,15.0,79.0,49.0,63.0,42.0,32.0,84.0,26.0,62.0,33.0,28.0,36.0,73.0,37.0,53.0,48.0,48.0,54.0,12.0,46.0,24.0,26.0,42.0,28.0,20.0,61.0,80.0,62.0,59.0,74.0,59.0,68.0,66.0,43.0,44.0,34.0,62.0,77.0,44.0,69.0,35.0,50.0,50.0,54.0,59.0,60.0,25.0,94.0,53.0,59.0,53.0,29.0,73.0,87.0,72.0,82.0,60.0,38.0,89.0,45.0,57.0,27.0,31.0,86.0,45.0,30.0,28.0,43.0,43.0,52.0,68.0,73.0,56.0,78.0,49.0,52.0,62.0,59.0,60.0,71.0,68.0,68.0,63.0,77.0,43.0,77.0,28.0,47.0,34.0,64.0,88.0,21.0,53.0,34.0,83.0,67.0,75.0,88.0,87.0,32.0,50.0,50.0,38.0,57.0,64.0,71.0,19.0,38.0,52.0,27.0,32.0,45.0,61.0,57.0,83.0,48.0,50.0,61.0,29.0,37.0,39.0,39.0,54.0,46.0,78.0,83.0,64.0,26.0,41.0,76.0,35.0,39.0,39.0,54.0,28.0,30.0,81.0,24.0,32.0,87.0,66.0,13.0,76.0,68.0,57.0,98.0,69.0,34.0,68.0,47.0,60.0,83.0,25.0,50.0,87.0,22.0,22.0,62.0,72.0,66.0,71.0,53.0,32.0,65.0,65.0,50.0,66.0,29.0,13.0,66.0,32.0,26.0,75.0,46.0,62.0,69.0,43.0,74.0,43.0,86.0,24.0,67.0,71.0,48.0,64.0,88.0,39.0,35.0,67.0,65.0,27.0,32.0,89.0,30.0,37.0,91.0,26.0,32.0,34.0,51.0,56.0,26.0,73.0,80.0,69.0,73.0,55.0,82.0,32.0,41.0,55.0,43.0,20.0,50.0,90.0,82.0,85.0,49.0,24.0,25.0,76.0,33.0,48.0,21.0,58.0,40.0,67.0,35.0,68.0,66.0,16.0,57.0,73.0,64.0,77.0,46.0,50.0,50.0,51.0,43.0,40.0,30.0,63.0,82.0,20.0,73.0,32.0,67.0,69.0,67.0,44.0,29.0,38.0,52.0,25.0,46.0,42.0,24.0,70.0,78.0,51.0,61.0,38.0,34.0,42.0,68.0,87.0,53.0,39.0,45.0,89.0,53.0,39.0,59.0,81.0,40.0,64.0,53.0,56.0,44.0,41.0,91.0,46.0,65.0,76.0,50.0,45.0,55.0,33.0,37.0,63.0,24.0,37.0,39.0,41.0,46.0,78.0,69.0,71.0,28.0,45.0,20.0,81.0,85.0,42.0,46.0,60.0,82.0,55.0,44.0,47.0,41.0,48.0,62.0,64.0,40.0,70.0,39.0,63.0,32.0,37.0,75.0,72.0,63.0,64.0,69.0,63.0,65.0,44.0,65.0,81.0,45.0,59.0,67.0,34.0,46.0,35.0,22.0,72.0,47.0,55.0,47.0,55.0,74.0,49.0,68.0,72.0,32.0,51.0,34.0,33.0,56.0,54.0,33.0,78.0,77.0,62.0,51.0,78.0,46.0,50.0,47.0,74.0,47.0,52.0,54.0,69.0,64.0,69.0,58.0,37.0,26.0,80.0,64.0,78.0,35.0,36.0,55.0,36.0,46.0,51.0,30.0,68.0,69.0,78.0,51.0,55.0,72.0,71.0,69.0,38.0,61.0,49.0,67.0,56.0,68.0,60.0,34.0,83.0,37.0,42.0,62.0,80.0,46.0,47.0,46.0,13.0,55.0,42.0,51.0,81.0,75.0,59.0,62.0,65.0,51.0,73.0,68.0,28.0,39.0,55.0,76.0,24.0,81.0,24.0,29.0,37.0,74.0,84.0,64.0,90.0,46.0,79.0,48.0,65.0,46.0,39.0,49.0,39.0,40.0,60.0,43.0,25.0,45.0,64.0,20.0,87.0,23.0,23.0,67.0,74.0,64.0,66.0,29.0,42.0,37.0,82.0,35.0,46.0,40.0,34.0,52.0,52.0,50.0,91.0,64.0,67.0,85.0,53.0,35.0,41.0,81.0,52.0,39.0,72.0,55.0,49.0,60.0,69.0,63.0,94.0,86.0,75.0,66.0,97.0,71.0,59.0,54.0,34.0,77.0,60.0,16.0,30.0,42.0,36.0,77.0,58.0,58.0,60.0,87.0,30.0,59.0,42.0,70.0,82.0,56.0,24.0,27.0,33.0,75.0,45.0,45.0,30.0,29.0,50.0,95.0,63.0,24.0,63.0,41.0,69.0,81.0,40.0,66.0,40.0,63.0,21.0,81.0,47.0,69.0,47.0,44.0,78.0,36.0,60.0,43.0,30.0,43.0,75.0,46.0,29.0,33.0,51.0,58.0,81.0,49.0,84.0,47.0,38.0,78.0,77.0,29.0,76.0,41.0,51.0,70.0,63.0,46.0,53.0,25.0,26.0,74.0,57.0,80.0,45.0,56.0,19.0,86.0,70.0,85.0,16.0,47.0,65.0,23.0,29.0,36.0,49.0,85.0,56.0,39.0,40.0,33.0,67.0,19.0,74.0,47.0,77.0,52.0,76.0,42.0,56.0,30.0,47.0,34.0,48.0,42.0,74.0,58.0,75.0,54.0,62.0,88.0,64.0,81.0,69.0,51.0,52.0,58.0,55.0,86.0,62.0,60.0,15.0,82.0,52.0,57.0,34.0,55.0,39.0,73.0,64.0,67.0,67.0,36.0,52.0,85.0,91.0,42.0,74.0,65.0,36.0,63.0,29.0,60.0,50.0,40.0,48.0,33.0,51.0,64.0,70.0,49.0,33.0,69.0,41.0,79.0,81.0,57.0,73.0,49.0,64.0,49.0,31.0,61.0,81.0,59.0,54.0,18.0,80.0,43.0,39.0,39.0,51.0,49.0,27.0,51.0,64.0,51.0,56.0,46.0,28.0,57.0,28.0,65.0,71.0,54.0,44.0,52.0,71.0,74.0,38.0,75.0,43.0,90.0,69.0,67.0,52.0,27.0,63.0,41.0,67.0,47.0,61.0,82.0,75.0,37.0,68.0,37.0,49.0,73.0,32.0,23.0,43.0,70.0,53.0,81.0,84.0,38.0,40.0,88.0,32.0,31.0,35.0,34.0,49.0,28.0,91.0,90.0,55.0,27.0,67.0,41.0,53.0,15.0,26.0,22.0,48.0,19.0,78.0,53.0,61.0,30.0,70.0,42.0,67.0,51.0,35.0,38.0,44.0,86.0,68.0,25.0,59.0,74.0,73.0,61.0,32.0,41.0,72.0,51.0,72.0,60.0,46.0,77.0,23.0,82.0,37.0,80.0,87.0,41.0,67.0,81.0,30.0,19.0,39.0,34.0,93.0,43.0,21.0,17.0,40.0,68.0,74.0,45.0,38.0,76.0,38.0,18.0,54.0,42.0,31.0,42.0,44.0,54.0,83.0,64.0,38.0,57.0,83.0,34.0,39.0,56.0,76.0,49.0,41.0,69.0,93.0,44.0,73.0,56.0,70.0,56.0,77.0,40.0,47.0,40.0,62.0,57.0,26.0,47.0,59.0,78.0,77.0,67.0,49.0,80.0,54.0,30.0,29.0,31.0,42.0,39.0,70.0,69.0,18.0,89.0,56.0,78.0,44.0,36.0,76.0,79.0,12.0,48.0,46.0,54.0,69.0,56.0,26.0,39.0,48.0,92.0,81.0,46.0,89.0,51.0,16.0,40.0,90.0,83.0,46.0,32.0,82.0,63.0,59.0,89.0,55.0,29.0,68.0,32.0,44.0,75.0,33.0,49.0,47.0,35.0,67.0,77.0,65.0,86.0,40.0,37.0,57.0,23.0,42.0,73.0,88.0,53.0,72.0,47.0,81.0,30.0,68.0,83.0,73.0,67.0,45.0,61.0,43.0,37.0,54.0,29.0,59.0,67.0,73.0,29.0,29.0,67.0,51.0,80.0,48.0,42.0,57.0,31.0,38.0,55.0,16.0,53.0,51.0,72.0,33.0,62.0,30.0,63.0,84.0,49.0,66.0,44.0,30.0,88.0,79.0,41.0,55.0,47.0,72.0,83.0,79.0,56.0,65.0,53.0,73.0,57.0,66.0,52.0,80.0,75.0,57.0,13.0,28.0,85.0,86.0,54.0,36.0,37.0,57.0,25.0,89.0,71.0,56.0,36.0,28.0,66.0,41.0,49.0,71.0,65.0,37.0,41.0,74.0,31.0,57.0,58.0,82.0,74.0,21.0,81.0,87.0,53.0,56.0,35.0,47.0,48.0,52.0,19.0,27.0,22.0,41.0,58.0,49.0,43.0,43.0,27.0,61.0,63.0,77.0,39.0,45.0,77.0,34.0,51.0,82.0,23.0,62.0,60.0,75.0,43.0,82.0,65.0,39.0,50.0,43.0,19.0,49.0,64.0,92.0,93.0,39.0,20.0,61.0,77.0,42.0,72.0,46.0,83.0,84.0,83.0,45.0,31.0,62.0,84.0,76.0,42.0,46.0,38.0,69.0,88.0,70.0,61.0,66.0,63.0,46.0,95.0,41.0,62.0,31.0,81.0,76.0,70.0,51.0,69.0,69.0,71.0,34.0,51.0,60.0,43.0,74.0,62.0,80.0,67.0,65.0,47.0,63.0,57.0,82.0,60.0,38.0,78.0,54.0,59.0,55.0,84.0,32.0,75.0,40.0,85.0,56.0,67.0,56.0,38.0,79.0,81.0,80.0,57.0,38.0,36.0,58.0,28.0,74.0,32.0,68.0,83.0,33.0,15.0,16.0,48.0,45.0,60.0,16.0,61.0,67.0,70.0,40.0,49.0,63.0,63.0,82.0,33.0,41.0,83.0,53.0,53.0,66.0,25.0,44.0,66.0,34.0,67.0,74.0,52.0,64.0,71.0,39.0,66.0,78.0,75.0,37.0,71.0,47.0,37.0,63.0,26.0,71.0,80.0,54.0,57.0,75.0,67.0,57.0,52.0,78.0,72.0,78.0,30.0,40.0,35.0,41.0,61.0,69.0,55.0,24.0,72.0,52.0,26.0,66.0,45.0,47.0,68.0,49.0,37.0,61.0,97.0,38.0,69.0,79.0,45.0,29.0,86.0,29.0,72.0,37.0,51.0,39.0,24.0,47.0,52.0,75.0,18.0,44.0,37.0,37.0,50.0,34.0,68.0,76.0,53.0,16.0,70.0,62.0,33.0,40.0,85.0,43.0,40.0,83.0,86.0,54.0,32.0,40.0,45.0,56.0,71.0,38.0,45.0,93.0,73.0,63.0,54.0,18.0,65.0,64.0,35.0,31.0,26.0,46.0,65.0,72.0,59.0,39.0,85.0,35.0,67.0,78.0,64.0,34.0,70.0,42.0,61.0,45.0,66.0,56.0,63.0,44.0,46.0,34.0,85.0,46.0,84.0,74.0,41.0,30.0,82.0,30.0,59.0,17.0,26.0,94.0,46.0,26.0,54.0,42.0,42.0,80.0,85.0,26.0,52.0,60.0,40.0,68.0,49.0,59.0,32.0,47.0,77.0,36.0,38.0,50.0,77.0,59.0,37.0,72.0,41.0,34.0,54.0,21.0,50.0,49.0,71.0,64.0,90.0,57.0,84.0,36.0,34.0,70.0,39.0,42.0,69.0,44.0,54.0,87.0,28.0,70.0,44.0,23.0,61.0,43.0,22.0,47.0,31.0,71.0,59.0,37.0,58.0,24.0,52.0,74.0,60.0,59.0,20.0,33.0,80.0,67.0,90.0,29.0,44.0,37.0,45.0,50.0,44.0,59.0,60.0,78.0,73.0,20.0,26.0,42.0,71.0,57.0,55.0,29.0,96.0,23.0,42.0,54.0,83.0,91.0,42.0,65.0,60.0,77.0,41.0,67.0,53.0,21.0,82.0,52.0,60.0,71.0,45.0,82.0,57.0,63.0,41.0,84.0,24.0,63.0,79.0,20.0,50.0,43.0,56.0,21.0,76.0,34.0,42.0,78.0,28.0,39.0,56.0,63.0,38.0,29.0,67.0,57.0,63.0,38.0,68.0,82.0,70.0,32.0,43.0,49.0,49.0,36.0,69.0,57.0,47.0,69.0,65.0,84.0,66.0,60.0,44.0,61.0,30.0,39.0,85.0,58.0,53.0,86.0,55.0,32.0,94.0,41.0,43.0,25.0,64.0,37.0,79.0,62.0,21.0,49.0,77.0,50.0,79.0,35.0,66.0,74.0,77.0,72.0,48.0,42.0,59.0,66.0,27.0,75.0,31.0,51.0,74.0,63.0,31.0,79.0,77.0,26.0,69.0,56.0,18.0,55.0,45.0,74.0,56.0,34.0,44.0,73.0,38.0,64.0,75.0,84.0,62.0,41.0,81.0,66.0,45.0,84.0,60.0,26.0,64.0,32.0,48.0,83.0,62.0,55.0,36.0,52.0,35.0,21.0,67.0,71.0,87.0,70.0,43.0,69.0,75.0,85.0,56.0,55.0,78.0,71.0,68.0,60.0,95.0,51.0,84.0,68.0,54.0,79.0,83.0,28.0,31.0,50.0,79.0,64.0,53.0,81.0,70.0,85.0,20.0,60.0,36.0,49.0,56.0,79.0,53.0,70.0,74.0,60.0,32.0,59.0,48.0,74.0,46.0,63.0,87.0,29.0,51.0,81.0,70.0,75.0,75.0,85.0,28.0,84.0,76.0,43.0,73.0,33.0,45.0,38.0,39.0,67.0,53.0,50.0,80.0,80.0,60.0,23.0,80.0,83.0,72.0,46.0,45.0,42.0,78.0,43.0,55.0,67.0,28.0,48.0,81.0,84.0,41.0,31.0,83.0,70.0,57.0,45.0,37.0,33.0,28.0,16.0,60.0,81.0,54.0,94.0,74.0,76.0,19.0,83.0,73.0,52.0,81.0,84.0,35.0,53.0,55.0,66.0,87.0,43.0,39.0,68.0,81.0,45.0,75.0,64.0,54.0,45.0,75.0,64.0,81.0,39.0,38.0,72.0,67.0,66.0,32.0,17.0,59.0,70.0,41.0,62.0,38.0,81.0,88.0,46.0,25.0,48.0,81.0,49.0,72.0,96.0,17.0,48.0,69.0,85.0,85.0,64.0,79.0,74.0,69.0,44.0,50.0,48.0,77.0,46.0,51.0,23.0,56.0,47.0,42.0,64.0,80.0,73.0,80.0,34.0,69.0,54.0,56.0,66.0,53.0,89.0,70.0,59.0,41.0,28.0,75.0,34.0,68.0,32.0,44.0,35.0,74.0,64.0,57.0,46.0,36.0,85.0,71.0,49.0,71.0,76.0,26.0,74.0,78.0,59.0,55.0,51.0,57.0,63.0,37.0,41.0,67.0,56.0,51.0,26.0,56.0,48.0,52.0,42.0,41.0,64.0,57.0,72.0,52.0,67.0,61.0,51.0,42.0,71.0,74.0,62.0,76.0,50.0,42.0,55.0,60.0,52.0,36.0,53.0,54.0,47.0,70.0,62.0,82.0,26.0,25.0,55.0,34.0,51.0,63.0,54.0,62.0,43.0,34.0,56.0,24.0,65.0,31.0,72.0,90.0,43.0,23.0,18.0,44.0,84.0,62.0,56.0,87.0,89.0,55.0,18.0,46.0,42.0,72.0,75.0,79.0,78.0,81.0,63.0,35.0,63.0,59.0,76.0,33.0,62.0,58.0,82.0,73.0,75.0,71.0,30.0,58.0,80.0,65.0,51.0,44.0,23.0,56.0,25.0,89.0,75.0,60.0,64.0,40.0,37.0,42.0,78.0,72.0,44.0,89.0,77.0,62.0,46.0,94.0,80.0,83.0,74.0,85.0,61.0,85.0,58.0,52.0,69.0,78.0,82.0,47.0,79.0,21.0,33.0,65.0,35.0,63.0,50.0,18.0,88.0,35.0,82.0,87.0,59.0,56.0,86.0,70.0,90.0,28.0,21.0,64.0,61.0,54.0,20.0,49.0,65.0,61.0,40.0,49.0,52.0,38.0,51.0,76.0,42.0,68.0,77.0,65.0,63.0,35.0,71.0,64.0,53.0,87.0,71.0,43.0,54.0,44.0,45.0,42.0,38.0,36.0,43.0,67.0,58.0,64.0,51.0,57.0,40.0,68.0,58.0,63.0,56.0,60.0,68.0,82.0,33.0,47.0,32.0,39.0,41.0,61.0,63.0,27.0,88.0,35.0,48.0,95.0,48.0,45.0,49.0,57.0,61.0,75.0,26.0,47.0,37.0,55.0,73.0,30.0,80.0,24.0,66.0,77.0,86.0,13.0,52.0,80.0,44.0,68.0,23.0,36.0,58.0,91.0,48.0,40.0,33.0,46.0,87.0,39.0,70.0,67.0,68.0,61.0,51.0,43.0,70.0,34.0,33.0,46.0,60.0,73.0,47.0,67.0,37.0,44.0,55.0,52.0,42.0,28.0,31.0,42.0,71.0,54.0,42.0,68.0,27.0,59.0,77.0,43.0,73.0,31.0,55.0,49.0,65.0,30.0,75.0,43.0,49.0,44.0,35.0,88.0,65.0,82.0,76.0,54.0,90.0,23.0,79.0,65.0,59.0,28.0,79.0,11.0,61.0,36.0,22.0,20.0,45.0,32.0,68.0,55.0,38.0,23.0,33.0,22.0,60.0,58.0,84.0,67.0,79.0,61.0,80.0,27.0,72.0,61.0,25.0,67.0,33.0,46.0,73.0,54.0,44.0,74.0,31.0,73.0,34.0,36.0,27.0,66.0,66.0,64.0,82.0,34.0,38.0,79.0,35.0,33.0,65.0,69.0,66.0,45.0,37.0,71.0,59.0,32.0,40.0,73.0,48.0,52.0,79.0,85.0,72.0,39.0,72.0,51.0,36.0,89.0,82.0,51.0,75.0,44.0,72.0,66.0,41.0,59.0,31.0,54.0,23.0,75.0,21.0,69.0,56.0,60.0,79.0,47.0,72.0,31.0,45.0,40.0,46.0,38.0,64.0,46.0,58.0,37.0,62.0,49.0,53.0,30.0,59.0,40.0,37.0,41.0,56.0,81.0,66.0,71.0,64.0,31.0,72.0,57.0,67.0,76.0,68.0,78.0,68.0,25.0,86.0,15.0,28.0,58.0,72.0,45.0,59.0,78.0,84.0,56.0,62.0,78.0,62.0,54.0,57.0,61.0,49.0,71.0,55.0,44.0,68.0,60.0,45.0,72.0,41.0,73.0,57.0,55.0,53.0,53.0,87.0,61.0,38.0,60.0,49.0,64.0,23.0,72.0,71.0,59.0,38.0,24.0,18.0,33.0,81.0,30.0,32.0,50.0,73.0,38.0,28.0,57.0,41.0,52.0,26.0,28.0,74.0,81.0,81.0,61.0,38.0,29.0,57.0,21.0,57.0,94.0,39.0,59.0,64.0,83.0,53.0,70.0,92.0,92.0,47.0,51.0,45.0,34.0,50.0,45.0,54.0,52.0,20.0,93.0,53.0,35.0,48.0,18.0,43.0,36.0,51.0,65.0,81.0,45.0,46.0,32.0,60.0,33.0,45.0,54.0,46.0,49.0,38.0,53.0,30.0,24.0,69.0,57.0,94.0,77.0,79.0,50.0,52.0,64.0,86.0,33.0,47.0,31.0,42.0,54.0,33.0,61.0,78.0,55.0,59.0,20.0,43.0,19.0,17.0,73.0,72.0,39.0,44.0,52.0,58.0,45.0,36.0,22.0,86.0,68.0,47.0,40.0,58.0,53.0,46.0,66.0,49.0,77.0,36.0,55.0,49.0,76.0,45.0,28.0,25.0,27.0,67.0,44.0,18.0,37.0,43.0,43.0,66.0,34.0,77.0,31.0,80.0,71.0,69.0,34.0,69.0,44.0,30.0,73.0,52.0,81.0,52.0,77.0,44.0,62.0,44.0,51.0,48.0,30.0,82.0,61.0,72.0,78.0,53.0,78.0,79.0,56.0,58.0,72.0,37.0,56.0,59.0,54.0,47.0,84.0,50.0,27.0,67.0,48.0,42.0,55.0,73.0,46.0,81.0,82.0,35.0,92.0,59.0,35.0,65.0,53.0,45.0,61.0,74.0,60.0,23.0,25.0,45.0,68.0,21.0,65.0,45.0,58.0,76.0,57.0,46.0,68.0,40.0,45.0,31.0,50.0,43.0,50.0,80.0,90.0,38.0,73.0,78.0,54.0,92.0,39.0,41.0,71.0,65.0,87.0,47.0,42.0,62.0,54.0,71.0,42.0,64.0,70.0,77.0,62.0,28.0,36.0,92.0,18.0,37.0,81.0,57.0,61.0,62.0,27.0,26.0,48.0,18.0,66.0,59.0,41.0,64.0,40.0,84.0,51.0,49.0,67.0,70.0,75.0,80.0,35.0,65.0,86.0,45.0,69.0,86.0,75.0,39.0,59.0,42.0,42.0,70.0,48.0,49.0,78.0,34.0,18.0,33.0,20.0,35.0,46.0,42.0,23.0,51.0,75.0,27.0,48.0,45.0,40.0,42.0,90.0,45.0,55.0,45.0,20.0,15.0,28.0,25.0,39.0,96.0,24.0,63.0,19.0,31.0,35.0,65.0,41.0,65.0,83.0,22.0,68.0,40.0,92.0,54.0,90.0,57.0,47.0,43.0,50.0,91.0,34.0,54.0,26.0,34.0,18.0,38.0,57.0,34.0,68.0,92.0,77.0,71.0,67.0,59.0,91.0,29.0,48.0,90.0,48.0,77.0,20.0,42.0,37.0,52.0,33.0,72.0,34.0,33.0,71.0,25.0,55.0,76.0,76.0,81.0,35.0,35.0,74.0,66.0,31.0,54.0,79.0,58.0,66.0,36.0,44.0,26.0,37.0,82.0,18.0,66.0,60.0,32.0,51.0,18.0,82.0,66.0,69.0,59.0,26.0,63.0,52.0,66.0,51.0,54.0,77.0,45.0,77.0,32.0,15.0,62.0,55.0,59.0,32.0,21.0,56.0,55.0,74.0,74.0,56.0,58.0,64.0,49.0,31.0,64.0,63.0,66.0,73.0,38.0,70.0,27.0,72.0,21.0,85.0,62.0,73.0,32.0,30.0,64.0,25.0,82.0,41.0,71.0,79.0,59.0,45.0,84.0,62.0,65.0,43.0,39.0,70.0,54.0,55.0,55.0,25.0,52.0,31.0,68.0,19.0,87.0,71.0,74.0,35.0,69.0,24.0,29.0,34.0,93.0,52.0,37.0,49.0,38.0,44.0,75.0,44.0,84.0,65.0,75.0,29.0,67.0,50.0,38.0,66.0,42.0,76.0,64.0,26.0,31.0,63.0,77.0,61.0,33.0,39.0,52.0,82.0,73.0,37.0,16.0,59.0,59.0,56.0,59.0,46.0,80.0,30.0,78.0,81.0,57.0,24.0,66.0,31.0,73.0,66.0,78.0,66.0,57.0,50.0,77.0,54.0,30.0,43.0,34.0,26.0,36.0,69.0,39.0,44.0,56.0,47.0,56.0,73.0,48.0,24.0,49.0,41.0,24.0,72.0,45.0,92.0,68.0,62.0,36.0,77.0,40.0,69.0,38.0,50.0,33.0,69.0,63.0,59.0,54.0,65.0,41.0,41.0,94.0,80.0,74.0,33.0,78.0,21.0,49.0,43.0,40.0,77.0,84.0,74.0,78.0,21.0,34.0,54.0,47.0,36.0,53.0,45.0,52.0,66.0,79.0,63.0,72.0,33.0,70.0,47.0,73.0,50.0,48.0,33.0,72.0,31.0,32.0,34.0,41.0,91.0,61.0,75.0,80.0,57.0,46.0,71.0,21.0,69.0,37.0,32.0,26.0,74.0,34.0,24.0,53.0,74.0,37.0,31.0,29.0,21.0,37.0,37.0,73.0,87.0,45.0,32.0,35.0,52.0,27.0,65.0,64.0,30.0,22.0,35.0,72.0,55.0,71.0,60.0,19.0,25.0,55.0,41.0,17.0,36.0,71.0,35.0,48.0,82.0,48.0,86.0,69.0,50.0,22.0,25.0,33.0,71.0,70.0,71.0,28.0,44.0,46.0,76.0,29.0,84.0,47.0,70.0,73.0,63.0,68.0,74.0,82.0,77.0,77.0,71.0,39.0,77.0,25.0,63.0,80.0,62.0,75.0,88.0,31.0,36.0,21.0,50.0,40.0,81.0,75.0,76.0,66.0,59.0,26.0,33.0,19.0,49.0,50.0,56.0,74.0,72.0,53.0,60.0,35.0,22.0,80.0,88.0,39.0,63.0,44.0,72.0,33.0,39.0,45.0,23.0,63.0,63.0,63.0,64.0,62.0,64.0,28.0,60.0,70.0,70.0,60.0,33.0,46.0,88.0,78.0,47.0,75.0,51.0,61.0,29.0,36.0,44.0,75.0,63.0,85.0,46.0,44.0,55.0,76.0,25.0,74.0,79.0,75.0,28.0,44.0,72.0,72.0,94.0,79.0,64.0,35.0,54.0,90.0,52.0,50.0,58.0,33.0,38.0,17.0,90.0,32.0,46.0,76.0,45.0,81.0,66.0,59.0,54.0,59.0,55.0,36.0,66.0,47.0,89.0,50.0,69.0,94.0,54.0,60.0,22.0,84.0,34.0,40.0,78.0,56.0,45.0,23.0,45.0,50.0,37.0,29.0,44.0,38.0,24.0,43.0,39.0,70.0,37.0,47.0,85.0,32.0,24.0,60.0,20.0,66.0,74.0,70.0,25.0,25.0,20.0,59.0,33.0,81.0,51.0,64.0,58.0,78.0,43.0,64.0,85.0,73.0,32.0,46.0,85.0,64.0,50.0,29.0,53.0,83.0,36.0,37.0,57.0,75.0,84.0,74.0,40.0,37.0,11.0,28.0,40.0,47.0,65.0,22.0,66.0,19.0,43.0,41.0,56.0,42.0,45.0,46.0,51.0,74.0,67.0,21.0,73.0,39.0,69.0,24.0,36.0,38.0,29.0,72.0,48.0,71.0,61.0,29.0,31.0,56.0,62.0,78.0,83.0,65.0,65.0,59.0,26.0,32.0,27.0,89.0,57.0,77.0,65.0,63.0,78.0,74.0,41.0,90.0,88.0,47.0,66.0,75.0,29.0,80.0,59.0,34.0,47.0,53.0,50.0,72.0,54.0,28.0,59.0,40.0,55.0,49.0,70.0,57.0,39.0,75.0,87.0,70.0,76.0,68.0,53.0,48.0,63.0,47.0,38.0,43.0,90.0,95.0,24.0,35.0,75.0,37.0,46.0,80.0,55.0,71.0,32.0,51.0,43.0,23.0,37.0,40.0,24.0,60.0,44.0,34.0,51.0,39.0,57.0,36.0,16.0,52.0,25.0,51.0,56.0,27.0,33.0,60.0,39.0,41.0,35.0,67.0,39.0,51.0,56.0,93.0,68.0,49.0,88.0,72.0,44.0,41.0,69.0,66.0,20.0,92.0,53.0,50.0,70.0,51.0,45.0,25.0,75.0,45.0,29.0,43.0,38.0,16.0,61.0,95.0,65.0,85.0,66.0,61.0,79.0,59.0,52.0,56.0,37.0,29.0,84.0,87.0,36.0,56.0,34.0,77.0,80.0,59.0,68.0,26.0,57.0,72.0,36.0,51.0,76.0,51.0,28.0,69.0,30.0,56.0,64.0,33.0,67.0,45.0,84.0,40.0,33.0,31.0,81.0,38.0,48.0,39.0,71.0,55.0,70.0,65.0,65.0,49.0,49.0,35.0,62.0,48.0,18.0,70.0,83.0,29.0,79.0,49.0,49.0,63.0,50.0,36.0,53.0,39.0,32.0,69.0,74.0,55.0,72.0,72.0,86.0,47.0,34.0,24.0,51.0,73.0,68.0,52.0,38.0,11.0,41.0,57.0,41.0,62.0,48.0,37.0,41.0,91.0,73.0,82.0,44.0,29.0,32.0,78.0,21.0,43.0,69.0,56.0,31.0,36.0,30.0,56.0,87.0,54.0,61.0,77.0,30.0,69.0,74.0,72.0,71.0,30.0,82.0,51.0,76.0,76.0,17.0,40.0,63.0,60.0,44.0,87.0,27.0,30.0,68.0,44.0,53.0,40.0,36.0,79.0,86.0,85.0,61.0,63.0,82.0,47.0,66.0,48.0,90.0,70.0,64.0,27.0,58.0,48.0,57.0,90.0,56.0,50.0,48.0,74.0,86.0,59.0,43.0,75.0,32.0,44.0,54.0,24.0,61.0,45.0,44.0,84.0,32.0,50.0,73.0,52.0,85.0,61.0,52.0,82.0,57.0,58.0,83.0,41.0,58.0,25.0,43.0,74.0,34.0,58.0,34.0,30.0,62.0,52.0,56.0,45.0,51.0,18.0,64.0,38.0,69.0,89.0,81.0,76.0,38.0,14.0,62.0,39.0,51.0,53.0,54.0,68.0,53.0,86.0,51.0,48.0,50.0,24.0,79.0,63.0,13.0,54.0,61.0,58.0,35.0,78.0,95.0,61.0,32.0,66.0,83.0,35.0,33.0,55.0,87.0,18.0,45.0,26.0,66.0,44.0,55.0,40.0,61.0,54.0,95.0,56.0,61.0,53.0,60.0,35.0,93.0,20.0,24.0,54.0,78.0,45.0,77.0,40.0,44.0,45.0,66.0,57.0,42.0,34.0,43.0,37.0,57.0,44.0,35.0,36.0,82.0,55.0,74.0,19.0,72.0,42.0,81.0,38.0,21.0,82.0,80.0,51.0,53.0,62.0,91.0,71.0,74.0,40.0,83.0,58.0,38.0,56.0,73.0,46.0,82.0,88.0,56.0,68.0,63.0,71.0,27.0,85.0,34.0,33.0,77.0,50.0,69.0,55.0,76.0,74.0,61.0,60.0,84.0,56.0,43.0,82.0,43.0,73.0,81.0,94.0,74.0,76.0,38.0,38.0,42.0,71.0,34.0,84.0,32.0,85.0,76.0,21.0,65.0,92.0,69.0,49.0,54.0,81.0,15.0,66.0,56.0,71.0,40.0,66.0,57.0,79.0,57.0,43.0,65.0,66.0,74.0,76.0,30.0,39.0,79.0,60.0,24.0,42.0,33.0,57.0,32.0,71.0,58.0,64.0,72.0,64.0,61.0,43.0,54.0,56.0,75.0,72.0,84.0,30.0,80.0,82.0,96.0,60.0,19.0,62.0,61.0,53.0,34.0,43.0,27.0,55.0,51.0,58.0,69.0,52.0,72.0,38.0,73.0,26.0,46.0,60.0,43.0,43.0,65.0,89.0,60.0,22.0,53.0,70.0,31.0,52.0,59.0,40.0,50.0,66.0,45.0,69.0,13.0,37.0,25.0,45.0,47.0,93.0,40.0,85.0,73.0,27.0,80.0,46.0,57.0,43.0,25.0,90.0,93.0,67.0,44.0,18.0,46.0,44.0,47.0,55.0,59.0,42.0,69.0,29.0,53.0,90.0,40.0,55.0,78.0,64.0,68.0,68.0,44.0,45.0,47.0,73.0,71.0,25.0,65.0,70.0,33.0,42.0,35.0,90.0,17.0,59.0,36.0,71.0,45.0,31.0,77.0,73.0,47.0,56.0,30.0,84.0,41.0,73.0,41.0,77.0,63.0,79.0,28.0,91.0,76.0,92.0,61.0,92.0,72.0,20.0,54.0,35.0,67.0,20.0,76.0,33.0,68.0,81.0,36.0,46.0,50.0,36.0,44.0,43.0,79.0,44.0,67.0,27.0,39.0,49.0,28.0,46.0,48.0,90.0,24.0,75.0,61.0,62.0,87.0,13.0,85.0,47.0,54.0,57.0,26.0,89.0,61.0,93.0,43.0,24.0,45.0,86.0,65.0,70.0,79.0,59.0,72.0,36.0,46.0,24.0,25.0,38.0,65.0,59.0,53.0,45.0,82.0,64.0,50.0,39.0,43.0,54.0,58.0,73.0,56.0,42.0,25.0,48.0,49.0,59.0,45.0,60.0,32.0,59.0,40.0,55.0,69.0,12.0,39.0,25.0,62.0,40.0,67.0,42.0,44.0,57.0,83.0,43.0,61.0,76.0,54.0,60.0,74.0,74.0,66.0,94.0,83.0,65.0,82.0,52.0,34.0,61.0,30.0,77.0,45.0,59.0,66.0,45.0,73.0,81.0,72.0,72.0,27.0,70.0,51.0,21.0,50.0,82.0,58.0,59.0,41.0,21.0,78.0,85.0,59.0,72.0,83.0,31.0,58.0,74.0,50.0,72.0,84.0,67.0,29.0,20.0,31.0,58.0,39.0,77.0,78.0,39.0,51.0,86.0,78.0,66.0,74.0,70.0,38.0,44.0,52.0,63.0,46.0,63.0,50.0,37.0,52.0,55.0,77.0,46.0,52.0,59.0,32.0,87.0,61.0,75.0,59.0,40.0,61.0,62.0,86.0,89.0,29.0,72.0,53.0,24.0,30.0,79.0,51.0,34.0,87.0,43.0,80.0,54.0,80.0,29.0,34.0,58.0,38.0,57.0,20.0,49.0,73.0,61.0,87.0,37.0,69.0,46.0,79.0,60.0,68.0,38.0,71.0,28.0,44.0,31.0,41.0,63.0,44.0,69.0,88.0,49.0,76.0,63.0,55.0,86.0,71.0,41.0,58.0,26.0,39.0,54.0,25.0,29.0,81.0,65.0,57.0,85.0,60.0,27.0,82.0,37.0,48.0,85.0,28.0,83.0,47.0,37.0,62.0,26.0,59.0,59.0,56.0,46.0,35.0,71.0,69.0,41.0,34.0,89.0,83.0,33.0,48.0,71.0,52.0,63.0,27.0,79.0,44.0,45.0,34.0,34.0,69.0,56.0,86.0,78.0,49.0,67.0,71.0,61.0,36.0,69.0,80.0,39.0,39.0,21.0,30.0,47.0,53.0,59.0,79.0,44.0,66.0,51.0,90.0,16.0,23.0,62.0,51.0,84.0,86.0,50.0,90.0,55.0,31.0,64.0,64.0,38.0,46.0,54.0,81.0,67.0,54.0,19.0,85.0,54.0,89.0,66.0,55.0,52.0,27.0,74.0,14.0,19.0,52.0,63.0,55.0,18.0,39.0,74.0,23.0,57.0,54.0,67.0,86.0,71.0,52.0,85.0,72.0,88.0,55.0,39.0,58.0,65.0,90.0,35.0,88.0,48.0,72.0,60.0,45.0,53.0,49.0,39.0,42.0,35.0,34.0,54.0,37.0,78.0,49.0,96.0,43.0,80.0,80.0,62.0,37.0,81.0,74.0,30.0,87.0,74.0,20.0,37.0,55.0,25.0,67.0,78.0,35.0,24.0,72.0,42.0,24.0,82.0,15.0,87.0,59.0,67.0,69.0,45.0,83.0,31.0,61.0,80.0,70.0,67.0,37.0,81.0,46.0,46.0,52.0,84.0,84.0,58.0,66.0,85.0,55.0,67.0,75.0,36.0,64.0,69.0,42.0,64.0,38.0,56.0,73.0,28.0,67.0,34.0,73.0,79.0,38.0,78.0,35.0,85.0,45.0,37.0,78.0,52.0,64.0,32.0,65.0,67.0,40.0,64.0,79.0,91.0,56.0,85.0,64.0,34.0,16.0,88.0,53.0,80.0,64.0,37.0,75.0,82.0,60.0,64.0,76.0,35.0,61.0,18.0,25.0,47.0,47.0,81.0,99.0,28.0,77.0,37.0,35.0,38.0,31.0,29.0,77.0,70.0,37.0,75.0,83.0,24.0,23.0,90.0,64.0,41.0,44.0,84.0,65.0,54.0,84.0,78.0,21.0,49.0,69.0,31.0,56.0,41.0,54.0,69.0,53.0,40.0,58.0,41.0,46.0,50.0,75.0,32.0,37.0,83.0,75.0,39.0,74.0,43.0,56.0,58.0,64.0,39.0,38.0,53.0,68.0,36.0,29.0,67.0,72.0,61.0,70.0,51.0,32.0,80.0,62.0,59.0,50.0,57.0,70.0,70.0,69.0,87.0,29.0,42.0,27.0,49.0,35.0,46.0,76.0,47.0,22.0,36.0,66.0,68.0,61.0,36.0,39.0,20.0,28.0,29.0,86.0,25.0,20.0,58.0,38.0,62.0,37.0,34.0,56.0,72.0,25.0,82.0,70.0,52.0,76.0,78.0,51.0,96.0,90.0,64.0,79.0,22.0,96.0,32.0,42.0,88.0,36.0,48.0,51.0,40.0,34.0,43.0,59.0,42.0,93.0,37.0,63.0,70.0,33.0,50.0,84.0,60.0,67.0,47.0,34.0,38.0,84.0,53.0,69.0,32.0,21.0,30.0,85.0,45.0,43.0,63.0,64.0,62.0,76.0,62.0,40.0,71.0,56.0,38.0,39.0,62.0,84.0,64.0,71.0,38.0,26.0,67.0,23.0,57.0,80.0,68.0,77.0,37.0,39.0,49.0,74.0,53.0,67.0,38.0,47.0,40.0,68.0,70.0,54.0,49.0,79.0,82.0,62.0,46.0,86.0,80.0,17.0,69.0,58.0,74.0,32.0,64.0,57.0,82.0,78.0,40.0,88.0,42.0,67.0,56.0,26.0,56.0,63.0,78.0,68.0,66.0,90.0,65.0,33.0,32.0,74.0,48.0,57.0,22.0,69.0,62.0,52.0,66.0,81.0,75.0,80.0,20.0,40.0,55.0,78.0,76.0,60.0,44.0,85.0,56.0,76.0,49.0,72.0,69.0,72.0,50.0,57.0,56.0,46.0,45.0,60.0,22.0,81.0,54.0,48.0,28.0,73.0,52.0,74.0,84.0,13.0,57.0,42.0,47.0,48.0,81.0,63.0,43.0,71.0,49.0,43.0,69.0,34.0,37.0,74.0,21.0,38.0,67.0,64.0,61.0,46.0,41.0,58.0,40.0,92.0,86.0,77.0,52.0,47.0,70.0,57.0,90.0,32.0,93.0,94.0,42.0,82.0,58.0,68.0,25.0,30.0,46.0,86.0,42.0,49.0,70.0,74.0,26.0,56.0,54.0,48.0,70.0,22.0,62.0,33.0,93.0,62.0,31.0,60.0,50.0,67.0,17.0,82.0,41.0,24.0,78.0,80.0,93.0,64.0,60.0,18.0,28.0,54.0,71.0,68.0,23.0,20.0,37.0,47.0,81.0,18.0,16.0,49.0,33.0,60.0,55.0,75.0,81.0,64.0,41.0,68.0,59.0,44.0,55.0,54.0,53.0,24.0,37.0,65.0,69.0,82.0,39.0,54.0,36.0,55.0,78.0,73.0,49.0,74.0,51.0,37.0,16.0,84.0,47.0,70.0,28.0,72.0,60.0,67.0,33.0,58.0,36.0,35.0,56.0,71.0,51.0,88.0,36.0,50.0,42.0,44.0,42.0,75.0,34.0,54.0,36.0,53.0,24.0,30.0,13.0,43.0,56.0,50.0,67.0,74.0,73.0,90.0,42.0,77.0,84.0,37.0,91.0,34.0,40.0,53.0,63.0,82.0,73.0,86.0,56.0,94.0,74.0,37.0,69.0,79.0,83.0,50.0,47.0,53.0,62.0,75.0,48.0,40.0,45.0,27.0,32.0,20.0,80.0,51.0,44.0,29.0,46.0,37.0,44.0,90.0,75.0,84.0,44.0,91.0,94.0,69.0,57.0,55.0,61.0,54.0,12.0,62.0,40.0,57.0,33.0,71.0,26.0,39.0,74.0,56.0,45.0,61.0,45.0,43.0,68.0,79.0,40.0,37.0,72.0,67.0,93.0,85.0,26.0,84.0,45.0,41.0,39.0,28.0,48.0,46.0,38.0,87.0,50.0,63.0,89.0,19.0,56.0,82.0,60.0,67.0,50.0,52.0,17.0,61.0,22.0,79.0,15.0,34.0,83.0,71.0,47.0,70.0,58.0,74.0,34.0,66.0,73.0,72.0,34.0,80.0,49.0,69.0,16.0,46.0,50.0,67.0,37.0,78.0,62.0,18.0,83.0,42.0,36.0,64.0,47.0,48.0,63.0,31.0,54.0,46.0,53.0,86.0,34.0,66.0,53.0,32.0,32.0,26.0,59.0,45.0,54.0,89.0,35.0,40.0,49.0,46.0,63.0,43.0,44.0,48.0,53.0,32.0,58.0,50.0,39.0,41.0,61.0,49.0,84.0,32.0,32.0,60.0,67.0,46.0,56.0,74.0,28.0,52.0,28.0,18.0,45.0,41.0,78.0,48.0,26.0,86.0,56.0,77.0,95.0,47.0,62.0,87.0,40.0,35.0,60.0,41.0,67.0,70.0,55.0,54.0,72.0,26.0,77.0,67.0,39.0,54.0,43.0,89.0,28.0,80.0,51.0,23.0,79.0,77.0,89.0,80.0,57.0,20.0,68.0,71.0,88.0,85.0,77.0,66.0,61.0,74.0,48.0,18.0,59.0,55.0,47.0,52.0,50.0,77.0,25.0,35.0,65.0,40.0,70.0,61.0,89.0,77.0,22.0,55.0,52.0,88.0,44.0,39.0,80.0,35.0,52.0,34.0,33.0,64.0,65.0,55.0,58.0,29.0,65.0,80.0,55.0,78.0,22.0,53.0,77.0,41.0,69.0,47.0,64.0,28.0,35.0,63.0,71.0,78.0,32.0,40.0,55.0,42.0,88.0,43.0,66.0,33.0,12.0,32.0,48.0,56.0,73.0,65.0,83.0,53.0,39.0,32.0,55.0,76.0,69.0,54.0,89.0,87.0,66.0,65.0,71.0,27.0,38.0,43.0,38.0,59.0,44.0,39.0,67.0,70.0,24.0,31.0,24.0,61.0,59.0,87.0,68.0,62.0,50.0,27.0,36.0,43.0,35.0,29.0,56.0,41.0,37.0,26.0,46.0,75.0,40.0,36.0,62.0,47.0,39.0,57.0,20.0,87.0,31.0,57.0,37.0,29.0,48.0,41.0,43.0,70.0,54.0,77.0,40.0,39.0,38.0,61.0,59.0,68.0,59.0,55.0,63.0,47.0,49.0,64.0,72.0,46.0,55.0,73.0,41.0,50.0,61.0,60.0,52.0,31.0,66.0,16.0,93.0,59.0,78.0,79.0,50.0,38.0,80.0,58.0,44.0,70.0,45.0,40.0,57.0,61.0,72.0,83.0,36.0,61.0,90.0,22.0,35.0,59.0,89.0,66.0,88.0,91.0,53.0,64.0,40.0,24.0,59.0,49.0,85.0,47.0,54.0,82.0,31.0,67.0,58.0,36.0,66.0,39.0,61.0,64.0,31.0,39.0,78.0,43.0,62.0,80.0,51.0,40.0,48.0,38.0,61.0,42.0,57.0,26.0,58.0,40.0,26.0,78.0,62.0,90.0,50.0,57.0,62.0,74.0,74.0,40.0,81.0,45.0,50.0,17.0,31.0,40.0,61.0,26.0,20.0,73.0,55.0,37.0,35.0,90.0,36.0,38.0,65.0,66.0,88.0,53.0,27.0,90.0,50.0,49.0,71.0,72.0,21.0,73.0,68.0,74.0,72.0,38.0,78.0,55.0,24.0,72.0,38.0,73.0,60.0,38.0,74.0,86.0,62.0,80.0,62.0,22.0,28.0,41.0,34.0,52.0,71.0,68.0,47.0,73.0,33.0,83.0,48.0,39.0,29.0,36.0,94.0,73.0,28.0,49.0,73.0,83.0,73.0,50.0,74.0,71.0,92.0,78.0,64.0,37.0,49.0,53.0,95.0,50.0,62.0,74.0,70.0,29.0,81.0,58.0,57.0,61.0,56.0,44.0,30.0,53.0,67.0,21.0,35.0,77.0,72.0,52.0,15.0,67.0,55.0,73.0,25.0,90.0,74.0,53.0,79.0,59.0,40.0,39.0,49.0,41.0,39.0,57.0,66.0,59.0,40.0,47.0,65.0,86.0,75.0,30.0,26.0,49.0,52.0,47.0,64.0,28.0,48.0,47.0,37.0,54.0,18.0,37.0,41.0,96.0,69.0,64.0,48.0,59.0,39.0,80.0,38.0,26.0,27.0,50.0,89.0,45.0,42.0,80.0,48.0,59.0,53.0,72.0,46.0,75.0,25.0,36.0,24.0,31.0,39.0,81.0,63.0,81.0,63.0,69.0,66.0,80.0,52.0,68.0,57.0,37.0,68.0,35.0,65.0,28.0,82.0,29.0,62.0,35.0,51.0,22.0,42.0,45.0,48.0,61.0,59.0,50.0,33.0,65.0,26.0,69.0,87.0,85.0,46.0,82.0,36.0,77.0,85.0,85.0,62.0,54.0,89.0,35.0,65.0,52.0,37.0,27.0,60.0,52.0,28.0,72.0,23.0,59.0,20.0,38.0,31.0,81.0,66.0,68.0,75.0,24.0,26.0,39.0,61.0,52.0,38.0,25.0,73.0,93.0,16.0,75.0,64.0,77.0,44.0,66.0,48.0,50.0,56.0,55.0,83.0,58.0,93.0,38.0,55.0,80.0,64.0,37.0,49.0,33.0,78.0,31.0,53.0,25.0,69.0,89.0,80.0,80.0,22.0,52.0,59.0,88.0,81.0,79.0,28.0,28.0,19.0,31.0,87.0,17.0,75.0,61.0,72.0,78.0,36.0,45.0,74.0,17.0,47.0,25.0,81.0,74.0,30.0,59.0,60.0,58.0,28.0,33.0,30.0,31.0,36.0,56.0,82.0,50.0,76.0,52.0,60.0,91.0,52.0,43.0,32.0,77.0,55.0,52.0,68.0,41.0,63.0,99.0,17.0,47.0,24.0,80.0,79.0,49.0,27.0,51.0,41.0,67.0,48.0,72.0,75.0,48.0,58.0,62.0,83.0,68.0,55.0,55.0,49.0,27.0,38.0,66.0,37.0,72.0,34.0,68.0,56.0,52.0,67.0,69.0,45.0,76.0,65.0,26.0,54.0,68.0,34.0,56.0,63.0,47.0,40.0,31.0,56.0,36.0,41.0,43.0,61.0,69.0,44.0,82.0,48.0,27.0,45.0,75.0,54.0,76.0,44.0,50.0,17.0,66.0,42.0,42.0,56.0,48.0,40.0,24.0,38.0,73.0,40.0,62.0,65.0,37.0,68.0,30.0,31.0,15.0,89.0,33.0,72.0,64.0,78.0,40.0,91.0,49.0,38.0,28.0,62.0,62.0,89.0,74.0,85.0,33.0,41.0,24.0,47.0,65.0,50.0,35.0,30.0,76.0,55.0,49.0,19.0,15.0,86.0,77.0,55.0,77.0,74.0,23.0,56.0,18.0,76.0,57.0,13.0,64.0,54.0,97.0,89.0,53.0,74.0,61.0,41.0,48.0,48.0,54.0,67.0,34.0,60.0,46.0,45.0,56.0,49.0,49.0,65.0,39.0,33.0,55.0,50.0,52.0,43.0,58.0,45.0,81.0,36.0,64.0,57.0,46.0,76.0,43.0,58.0,61.0,72.0,82.0,69.0,35.0,91.0,40.0,26.0,34.0,35.0,67.0,60.0,48.0,62.0,84.0,67.0,50.0,42.0,37.0,50.0,61.0,61.0,48.0,56.0,54.0,86.0,77.0,77.0,25.0,67.0,51.0,20.0,74.0,12.0,78.0,48.0,79.0,66.0,82.0,67.0,75.0,52.0,25.0,39.0,66.0,24.0,17.0,93.0,62.0,47.0,55.0,41.0,67.0,43.0,42.0,64.0,42.0,77.0,52.0,62.0,90.0,60.0,49.0,54.0,61.0,67.0,42.0,43.0,58.0,50.0,34.0,51.0,89.0,41.0,70.0,35.0,79.0,26.0,46.0,51.0,30.0,88.0,55.0,60.0,26.0,85.0,76.0,53.0,70.0,64.0,41.0,73.0,47.0,49.0,53.0,95.0,87.0,26.0,89.0,73.0,19.0,33.0,75.0,59.0,79.0,82.0,58.0,61.0,59.0,63.0,60.0,55.0,38.0,49.0,48.0,24.0,27.0,34.0,59.0,60.0,75.0,67.0,36.0,60.0,43.0,52.0,73.0,36.0,37.0,66.0,64.0,54.0,31.0,59.0,49.0,80.0,19.0,27.0,51.0,25.0,48.0,82.0,47.0,70.0,57.0,69.0,32.0,78.0,41.0,72.0,71.0,44.0,57.0,57.0,41.0,62.0,48.0,59.0,34.0,17.0,54.0,55.0,73.0,50.0,91.0,73.0,70.0,74.0,86.0,34.0,25.0,47.0,45.0,62.0,49.0,62.0,65.0,40.0,97.0,79.0,93.0,60.0,61.0,73.0,89.0,71.0,61.0,39.0,44.0,32.0,35.0,20.0,62.0,42.0,43.0,56.0,79.0,30.0,73.0,25.0,84.0,27.0,41.0,92.0,53.0,63.0,67.0,74.0,37.0,33.0,58.0,55.0,40.0,79.0,68.0,57.0,20.0,28.0,50.0,80.0,44.0,19.0,81.0,46.0,83.0,58.0,53.0,73.0,79.0,15.0,62.0,46.0,41.0,68.0,72.0,43.0,51.0,38.0,80.0,48.0,63.0,31.0,66.0,69.0,62.0,49.0,54.0,57.0,77.0,56.0,79.0,60.0,88.0,83.0,43.0,48.0,50.0,61.0,24.0,71.0,81.0,76.0,17.0,30.0,78.0,78.0,37.0,86.0,77.0,63.0,46.0,38.0,41.0,51.0,24.0,88.0,50.0,30.0,32.0,18.0,29.0,41.0,37.0,85.0,67.0,30.0,69.0,43.0,72.0,47.0,69.0,48.0,20.0,73.0,49.0,26.0,44.0,49.0,61.0,28.0,74.0,33.0,42.0,39.0,82.0,48.0,95.0,92.0,36.0,37.0,65.0,82.0,37.0,45.0,34.0,78.0,18.0,59.0,82.0,75.0,65.0,40.0,60.0,67.0,95.0,56.0,35.0,73.0,37.0,53.0,62.0,44.0,36.0,76.0,60.0,28.0,48.0,62.0,19.0,80.0,46.0,47.0,79.0,27.0,43.0,43.0,56.0,27.0,70.0,70.0,61.0,53.0,87.0,68.0,61.0,70.0,65.0,61.0,27.0,22.0,81.0,60.0,41.0,98.0,79.0,77.0,51.0,43.0,27.0,69.0,98.0,80.0,68.0,76.0,72.0,64.0,87.0,53.0,71.0,40.0,58.0,55.0,50.0,64.0,44.0,79.0,65.0,37.0,85.0,48.0,55.0,64.0,74.0,67.0,38.0,65.0,60.0,72.0,73.0,34.0,45.0,75.0,28.0,48.0,64.0,42.0,72.0,52.0,40.0,61.0,66.0,43.0,49.0,16.0,46.0,28.0,57.0,62.0,76.0,56.0,44.0,49.0,64.0,52.0,79.0,52.0,52.0,71.0,59.0,90.0,58.0,25.0,78.0,77.0,73.0,61.0,71.0,82.0,25.0,76.0,39.0,91.0,73.0,34.0,64.0,36.0,67.0,63.0,64.0,29.0,41.0,70.0,57.0,36.0,67.0,29.0,58.0,77.0,60.0,16.0,50.0,25.0,68.0,52.0,72.0,21.0,63.0,74.0,24.0,33.0,29.0,53.0,68.0,75.0,41.0,34.0,29.0,44.0,42.0,90.0,52.0,55.0,63.0,56.0,76.0,62.0,39.0,78.0,35.0,74.0,58.0,72.0,62.0,52.0,65.0,50.0,61.0,57.0,51.0,37.0,40.0,91.0,77.0,31.0,61.0,85.0,47.0,57.0,95.0,23.0,74.0,67.0,52.0,50.0,38.0,76.0,88.0,73.0,81.0,41.0,72.0,39.0,62.0,54.0,68.0,40.0,72.0,83.0,49.0,47.0,27.0,76.0,55.0,49.0,69.0,72.0,66.0,62.0,55.0,65.0,88.0,32.0,66.0,20.0,35.0,30.0,54.0,42.0,67.0,43.0,60.0,72.0,79.0,41.0,25.0,23.0,82.0,67.0,48.0,74.0,70.0,60.0,46.0,41.0,50.0,49.0,40.0,61.0,56.0,82.0,88.0,19.0,89.0,92.0,62.0,70.0,88.0,42.0,89.0,51.0,48.0,59.0,40.0,71.0,71.0,50.0,78.0,84.0,29.0,63.0,34.0,68.0,52.0,51.0,46.0,32.0,61.0,74.0,29.0,82.0,43.0,67.0,38.0,30.0,69.0,52.0,33.0,48.0,23.0,41.0,78.0,53.0,39.0,84.0,70.0,83.0,81.0,82.0,33.0,64.0,59.0,36.0,36.0,81.0,47.0,69.0,80.0,55.0,54.0,40.0,70.0,71.0,47.0,62.0,59.0,48.0,47.0,72.0,32.0,47.0,76.0,29.0,87.0,71.0,75.0,63.0,28.0,64.0,16.0,89.0,90.0,91.0,43.0,84.0,47.0,47.0,71.0,37.0,35.0,38.0,85.0,58.0,69.0,74.0,89.0,80.0,21.0,45.0,74.0,77.0,51.0,38.0,69.0,98.0,85.0,62.0,38.0,57.0,41.0,76.0,30.0,28.0,56.0,77.0,85.0,72.0,42.0,56.0,43.0,38.0,38.0,30.0,52.0,55.0,67.0,78.0,51.0,39.0,46.0,67.0,52.0,36.0,54.0,25.0,53.0,28.0,64.0,77.0,46.0,69.0,74.0,85.0,49.0,89.0,88.0,40.0,58.0,63.0,57.0,87.0,40.0,67.0,32.0,27.0,47.0,51.0,72.0,31.0,42.0,28.0,45.0,75.0,81.0,88.0,67.0,62.0,59.0,75.0,30.0,62.0,17.0,47.0,87.0,51.0,72.0,76.0,56.0,86.0,37.0,35.0,54.0,83.0,40.0,78.0,47.0,68.0,67.0,92.0,67.0,59.0,61.0,69.0,53.0,48.0,32.0,47.0,71.0,48.0,43.0,44.0,53.0,24.0,76.0,58.0,59.0,51.0,68.0,73.0,60.0,56.0,66.0,34.0,75.0,53.0,31.0,88.0,48.0,56.0,67.0,29.0,30.0,40.0,64.0,23.0,39.0,33.0,33.0,68.0,32.0,33.0,83.0,41.0,76.0,76.0,45.0,72.0,60.0,75.0,55.0,91.0,56.0,77.0,47.0,37.0,61.0,58.0,42.0,40.0,59.0,53.0,47.0,72.0,90.0,43.0,35.0,52.0,47.0,50.0,57.0,58.0,78.0,25.0,64.0,61.0,42.0,39.0,46.0,88.0,26.0,49.0,34.0,31.0,52.0,68.0,50.0,93.0,32.0,48.0,36.0,54.0,55.0,74.0,53.0,76.0,54.0,80.0,68.0,63.0,46.0,45.0,43.0,83.0,56.0,29.0,79.0,40.0,55.0,55.0,65.0,41.0,53.0,41.0,34.0,23.0,70.0,38.0,45.0,14.0,37.0,33.0,81.0,68.0,76.0,74.0,41.0,70.0,89.0,25.0,36.0,27.0,71.0,56.0,41.0,41.0,34.0,23.0,78.0,76.0,78.0,38.0,48.0,65.0,59.0,52.0,97.0,54.0,34.0,80.0,54.0,63.0,26.0,85.0,40.0,68.0,32.0,44.0,70.0,66.0,76.0,29.0,70.0,64.0,76.0,72.0,24.0,40.0,37.0,42.0,28.0,61.0,53.0,50.0,55.0,67.0,79.0,77.0,26.0,26.0,44.0,80.0,73.0,61.0,53.0,59.0,40.0,88.0,76.0,65.0,23.0,50.0,59.0,57.0,14.0,41.0,81.0,47.0,67.0,92.0,95.0,79.0,24.0,67.0,30.0,91.0,21.0,87.0,69.0,72.0,70.0,66.0,55.0,60.0,67.0,65.0,87.0,48.0,87.0,84.0,32.0,27.0,37.0,43.0,77.0,65.0,43.0,64.0,43.0,57.0,73.0,32.0,85.0,54.0,81.0,79.0,58.0,53.0,25.0,41.0,44.0,70.0,29.0,34.0,56.0,49.0,78.0,88.0,45.0,77.0,76.0,70.0,80.0,45.0,71.0,42.0,65.0,56.0,93.0,62.0,52.0,24.0,61.0,78.0,28.0,86.0,69.0,71.0,91.0,79.0,41.0,36.0,57.0,54.0,75.0,40.0,61.0,67.0,72.0,42.0,60.0,41.0,32.0,53.0,42.0,49.0,56.0,24.0,39.0,61.0,78.0,53.0,48.0,54.0,70.0,59.0,89.0,58.0,52.0,32.0,32.0,69.0,40.0,73.0,39.0,40.0,35.0,52.0,77.0,67.0,58.0,66.0,66.0,62.0,66.0,49.0,32.0,32.0,38.0,16.0,35.0,49.0,29.0,34.0,33.0,73.0,23.0,35.0,30.0,73.0,43.0,38.0,21.0,26.0,43.0,32.0,64.0,20.0,41.0,70.0,36.0,26.0,37.0,89.0,77.0,47.0,33.0,61.0,39.0,74.0,54.0,47.0,49.0,53.0,66.0,84.0,27.0,23.0,72.0,16.0,47.0,73.0,45.0,68.0,69.0,69.0,69.0,65.0,48.0,57.0,62.0,70.0,73.0,39.0,53.0,40.0,47.0,68.0,73.0,23.0,39.0,40.0,42.0,35.0,47.0,46.0,26.0,36.0,75.0,48.0,57.0,62.0,50.0,30.0,44.0,36.0,69.0,66.0,46.0,68.0,68.0,37.0,36.0,40.0,40.0,60.0,70.0,43.0,81.0,42.0,60.0,36.0,46.0,60.0,67.0,49.0,47.0,79.0,61.0,82.0,48.0,54.0,75.0,68.0,50.0,87.0,25.0,45.0,25.0,28.0,36.0,53.0,47.0,84.0,66.0,66.0,55.0,71.0,86.0,80.0,36.0,57.0,77.0,52.0,29.0,43.0,30.0,74.0,27.0,72.0,82.0,31.0,62.0,79.0,92.0,27.0,79.0,82.0,28.0,73.0,59.0,81.0,59.0,77.0,26.0,70.0,38.0,42.0,40.0,35.0,56.0,48.0,76.0,71.0,20.0,75.0,89.0,79.0,40.0,57.0,66.0,69.0,85.0,53.0,37.0,58.0,71.0,42.0,58.0,68.0,56.0,52.0,54.0,66.0,48.0,69.0,62.0,80.0,71.0,82.0,56.0,53.0,72.0,76.0,63.0,70.0,59.0,42.0,67.0,52.0,40.0,50.0,79.0,75.0,63.0,56.0,40.0,57.0,50.0,39.0,36.0,59.0,49.0,26.0,28.0,88.0,17.0,81.0,63.0,74.0,32.0,72.0,91.0,44.0,66.0,45.0,68.0,71.0,59.0,56.0,78.0,81.0,74.0,65.0,65.0,40.0,49.0,54.0,48.0,40.0,90.0,36.0,89.0,78.0,69.0,75.0,58.0,44.0,74.0,75.0,69.0,34.0,38.0,58.0,92.0,84.0,62.0,59.0,62.0,75.0,59.0,52.0,69.0,67.0,65.0,70.0,12.0,86.0,73.0,41.0,55.0,62.0,61.0,33.0,77.0,63.0,91.0,82.0,72.0,20.0,20.0,46.0,44.0,79.0,34.0,92.0,25.0,69.0,20.0,27.0,40.0,83.0,50.0,55.0,39.0,23.0,58.0,74.0,95.0,64.0],\"z\":[7,4,8,5,7,3,7,8,5,4,8,8,3,6,5,2,8,6,2,5,1,6,9,1,3,7,4,9,3,5,3,7,5,9,7,2,4,9,2,9,5,2,4,7,8,3,1,4,2,8,4,2,6,6,4,6,2,2,4,8,7,9,8,5,2,5,8,9,9,1,9,7,9,8,1,8,8,3,1,8,3,3,1,5,7,9,7,9,8,2,1,7,7,8,5,3,8,6,3,1,3,5,3,1,5,7,7,9,3,7,1,4,4,5,7,7,4,7,3,6,2,9,5,6,4,7,9,7,1,1,9,9,4,9,3,7,6,8,9,5,1,3,8,6,8,9,4,1,1,4,7,2,3,1,5,1,8,1,1,2,2,6,7,5,1,1,3,2,5,6,7,4,7,8,1,6,8,5,4,2,6,6,1,9,6,3,4,4,3,3,3,4,7,4,9,1,8,7,2,8,1,9,9,2,7,3,7,9,4,1,2,1,5,5,7,9,9,3,3,3,4,8,6,8,1,8,4,1,8,4,6,8,4,3,9,3,9,2,2,2,6,3,9,4,1,4,1,5,4,8,8,7,3,1,1,3,6,7,6,6,6,3,6,8,2,5,1,1,5,3,4,3,1,1,5,6,3,9,5,8,1,5,3,1,4,5,7,1,3,2,9,6,3,8,8,2,6,7,2,2,1,8,1,9,6,7,7,3,2,9,8,7,9,4,4,1,8,3,7,2,2,7,6,3,9,6,6,1,4,6,6,5,1,8,5,5,7,4,6,4,3,7,8,4,2,3,1,8,3,7,5,5,7,9,5,1,1,2,6,9,8,5,1,7,5,6,7,3,3,5,6,9,5,1,4,5,5,7,4,1,5,7,6,5,4,2,4,3,1,8,5,4,8,7,2,1,4,8,2,3,1,1,3,5,3,1,1,8,2,3,2,3,7,1,8,2,3,9,7,4,5,2,8,4,9,5,9,4,5,9,8,3,1,3,4,2,1,7,8,7,5,1,7,7,9,3,9,1,1,4,9,6,3,1,4,9,3,9,7,4,3,5,5,3,9,4,5,4,5,7,9,7,5,7,5,3,7,2,9,1,6,7,8,9,2,2,5,5,6,3,8,1,6,4,1,7,9,4,4,6,3,6,7,3,7,3,2,4,8,9,7,1,3,9,1,9,8,1,6,5,6,5,6,5,5,4,3,3,4,9,2,9,1,1,5,6,6,3,7,9,8,6,8,5,8,4,8,2,5,9,4,6,1,9,1,5,4,3,6,2,3,5,9,2,8,2,5,7,8,1,6,1,2,1,5,9,6,1,1,2,9,3,1,5,7,6,1,5,5,6,3,5,7,5,5,5,3,1,5,9,1,3,4,1,1,8,2,8,7,2,6,6,3,2,1,6,5,9,1,7,5,5,2,3,7,6,2,6,2,2,2,3,2,4,9,6,1,8,7,3,1,5,4,8,1,1,4,8,5,2,6,5,2,3,9,7,7,6,8,4,8,4,8,9,3,3,2,3,3,5,5,2,6,5,6,1,5,9,2,1,9,9,9,6,8,1,4,1,8,1,3,4,8,6,7,8,2,8,3,7,3,7,2,6,3,3,9,7,5,7,9,1,7,6,9,1,4,9,4,3,9,2,4,6,2,8,8,1,3,9,5,6,4,2,8,6,5,9,1,5,6,5,6,6,7,4,8,7,9,7,3,3,8,5,4,8,6,2,4,4,6,6,1,8,6,3,9,2,8,3,5,6,6,4,3,4,1,4,1,1,6,5,4,3,1,6,2,8,5,7,2,8,2,4,1,5,9,1,9,8,6,7,3,1,5,2,5,8,9,2,3,3,1,8,6,8,9,5,3,5,5,5,3,4,9,9,2,8,8,7,8,3,6,1,7,1,9,1,1,7,2,5,8,8,3,7,3,6,6,3,7,3,8,4,1,4,7,4,6,9,1,5,7,1,4,6,2,5,1,6,6,4,8,4,8,8,5,4,2,3,3,4,4,5,4,8,6,6,8,7,8,2,9,1,8,4,4,5,8,5,8,1,9,6,3,8,9,6,7,1,5,5,4,6,7,9,1,6,7,3,8,5,9,5,9,4,9,5,9,3,4,9,6,2,7,2,2,1,3,6,8,9,7,4,6,5,8,1,1,6,2,5,1,7,1,4,9,1,4,6,6,8,1,7,1,7,3,8,3,1,8,3,2,1,3,2,2,6,1,2,6,3,4,1,8,7,7,3,3,2,1,7,7,2,7,8,1,9,7,3,8,7,8,6,9,5,3,3,1,8,2,3,8,8,4,4,5,6,5,7,2,7,7,1,7,5,3,3,4,2,2,1,5,4,2,3,7,7,4,5,5,6,9,2,5,3,4,6,8,1,8,7,1,2,3,1,9,8,2,9,7,9,6,6,4,2,7,5,6,2,5,4,9,6,2,1,5,9,6,7,5,6,5,9,6,8,2,9,5,7,1,5,2,6,1,3,5,4,3,5,8,4,1,7,8,3,6,2,7,8,6,6,5,8,1,4,4,3,3,4,1,2,9,2,5,9,9,8,1,1,9,8,9,7,3,3,2,5,3,6,2,3,5,1,1,9,7,1,8,3,8,5,1,7,5,6,6,8,9,2,9,9,7,1,7,5,6,7,5,7,9,3,8,2,7,2,4,7,3,2,7,1,8,3,2,3,5,8,7,7,7,8,1,4,6,9,2,1,2,7,3,2,7,2,3,7,4,1,5,9,8,9,9,7,4,5,1,1,3,8,2,4,2,5,9,1,5,9,1,9,8,4,5,5,6,7,8,8,2,9,7,4,4,8,4,6,5,3,2,9,9,1,3,8,6,5,5,6,7,1,9,3,4,1,3,2,2,1,8,3,3,6,8,9,9,4,5,2,9,8,3,9,3,9,2,9,8,9,5,2,8,6,8,5,2,6,5,5,1,2,8,3,3,8,8,2,8,1,6,8,3,8,1,9,9,5,4,6,7,5,9,3,7,5,7,2,4,2,7,2,1,9,1,8,2,8,3,6,3,7,9,2,5,6,4,4,4,2,4,1,6,1,6,1,6,8,2,2,4,3,4,7,1,6,3,7,2,2,4,1,3,9,7,7,4,2,4,6,3,1,8,5,5,4,6,3,9,5,3,1,6,2,3,1,9,8,2,8,9,1,5,8,2,4,7,3,5,8,3,4,9,7,1,4,4,9,6,9,6,6,5,5,2,8,8,1,8,5,2,2,6,9,1,6,9,8,6,3,8,9,1,9,6,6,4,1,8,2,1,2,1,1,9,1,4,6,7,2,6,7,2,2,7,1,8,3,6,9,6,9,7,9,2,8,8,2,4,7,4,4,6,6,3,9,2,6,7,9,3,3,7,4,8,7,5,7,3,2,6,2,3,6,5,8,9,3,3,3,6,1,7,1,5,8,4,5,4,4,8,2,1,3,9,4,5,2,4,2,2,4,6,7,3,3,6,3,2,8,5,1,3,8,4,7,2,7,5,5,6,9,6,8,7,9,4,2,7,6,1,9,9,2,3,5,5,1,8,8,4,7,3,6,9,1,5,4,8,1,9,6,4,9,5,5,5,1,1,8,8,6,4,2,2,9,5,4,1,7,3,6,5,5,5,1,1,3,4,5,2,8,2,9,2,9,7,8,2,7,6,4,7,4,2,7,8,2,5,1,7,8,6,5,6,2,1,7,7,2,2,1,8,8,1,8,9,4,1,1,3,5,5,9,2,2,6,9,1,9,9,9,5,9,4,2,6,4,6,3,6,2,2,9,7,3,1,8,6,7,9,5,1,7,5,3,9,1,1,1,3,6,3,8,2,9,3,5,8,2,6,5,9,5,2,5,4,7,6,2,5,7,7,5,9,4,3,4,5,6,3,2,4,5,4,3,8,4,2,2,1,4,9,7,7,7,8,1,8,4,4,4,6,7,6,1,8,7,6,6,5,6,9,9,8,9,8,8,1,5,4,2,8,3,4,7,9,2,3,4,1,7,2,5,1,3,2,1,7,5,1,6,5,3,7,9,9,9,2,3,7,5,2,3,6,7,9,1,7,8,3,4,6,7,4,8,5,1,4,3,9,8,1,6,9,7,4,1,2,5,5,8,6,8,2,3,6,3,6,6,2,7,2,6,1,3,2,7,4,8,6,4,5,9,7,9,7,1,8,4,3,7,3,8,6,5,4,8,8,1,9,5,4,6,6,2,8,7,1,5,6,4,2,4,1,7,2,2,9,5,2,9,9,1,3,4,7,4,2,7,6,3,6,6,5,4,1,6,2,3,8,6,3,7,4,9,5,3,2,2,3,2,4,2,9,2,9,6,1,4,1,6,4,3,3,9,6,9,5,2,8,5,2,4,9,4,4,2,6,2,7,3,3,5,3,2,9,2,2,8,9,7,3,9,3,5,9,3,7,1,4,4,7,8,1,5,7,4,4,4,6,7,2,5,4,3,7,6,7,5,6,5,7,2,5,6,6,5,7,8,7,5,1,5,2,5,5,2,5,4,1,3,1,5,4,7,5,4,2,4,2,8,3,9,4,6,5,1,9,1,8,9,9,1,2,1,2,8,5,7,2,8,6,8,1,1,7,8,3,5,1,7,5,8,8,9,7,1,3,8,3,8,1,5,4,5,8,4,4,3,7,3,3,5,5,6,8,6,1,8,8,9,9,2,2,3,1,4,4,9,9,9,7,2,5,4,8,2,6,5,2,1,8,2,7,9,9,8,9,2,6,4,4,5,3,1,8,5,3,7,7,1,9,2,5,5,8,8,7,7,6,6,9,6,2,2,5,4,2,3,7,8,6,5,1,8,3,6,3,7,7,9,5,8,8,1,5,3,1,4,8,3,2,9,5,7,2,9,9,4,4,6,6,1,9,2,5,9,4,3,7,6,8,3,5,4,4,4,8,6,3,5,6,5,6,8,7,5,6,4,9,4,1,7,7,4,3,8,5,7,4,4,8,8,2,2,3,3,1,3,6,8,6,5,4,3,4,7,1,7,1,2,4,1,9,6,1,1,6,4,4,6,7,9,5,9,4,2,3,1,6,6,1,3,5,3,3,3,5,5,4,1,5,5,4,6,4,7,7,2,3,1,8,9,4,6,9,6,9,4,8,9,4,5,8,6,7,3,7,8,6,9,6,9,4,8,4,2,9,5,4,2,1,7,6,2,8,4,8,7,5,8,9,5,5,2,5,3,7,5,8,1,3,3,9,5,9,9,1,2,5,4,9,7,6,7,1,1,8,2,9,7,6,1,1,2,6,6,2,1,5,5,2,6,9,2,2,3,7,6,8,8,6,3,3,1,7,5,4,4,4,6,8,8,5,6,4,9,8,1,2,9,8,3,8,1,4,3,6,7,4,7,9,2,3,5,3,8,8,8,9,4,5,5,8,7,9,8,2,4,6,2,7,3,3,2,8,6,1,1,7,8,5,5,4,6,6,3,9,7,1,7,5,5,2,4,6,7,5,9,3,1,4,9,4,2,5,3,9,4,6,2,6,3,9,2,9,5,8,2,6,3,5,8,1,5,3,4,2,9,3,2,9,7,6,1,5,3,1,4,2,2,3,8,8,7,6,9,4,1,8,7,7,3,4,9,6,5,3,9,5,5,4,4,1,7,9,3,2,3,1,6,7,2,8,6,4,5,8,3,3,4,1,9,8,8,6,7,6,9,3,3,3,3,9,4,7,9,7,9,3,4,8,6,5,4,8,1,9,1,8,4,9,5,3,9,9,4,4,8,2,9,6,9,8,7,1,3,2,5,5,5,4,5,3,1,5,9,9,4,3,1,2,8,1,8,7,8,6,9,3,4,6,8,5,3,6,4,9,3,4,7,7,4,6,3,6,2,8,2,7,9,1,8,7,6,6,6,9,2,1,6,8,3,1,9,1,3,8,3,4,8,1,6,1,1,8,4,1,7,5,5,1,6,9,9,8,5,1,9,1,8,5,3,7,7,9,7,3,1,8,3,8,8,5,1,7,5,8,9,7,7,1,4,2,2,2,4,1,4,2,5,3,8,4,1,1,3,9,7,2,9,2,3,2,3,6,9,9,7,3,4,6,5,2,6,3,8,2,1,9,3,1,7,5,5,1,9,7,8,9,6,5,6,2,4,3,7,9,5,6,2,3,3,9,7,8,9,6,4,1,8,7,2,8,5,7,4,5,8,1,1,4,3,2,3,1,1,6,5,8,2,4,8,6,1,4,1,2,5,8,8,3,4,6,3,2,6,5,5,5,5,3,7,6,4,2,9,1,4,1,6,4,5,5,9,1,2,6,5,7,3,3,2,3,1,5,5,7,4,3,1,8,3,2,4,3,1,3,2,8,6,9,8,3,5,7,5,8,5,1,5,4,6,3,5,2,6,6,5,6,7,5,1,8,4,9,6,1,3,3,4,6,7,4,6,1,8,7,9,3,2,1,3,5,2,3,4,7,3,9,8,4,1,1,1,1,8,3,6,3,5,7,2,6,6,3,6,5,2,9,8,3,8,9,3,3,2,8,1,8,7,7,3,1,4,9,5,1,5,8,8,5,9,1,4,3,2,8,7,9,2,4,6,3,8,3,2,3,6,2,8,1,7,2,6,2,2,8,2,7,3,8,7,8,7,6,7,5,7,1,1,9,5,5,3,5,3,9,9,6,1,7,7,4,8,6,4,4,2,2,4,5,8,6,4,7,8,2,7,2,2,8,2,9,1,9,1,2,6,6,1,7,8,2,8,9,6,5,9,9,1,3,9,2,4,4,2,3,3,1,6,8,3,5,1,7,1,9,8,7,7,5,5,5,1,8,1,4,9,9,5,4,3,3,5,1,5,6,7,9,3,2,3,9,7,9,2,5,4,2,9,9,6,6,8,6,1,4,7,2,9,8,8,7,4,2,3,6,5,8,6,6,1,4,5,3,9,1,6,6,5,5,5,6,8,2,6,1,4,3,9,3,6,1,6,4,8,9,4,6,1,4,7,1,8,6,5,9,2,5,6,7,5,9,1,7,7,4,9,5,4,7,4,3,9,8,1,7,9,8,8,6,4,8,3,9,2,2,7,4,8,9,7,5,8,4,2,6,9,1,7,9,9,3,5,8,8,4,1,1,4,6,8,6,9,9,2,1,2,5,4,4,9,8,6,1,2,6,2,5,5,6,6,6,2,3,6,8,1,1,2,6,9,4,3,8,9,5,9,2,3,7,7,6,6,2,6,4,3,2,1,5,2,2,7,8,8,4,1,7,1,4,8,2,6,6,9,5,4,5,5,8,8,2,7,8,6,5,9,3,4,9,6,8,7,2,3,1,9,7,1,3,4,4,5,3,3,1,7,1,2,4,4,5,2,4,1,2,1,4,4,7,9,9,5,1,1,6,2,8,9,4,5,8,3,5,3,3,3,7,7,7,8,5,5,4,7,4,2,4,8,9,3,7,9,4,3,5,1,3,8,8,4,2,8,8,4,3,2,9,1,7,5,8,4,7,5,5,9,9,9,6,6,5,9,8,7,7,6,5,4,3,3,6,4,6,3,4,9,5,7,2,5,9,3,9,6,4,7,8,6,5,6,5,8,1,7,2,9,1,6,9,1,4,4,9,5,5,6,1,1,9,3,4,1,9,8,2,8,7,6,1,7,7,9,1,2,9,9,6,6,4,4,5,3,1,1,7,1,1,3,4,4,2,1,3,4,3,8,1,2,7,4,8,3,6,9,1,1,8,3,5,1,5,6,8,3,3,9,4,4,7,2,8,6,3,9,5,8,7,8,7,3,2,7,3,3,2,4,8,1,1,5,5,1,6,1,5,9,5,6,8,1,2,9,3,6,5,2,7,4,1,4,6,7,7,7,3,6,8,4,8,2,9,9,8,1,2,6,5,9,5,2,4,9,1,1,7,3,2,9,3,2,8,6,6,7,7,6,4,9,6,4,3,4,3,2,5,2,6,3,6,9,1,6,9,4,2,4,1,3,9,5,6,3,5,8,6,4,2,9,1,1,4,7,1,9,4,3,1,4,9,6,6,1,2,6,2,3,4,5,9,4,9,3,8,1,9,9,2,4,8,7,1,5,7,4,1,9,5,2,8,2,3,1,2,7,2,6,3,4,8,3,6,1,7,8,8,3,1,9,6,9,7,1,1,6,5,9,2,8,5,2,6,8,4,2,5,2,2,6,9,4,6,7,6,8,4,1,7,3,6,2,9,1,6,6,5,5,1,5,2,7,3,4,3,3,4,5,1,4,8,7,9,5,4,8,9,7,7,5,4,1,7,1,1,5,9,6,3,3,7,6,9,6,5,7,1,7,3,9,6,9,5,7,4,7,1,7,8,5,2,5,6,2,6,6,1,1,3,3,4,2,9,7,7,6,3,6,8,8,9,1,1,3,3,8,1,2,2,3,6,1,2,1,5,7,8,1,7,5,1,3,7,1,7,5,1,1,1,9,3,5,9,6,9,8,8,1,9,6,9,3,3,6,9,7,3,3,2,9,3,5,9,8,2,3,2,8,6,6,9,8,4,4,9,1,2,2,6,4,3,3,3,6,8,7,4,4,2,1,9,2,8,9,4,8,9,5,7,4,1,3,5,3,7,9,6,1,7,3,5,4,5,5,6,6,8,8,9,8,2,1,2,2,3,7,2,1,6,9,3,6,3,1,5,4,7,6,7,5,4,7,7,6,8,4,5,4,1,8,1,5,6,6,5,3,5,8,2,6,9,8,8,8,7,8,6,2,2,8,1,6,6,4,3,3,1,3,4,5,3,6,5,3,6,6,8,2,1,4,7,3,3,5,5,3,9,4,3,2,9,4,3,7,8,2,7,5,5,3,5,2,4,6,1,4,6,9,2,7,6,2,8,7,5,5,7,9,9,9,6,6,3,1,7,4,1,8,6,6,2,1,2,4,2,1,7,8,6,4,6,3,8,2,5,1,6,2,4,6,8,8,6,4,8,8,1,4,4,7,7,8,5,7,8,9,3,3,4,5,1,7,9,8,5,4,7,5,7,1,1,3,2,2,7,2,4,2,6,8,4,5,4,3,5,9,8,8,8,8,7,8,8,8,7,1,4,4,5,6,4,2,6,8,8,7,6,2,7,5,6,8,8,3,7,1,1,7,9,7,5,8,2,9,6,9,2,3,8,1,7,7,1,9,8,4,5,2,9,6,3,7,9,3,2,7,7,4,9,8,1,1,5,6,3,9,6,4,7,8,9,6,6,8,5,3,3,6,2,6,6,8,7,8,9,6,3,3,1,5,4,9,9,5,4,7,6,4,2,1,4,4,1,6,4,1,1,1,8,8,2,7,8,8,7,5,1,9,7,2,6,2,1,7,2,2,5,5,7,1,8,3,4,9,4,5,7,4,1,9,4,9,6,1,3,2,9,1,9,9,8,8,1,8,3,7,1,1,5,5,8,7,8,6,6,2,6,5,3,6,8,9,1,3,3,8,1,5,3,2,8,3,7,1,6,3,8,6,2,6,7,5,3,4,4,6,1,4,4,1,9,4,7,3,3,8,8,1,2,8,1,8,8,2,4,6,9,8,8,7,9,2,3,8,6,9,4,8,3,3,8,5,3,1,3,9,5,2,7,2,4,7,4,7,7,1,6,9,2,3,5,9,4,1,4,6,5,1,4,6,4,9,5,8,9,5,6,1,7,4,2,5,3,6,8,7,3,8,2,9,4,1,8,7,5,5,7,5,8,6,5,9,2,1,8,3,7,8,6,9,7,5,8,2,7,4,9,1,7,6,8,5,1,1,9,6,5,1,6,6,3,8,1,1,6,1,6,1,6,3,8,6,1,5,8,3,6,5,6,1,7,9,2,5,4,6,6,2,2,4,1,9,7,7,3,3,1,3,3,4,4,3,8,8,1,7,2,1,3,4,6,5,4,8,4,2,3,6,8,8,9,7,2,8,7,8,3,7,9,3,6,2,2,5,5,7,2,7,5,6,8,4,7,6,2,8,9,5,4,6,8,3,1,4,4,1,9,3,5,6,8,6,3,6,1,4,6,7,3,9,7,1,2,1,9,9,7,3,5,4,7,9,2,8,9,9,7,9,9,3,4,2,3,5,5,6,7,7,1,2,9,2,6,1,3,2,3,5,6,9,4,7,6,2,8,7,7,8,1,1,8,4,5,8,5,4,6,5,7,7,4,5,3,4,4,3,5,5,7,4,4,9,6,4,2,6,2,5,6,4,3,7,2,6,4,6,4,4,4,9,7,3,3,6,6,4,9,4,9,4,2,2,5,4,7,5,6,4,2,9,7,4,3,3,9,5,3,5,2,4,2,2,8,1,7,5,8,1,7,5,4,7,2,1,1,1,5,7,2,8,4,3,8,2,3,3,1,6,2,1,2,6,4,6,9,8,1,8,9,6,5,6,6,9,4,2,9,2,9,2,8,9,9,9,2,4,7,2,1,3,4,8,6,2,9,2,5,4,7,8,5,5,2,8,2,6,8,6,4,4,6,4,8,9,1,4,4,2,6,3,7,5,4,5,8,3,7,6,1,7,7,1,9,6,2,5,4,7,8,1,5,3,1,3,6,7,8,4,3,5,9,6,9,6,2,5,9,8,7,1,4,7,7,6,8,6,3,4,3,1,5,1,1,2,4,6,8,3,1,3,3,5,4,4,9,7,4,3,6,3,6,9,6,4,5,6,3,8,4,8,3,7,9,4,8,3,7,3,7,6,2,3,6,4,6,1,1,3,8,8,4,6,8,7,7,4,9,6,3,5,5,5,8,9,9,6,6,9,4,6,4,1,7,6,9,7,7,2,9,9,6,3,1,4,3,1,3,4,8,9,3,6,5,6,4,6,7,9,7,6,1,2,1,9,9,7,2,6,4,1,1,5,2,4,1,4,6,4,1,7,2,9,3,8,8,3,4,2,4,9,2,3,4,5,1,7,7,9,4,6,2,4,2,5,7,1,7,6,6,8,8,6,3,5,2,5,9,1,5,6,7,9,6,5,7,1,5,2,4,7,5,6,2,3,7,2,6,5,1,4,2,4,1,2,8,6,2,6,9,7,9,5,7,7,3,7,1,9,6,5,7,5,5,7,7,3,3,3,6,6,3,3,8,8,7,4,4,3,5,3,8,7,3,9,5,9,7,7,6,2,9,6,8,1,5,1,8,8,1,9,2,9,1,9,4,9,7,6,5,9,2,2,9,3,8,9,8,4,1,4,9,2,3,8,6,8,7,5,9,4,6,2,2,2,7,2,2,9,7,3,3,7,5,6,8,9,1,3,7,6,7,8,6,3,2,7,1,3,4,1,5,3,2,3,8,6,7,6,6,3,8,7,7,6,5,8,5,9,9,1,6,7,3,7,7,2,7,1,5,9,7,7,2,8,3,8,3,7,2,4,6,9,5,9,5,8,1,7,4,5,6,5,1,9,2,9,2,9,6,9,6,6,2,8,3,7,5,3,1,8,3,2,1,4,8,3,1,4,9,1,2,9,2,3,7,3,9,6,3,9,1,3,1,2,8,7,2,2,9,6,5,6,9,7,9,4,2,8,4,9,4,8,9,9,4,1,3,9,4,5,7,5,4,2,2,4,9,8,3,9,5,3,5,4,8,5,8,9,4,7,2,6,8,7,7,8,7,5,7,3,5,7,9,2,4,7,1,2,9,7,7,6,3,3,2,6,4,5,3,6,3,8,9,4,9,7,3,7,1,3,6,4,7,3,1,9,6,8,3,8,2,4,3,1,7,2,4,9,6,8,2,7,6,9,7,1,8,3,2,3,6,3,5,6,8,7,8,3,4,6,7,9,1,8,8,6,4,3,3,6,8,7,1,6,7,7,9,5,1,2,4,5,9,1,3,5,3,4,3,4,1,8,4,7,2,2,6,2,6,2,4,7,8,3,9,2,8,8,4,1,1,2,9,2,2,6,7,7,9,6,8,6,2,1,5,9,8,4,5,5,6,3,5,2,1,1,7,2,4,5,7,2,6,1,7,9,5,5,4,3,9,5,8,9,5,9,2,9,4,6,6,6,2,7,6,1,2,7,1,1,1,8,4,4,2,1,9,7,4,6,2,7,2,8,8,1,8,2,6,1,5,7,1,2,7,6,3,2,4,3,7,8,2,7,8,6,6,1,4,1,4,2,5,9,3,8,3,6,4,8,6,8,1,6,1,1,8,7,3,6,9,7,3,6,4,3,9,2,1,2,7,1,6,7,9,8,6,3,8,7,3,9,2,3,2,1,4,5,6,5,1,3,1,5,5,6,8,1,4,1,9,7,7,5,7,2,4,7,3,2,2,1,5,6,6,9,4,1,6,5,6,3,2,6,1,7,7,7,1,4,7,9,5,2,7,1,7,6,7,3,3,7,2,1,9,9,7,7,3,2,7,9,1,4,6,7,7,2,4,5,1,1,3,3,8,9,1,2,2,4,2,7,9,7,6,1,9,5,5,6,9,8,8,8,1,1,8,5,9,2,9,8,9,4,1,1,5,2,8,5,5,2,7,8,1,2,4,5,2,1,9,1,4,2,4,8,8,9,5,7,3,4,9,1,2,5,3,2,1,3,1,1,1,8,3,1,7,3,8,4,4,5,6,7,4,8,6,1,1,9,6,8,7,6,4,7,9,7,1,9,4,3,4,4,2,1,1,8,2,5,4,8,2,9,7,7,1,2,4,4,3,7,8,2,4,3,2,6,4,6,2,4,6,5,3,8,7,3,6,4,5,5,7,5,3,5,7,5,5,9,3,6,1,5,8,5,9,6,8,8,3,7,7,6,7,2,9,1,1,3,3,1,7,4,2,5,6,9,4,2,5,3,2,1,2,6,8,3,9,9,2,8,5,4,5,4,8,4,6,2,5,6,5,2,7,4,8,7,7,9,1,6,6,6,6,7,6,1,3,2,6,8,3,8,8,5,8,6,5,9,7,8,1,2,8,9,4,9,4,9,7,2,9,4,8,7,7,8,1,5,2,2,1,5,2,4,3,3,2,6,2,8,8,5,7,4,1,2,4,1,8,9,4,3,2,5,3,7,6,1,8,2,5,9,8,2,9,5,6,3,3,8,2,2,5,6,2,5,7,8,7,8,9,5,5,4,9,5,2,8,7,8,3,4,5,6,1,4,5,7,5,1,7,8,7,4,8,5,9,5,1,9,5,6,4,6,8,3,5,2,2,7,6,4,5,1,7,8,9,8,5,3,9,6,5,3,6,3,6,4,2,8,4,9,7,2,4,5,3,9,5,2,3,9,7,2,9,4,9,2,4,5,2,1,7,1,8,3,6,7,1,6,7,6,4,1,9,4,7,7,2,1,8,8,7,8,3,2,7,8,1,9,4,4,3,6,1,6,2,9,2,7,1,7,5,8,4,7,6,5,4,7,5,5,1,2,5,3,2,4,4,4,4,3,7,9,5,4,2,2,5,7,9,7,5,6,3,5,8,1,1,7,5,5,1,9,1,5,9,4,8,6,3,4,2,1,8,1,1,4,6,9,1,7,5,8,7,4,4,6,6,9,5,8,5,2,6,9,3,1,1,3,5,3,9,8,3,9,6,7,4,4,2,5,8,7,7,6,3,5,1,7,9,1,2,3,3,8,7,6,4,9,1,2,4,3,1,5,7,2,5,6,7,1,7,4,8,4,6,9,5,4,8,9,4,3,8,5,2,9,3,2,1,8,3,7,1,1,9,8,3,6,3,4,1,5,1,1,7,6,2,2,7,1,2,8,6,2,7,4,2,6,9,9,8,3,3,2,5,4,7,4,9,2,6,7,4,6,7,4,8,9,1,7,9,5,2,6,7,2,2,1,4,7,9,3,7,7,7,2,6,2,6,3,2,6,2,5,2,3,3,6,6,3,3,1,7,8,2,4,7,8,1,4,6,3,5,9,3,5,8,6,4,8,3,3,4,9,5,8,6,3,8,9,8,4,6,1,4,8,1,3,1,9,2,9,4,2,4,6,7,3,3,8,5,4,7,7,9,9,5,8,1,9,8,6,3,3,8,5,7,5,8,4,2,3,8,7,2,6,9,4,9,2,2,9,7,7,1,6,7,6,6,2,6,4,9,1,8,5,1,4,1,6,2,5,7,2,6,6,5,5,3,2,7,1,6,6,3,2,2,9,5,7,5,7,4,8,7,5,6,5,7,2,5,3,9,6,3,7,4,3,8,4,1,6,1,5,7,6,2,4,2,1,3,3,7,1,9,6,4,3,3,2,2,5,9,2,2,6,2,4,6,5,1,6,1,3,5,5,6,8,5,1,5,3,4,8,7,5,2,6,6,6,9,8,8,1,5,7,6,5,8,3,6,5,8,4,8,2,9,9,6,4,4,6,5,6,7,7,9,8,6,6,5,1,9,9,9,8,3,1,8,7,5,7,4,9,2,9,9,5,1,7,4,9,6,3,6,6,5,2,2,7,2,6,5,4,7,8,4,1,1,1,1,5,4,9,3,7,8,6,1,8,3,8,4,8,1,3,6,9,2,1,3,4,5,3,2,2,7,9,2,7,7,7,3,7,1,1,5,2,9,7,4,4,2,5,4,1,8,3,6,4,9,7,9,3,1,5,3,6,8,4,5,5,4,4,4,4,4,5,2,2,9,2,6,2,5,4,7,7,6,5,1,3,9,1,5,2,4,1,3,7,3,4,2,3,9,3,5,2,4,7,7,3,5,1,1,5,9,1,1,4,4,2,9,9,2,9,6,8,4,2,2,9,1,7,3,3,2,6,2,4,9,9,6,4,7,1,4,5,8,2,5,6,5,9,1,3,2,3,9,9,2,3,4,9,3,7,3,7,7,9,2,6,9,2,2,5,8,9,2,5,7,6,6,7,3,3,9,8,5,6,1,1,4,2,7,2,2,5,4,8,4,6,5,2,8,2,9,9,3,4,8,9,3,5,8,3,7,8,3,2,7,9,1,3,5,3,1,7,7,8,5,5,5,1,5,6,1,7,1,2,2,5,7,1,1,1,6,2,1,6,2,6,8,2,9,8,1,7,6,6,6,6,7,3,6,3,7,7,8,2,9,5,9,5,7,9,4,2,9,2,3,2,3,6,3,8,6,7,1,3,3,2,7,9,4,5,3,9,4,5,1,2,9,2,5,8,3,6,4,7,3,6,9,1,3,2,8,7,2,6,3,8,3,9,1,5,3,6,2,9,6,7,5,9,1,5,6,7,4,1,8,4,3,7,2,8,6,7,5,9,5,5,3,1,2,8,1,7,5,3,7,9,2,8,9,3,2,7,5,5,5,4,5,4,6,4,2,9,2,9,6,9,9,3,1,1,3,5,3,9,9,3,3,5,2,6,7,9,6,3,5,4,5,8,8,6,1,8,8,2,4,2,4,7,9,8,9,8,2,7,2,2,4,1,5,6,9,8,2,1,2,7,4,5,7,3,2,7,5,1,1,9,5,1,7,9,1,4,3,5,7,8,2,7,1,7,8,2,9,1,6,1,3,6,3,8,5,2,4,9,4,8,5,1,7,3,8,3,1,5,2,4,1,9,6,8,4,9,2,9,5,6,3,4,6,7,1,7,1,5,6,2,9,6,7,8,1,8,4,8,6,9,4,2,2,5,9,3,8,4,6,6,3,5,3,1,7,4,7,3,5,5,2,2,4,4,4,6,2,6,7,3,8,2,8,5,2,7,2,6,3,9,3,3,5,7,8,7,9,5,3,6,5,4,2,7,5,4,8,9,9,3,3,5,5,2,1,8,3,1,1,2,6,6,3,4,2,2,7,1,7,1,6,3,8,6,2,8,5,8,8,6,2,8,6,6,8,1,2,9,8,7,7,5,2,6,3,4,2,2,8,8,6,5,8,4,4,5,1,1,2,8,7,9,5,2,7,8,7,7,5,2,6,4,2,9,7,6,5,3,4,3,8,3,7,7,7,7,2,3,9,3,2,9,9,4,9,3,7,7,8,4,3,3,5,1,3,6,3,5,9,2,2,6,6,8,2,9,2,1,2,7,8,5,6,1,6,8,3,1,4,1,8,5,1,8,9,2,9,8,7,3,2,7,5,6,4,2,9,3,7,8,2,6,8,7,3,1,6,8,6,5,8,2,1,1,4,6,9,1,1,5,5,5,6,8,3,9,1,4,9,8,9,1,9,3,9,1,1,9,6,4,7,5,7,8,8,1,8,6,4,8,3,4,6,7,4,4,7,6,8,1,7,7,7,7,8,9,9,2,7,7,4,9,8,1,2,2,8,1,4,5,9,7,8,9,7,5,5,6,5,9,3,3,7,7,6,3,7,5,7,2,6,8,1,4,1,1,8,7,1,2,4,1,3,8,8,8,6,6,5,9,4,7,1,9,7,9,7,2,6,4,3,2,6,8,6,9,5,2,8,9,4,6,8,9,5,6,4,5,7,9,6,6,8,4,3,7,5,2,2,6,8,1,6,2,2,7,1,6,7,8,7,6,9,3,6,4,2,1,1,3,4,2,1,4,7,6,6,9,2,4,5,1,8,8,6,5,8,3,3,2,5,3,3,6,8,2,4,7,1,1,7,7,1,1,4,5,5,4,8,7,9,7,1,7,1,7,8,9,3,4,4,9,7,3,5,7,8,1,2,7,2,7,9,2,7,4,2,7,5,1,5,3,7,6,8,5,2,9,8,6,7,9,7,3,6,7,2,3,4,6,1,9,5,7,9,9,1,1,3,6,2,1,1,5,4,1,4,3,2,9,1,7,4,5,5,1,6,9,2,7,6,5,4,4,6,4,5,6,5,7,9,7,7,4,1,8,4,1,5,8,4,8,8,3,9,3,1,2,6,2,6,1,1,5,9,8,3,3,1,3,1,8,1,5,9,7,4,9,9,2,6,4,8,7,7,9,5,6,1,6,2,6,9,8,9,8,3,8,6,6,6,3,1,4,6,2,7,7,4,4,1,2,9,8,8,9,7,9,2,6,3,6,3,8,4,6,9,2,2,7,2,2,4,9,8,2,8,4,2,7,6,5,1,2,8,1,3,2,5,4,7,5,8,4,6,4,2,1,1,8,4,5,8,7,8,8,6,2,6,1,1,3,3,5,1,6,7,3,4,3,1,8,2,1,8,7,7,4,9,6,2,1,1,9,4,5,3,4,8,4,9,9,6,2,7,9,6,3,7,5,1,3,5,7,3,6,5,1,6,8,1,2,4,2,9,8,8,4,5,4,9,2,8,2,1,3,9,3,9,7,1,5,9,3,9,5,9,6,9,7,7,8,7,9,9,6,7,2,9,1,1,3,6,5,2,9,4,4,5,8,4,5,4,6,3,8,6,5,2,7,2,1,7,5,1,4,4,7,9,2,1,2,7,6,4,1,1,5,1,7,1,1,2,3,1,9,8,5,2,5,6,1,4,9,2,5,1,4,4,6,9,3,9,6,7,2,6,6,2,2,2,1,5,8,2,5,8,5,2,3,6,5,4,4,5,2,9,2,2,9,3,7,4,6,4,7,1,3,3,1,6,9,8,7,8,6,9,3,9,4,7,9,2,2,9,3,9,5,6,2,8,9,2,6,6,8,5,9,1,9,7,4,3,6,1,3,2,9,3,2,4,2,1,6,8,2,9,3,8,8,3,3,6,1,4,1,3,9,5,5,4,3,5,4,8,4,8,6,5,4,4,4,9,4,9,6,7,3,8,3,1,5,2,6,9,1,4,1,1,8,2,1,8,4,3,4,5,1,1,3,6,1,2,7,1,7,4,6,8,9,6,9,4,6,8,9,3,2,6,4,1,8,9,9,2,9,7,5,7,9,8,6,4,1,6,3,6,6,4,2,9,2,3,1,7,1,9,1,5,7,3,9,8,3,5,7,4,5,3,9,9,7,2,7,7,5,9,3,4,1,6,4,1,2,3,9,8,7,4,1,8,4,3,9,4,4,9,2,5,4,9,5,9,9,2,9,3,4,1,1,1,9,8,5,5,9,3,3,7,9,6,2,1,2,1,9,8,7,3,8,2,2,3,7,1,8,7,4,5,1,4,1,1,1,7,7,4,2,3,8,8,6,9,9,4,1,1,5,2,6,7,1,6,8,5,7,6,4,7,9,7,5,7,3,2,5,4,5,8,4,9,7,7,8,6,8,3,1,6,1,9,2,2,7,2,8,6,7,7,6,9,9,7,9,3,3,1,5,4,2,9,3,8,6,5,1,4,3,1,5,6,2,3,6,4,9,5,4,2,6,2,7,3,9,5,8,6,8,3,3,5,3,8,8,2,4,1,4,4,9,3,2,9,9,1,6,8,3,9,2,6,1,7,3,7,4,9,5,3,8,6,2,3,8,7,6,1,9,3,5,7,7,3,4,7,8,2,9,7,8,6,6,9,4,5,9,1,4,7,9,6,8,9,4,1,8,2,1,7,9,9,3,6,7,9,2,8,7,4,2,8,5,6,7,1,8,4,9,1,2,6,1,4,8,5,9,6,1,6,6,6,8,6,5,2,4,5,4,2,7,2,1,5,1,1,1,6,9,1,5,9,9,1,8,1,8,1,5,8,6,9,1,9,1,3,1,3,2,2,9,8,1,4,1,1,4,2,3,9,2,4,1,2,5,1,7,4,6,8,6,2,1,8,8,9,6,1,9,3,6,9,3,5,5,7,4,4,7,9,4,4,6,6,7,1,3,9,6,6,5,3,5,1,3,4,5,9,4,3,1,6,7,8,1,4,5,2,1,8,6,5,9,2,8,9,1,7,8,3,4,3,7,9,3,6,8,6,2,7,2,2,2,1,1,7,5,3,1,6,1,9,2,1,7,6,6,5,4,4,3,8,7,9,1,7,4,7,1,5,3,5,4,2,4,3,1,8,5,4,5,4,3,5,4,1,3,8,7,2,1,3,5,1,3,3,5,3,9,1,4,4,1,2,1,6,3,7,5,9,7,4,5,5,5,9,3,6,8,9,7,3,1,4,6,3,1,6,1,9,1,6,1,7,3,6,7,1,1,5,6,9,1,4,8,9,3,2,4,2,1,3,7,1,2,1,8,5,8,3,7,8,6,7,2,8,5,7,1,5,1,8,4,4,2,5,1,9,5,6,2,1,4,7,6,1,1,8,4,5,7,8,7,2,4,1,9,3,3,9,3,8,2,3,2,1,2,8,9,2,7,5,3,9,6,1,5,7,4,8,5,9,9,9,1,2,3,4,9,6,1,9,6,4,4,3,7,3,2,8,4,8,1,5,9,1,4,6,8,3,5,7,1,7,8,8,9,6,6,2,3,4,4,8,1,4,4,1,3,5,6,9,9,9,1,9,8,2,1,1,6,9,7,5,2,1,2,1,3,6,8,3,9,5,7,8,3,2,2,5,1,2,9,7,6,9,7,5,9,6,6,4,1,5,9,8,8,5,9,3,3,1,9,6,2,8,9,9,2,2,7,4,1,8,2,3,5,3,7,7,2,7,6,9,9,2,7,5,6,1,7,6,4,1,9,4,2,8,2,5,6,8,1,1,4,5,9,7,7,8,5,5,1,9,6,9,3,5,2,5,8,2,8,4,1,5,1,7,8,3,3,7,4,3,8,3,7,2,1,6,8,1,9,3,3,4,1,9,3,4,1,4,1,5,5,7,8,4,7,4,3,6,4,3,9,5,7,6,5,7,6,2,3,2,3,1,8,6,2,8,6,7,1,7,3,8,6,4,8,9,2,6,5,5,3,8,8,5,8,8,3,2,9,2,9,4,2,1,4,9,9,4,9,6,1,6,9,2,6,2,4,8,7,9,7,1,2,6,7,3,9,7,6,6,1,5,3,7,3,5,7,3,2,6,8,4,9,8,7,7,3,6,5,1,3,1,4,3,4,9,3,6,6,7,9,7,1,8,5,9,5,5,2,3,9,7,1,3,2,1,9,8,5,2,1,7,2,1,2,7,7,6,5,3,3,9,4,9,4,2,4,6,6,5,1,3,5,6,1,9,3,3,2,8,3,6,2,7,4,9,9,7,8,3,5,2,7,8,9,7,8,9,6,2,2,4,9,7,2,8,7,9,8,3,1,2,2,4,6,4,9,4,6,6,1,8,3,6,3,2,5,1,9,7,3,4,6,3,7,6,9,5,4,3,1,3,3,7,7,1,3,8,9,7,7,8,6,3,1,7,1,1,9,7,4,6,1,7,6,4,7,3,1,4,3,1,2,5,8,1,4,4,5,7,8,6,1,7,3,6,8,7,6,9,9,1,1,1,8,7,3,2,4,3,7,8,6,3,6,2,7,7,4,8,4,7,4,5,7,3,5,3,5,3,7,1,9,9,5,9,6,5,3,8,4,3,6,8,9,6,5,2,2,9,2,2,3,3,4,7,9,2,4,9,2,1,8,9,7,8,4,4,2,8,2,9,4,1,4,3,6,7,8,2,6,6,5,7,3,4,9,4,3,2,5,4,8,7,6,2,3,9,9,5,3,2,8,6,7,1,1,2,3,1,5,3,1,8,6,9,3,9,9,1,3,6,8,4,5,9,6,7,7,4,4,4,5,5,8,9,2,7,1,1,4,7,2,2,1,2,7,9,6,2,9,7,1,9,2,4,9,4,3,1,7,6,4,6,6,4,6,8,3,4,1,4,9,8,4,7,3,9,4,2,5,2,6,1,6,4,3,2,7,9,3,6,9,2,7,5,5,7,9,4,9,9,4,3,2,9,2,6,5,5,4,6,5,4,9,6,3,6,1,5,6,8,9,3,2,4,8,8,3,4,3,2,4,6,5,3,2,9,1,9,1,7,6,7,3,3,1,4,2,8,3,7,7,9,6,1,8,1,3,5,8,9,7,9,3,5,8,1,8,7,1,6,1,2,5,2,1,6,8,8,8,6,3,1,2,5,5,1,1,9,2,7,4,7,8,5,1,4,3,5,6,2,7,3,1,3,9,6,6,4,8,5,7,9,5,5,4,6,2,3,1,2,2,8,8,2,6,5,3,5,5,5,3,3,4,7,2,4,4,1,8,1,8,7,9,8,5,8,3,7,4,5,9,7,4,6,7,9,4,3,8,1,9,1,2,8,9,7,3,7,6,2,3,5,4,2,4,8,5,5,3,8,6,2,2,9,7,9,6,5,1,6,6,3,3,3,3,7,2,2,3,7,3,7,9,4,7,9,8,8,9,5,5,3,5,8,5,4,8,7,6,5,5,2,4,8,8,1,2,5,9,7,5,1,6,8,7,2,5,4,9,1,6,3,9,5,6,9,9,8,9,4,6,5,5,4,2,6,9,1,7,6,3,1,4,9,2,3,2,2,8,3,7,8,3,2,8,3,7,1,6,9,3,7,6,8,3,3,4,3,9,4,6,8,8,5,5,6,7,7,4,6,7,5,5,2,7,6,1,4,3,3,7,4,8,9,3,5,4,6,4,8,3,5,1,6,5,8,9,8,8,3,4,4,5,9,9,1,8,1,2,7,8,1,3,7,9,8,8,9,3,8,1,8,7,8,1,6,7,5,5,7,3,6,7,1,2,4,8,6,1,5,7,6,9,8,4,5,7,8,5,9,4,4,8,1,8,5,1,4,2,4,8,5,1,7,1,9,3,3,6,6,6,1,5,6,8,1,5,3,2,8,7,7,5,9,5,2,3,4,5,3,7,5,5,6,7,8,9,4,5,5,8,9,7,5,3,1,9,5,9,4,5,4,2,1,8,4,5,6,8,8,7,4,6,4,7,1,5,4,7,9,5,4,9,5,9,8,4,7,5,4,5,5,9,9,6,4,2,3,2,5,6,5,2,5,9,4,2,3,3,9,4,1,1,7,7,2,9,9,5,3,3,3,6,4,8,5,1,9,1,6,1,3,5,7,8,9,6,9,8,9,4,9,7,5,5,1,2,3,8,6,5,1,9,3,3,2,4,2,9,7,8,3,6,6,1,6,3,3,3,8,5,4,9,9,1,2,8,5,7,1,5,3,2,2,9,4,4,7,2,3,3,6,3,5,4,3,8,3,6,7,7,2,3,4,7,2,3,7,7,3,1,3,5,7,4,1,6,2,3,4,6,6,7,5,7,2,1,8,1,2,6,1,3,7,8,4,3,1,9,6,6,9,1,6,5,6,8,5,2,2,5,3,3,8,7,1,5,9,4,1,8,5,2,1,3,9,1,4,8,8,8,8,4,8,9,7,2,9,8,5,3,7,2,3,9,4,4,3,5,3,9,3,2,5,6,1,6,3,4,6,8,9,6,7,5,9,4,6,5,1,5,5,9,1,5,7,6,6,7,6,5,5,9,8,4,4,5,3,8,7,5,3,5,3,5,1,6,4,4,8,2,4,2,1,3,8,6,7,2,6,8,8,4,6,5,9,8,2,7,7,1,1,4,5,4,7,3,7,8,6,6,8,8,7,6,6,6,8,1,5,3,8,6,2,7,7,5,8,5,1,9,4,2,4,9,2,4,2,5,3,2,9,5,5,1,6,7,1,9,8,8,7,5,3,9,7,8,6,5,8,3,7,2,3,2,5,7,1,9,1,1,8,6,6,9,4,8,4,2,8,7,4,9,9,8,1,7,5,7,9,2,4,4,2,3,8,9,6,2,2,7,8,8,6,8,1,9,1,3,9,5,9,9,6,1,7,6,9,7],\"type\":\"scatter3d\"}],                        {\"template\":{\"data\":{\"histogram2dcontour\":[{\"type\":\"histogram2dcontour\",\"colorbar\":{\"outlinewidth\":0,\"ticks\":\"\"},\"colorscale\":[[0.0,\"#0d0887\"],[0.1111111111111111,\"#46039f\"],[0.2222222222222222,\"#7201a8\"],[0.3333333333333333,\"#9c179e\"],[0.4444444444444444,\"#bd3786\"],[0.5555555555555556,\"#d8576b\"],[0.6666666666666666,\"#ed7953\"],[0.7777777777777778,\"#fb9f3a\"],[0.8888888888888888,\"#fdca26\"],[1.0,\"#f0f921\"]]}],\"choropleth\":[{\"type\":\"choropleth\",\"colorbar\":{\"outlinewidth\":0,\"ticks\":\"\"}}],\"histogram2d\":[{\"type\":\"histogram2d\",\"colorbar\":{\"outlinewidth\":0,\"ticks\":\"\"},\"colorscale\":[[0.0,\"#0d0887\"],[0.1111111111111111,\"#46039f\"],[0.2222222222222222,\"#7201a8\"],[0.3333333333333333,\"#9c179e\"],[0.4444444444444444,\"#bd3786\"],[0.5555555555555556,\"#d8576b\"],[0.6666666666666666,\"#ed7953\"],[0.7777777777777778,\"#fb9f3a\"],[0.8888888888888888,\"#fdca26\"],[1.0,\"#f0f921\"]]}],\"heatmap\":[{\"type\":\"heatmap\",\"colorbar\":{\"outlinewidth\":0,\"ticks\":\"\"},\"colorscale\":[[0.0,\"#0d0887\"],[0.1111111111111111,\"#46039f\"],[0.2222222222222222,\"#7201a8\"],[0.3333333333333333,\"#9c179e\"],[0.4444444444444444,\"#bd3786\"],[0.5555555555555556,\"#d8576b\"],[0.6666666666666666,\"#ed7953\"],[0.7777777777777778,\"#fb9f3a\"],[0.8888888888888888,\"#fdca26\"],[1.0,\"#f0f921\"]]}],\"heatmapgl\":[{\"type\":\"heatmapgl\",\"colorbar\":{\"outlinewidth\":0,\"ticks\":\"\"},\"colorscale\":[[0.0,\"#0d0887\"],[0.1111111111111111,\"#46039f\"],[0.2222222222222222,\"#7201a8\"],[0.3333333333333333,\"#9c179e\"],[0.4444444444444444,\"#bd3786\"],[0.5555555555555556,\"#d8576b\"],[0.6666666666666666,\"#ed7953\"],[0.7777777777777778,\"#fb9f3a\"],[0.8888888888888888,\"#fdca26\"],[1.0,\"#f0f921\"]]}],\"contourcarpet\":[{\"type\":\"contourcarpet\",\"colorbar\":{\"outlinewidth\":0,\"ticks\":\"\"}}],\"contour\":[{\"type\":\"contour\",\"colorbar\":{\"outlinewidth\":0,\"ticks\":\"\"},\"colorscale\":[[0.0,\"#0d0887\"],[0.1111111111111111,\"#46039f\"],[0.2222222222222222,\"#7201a8\"],[0.3333333333333333,\"#9c179e\"],[0.4444444444444444,\"#bd3786\"],[0.5555555555555556,\"#d8576b\"],[0.6666666666666666,\"#ed7953\"],[0.7777777777777778,\"#fb9f3a\"],[0.8888888888888888,\"#fdca26\"],[1.0,\"#f0f921\"]]}],\"surface\":[{\"type\":\"surface\",\"colorbar\":{\"outlinewidth\":0,\"ticks\":\"\"},\"colorscale\":[[0.0,\"#0d0887\"],[0.1111111111111111,\"#46039f\"],[0.2222222222222222,\"#7201a8\"],[0.3333333333333333,\"#9c179e\"],[0.4444444444444444,\"#bd3786\"],[0.5555555555555556,\"#d8576b\"],[0.6666666666666666,\"#ed7953\"],[0.7777777777777778,\"#fb9f3a\"],[0.8888888888888888,\"#fdca26\"],[1.0,\"#f0f921\"]]}],\"mesh3d\":[{\"type\":\"mesh3d\",\"colorbar\":{\"outlinewidth\":0,\"ticks\":\"\"}}],\"scatter\":[{\"fillpattern\":{\"fillmode\":\"overlay\",\"size\":10,\"solidity\":0.2},\"type\":\"scatter\"}],\"parcoords\":[{\"type\":\"parcoords\",\"line\":{\"colorbar\":{\"outlinewidth\":0,\"ticks\":\"\"}}}],\"scatterpolargl\":[{\"type\":\"scatterpolargl\",\"marker\":{\"colorbar\":{\"outlinewidth\":0,\"ticks\":\"\"}}}],\"bar\":[{\"error_x\":{\"color\":\"#2a3f5f\"},\"error_y\":{\"color\":\"#2a3f5f\"},\"marker\":{\"line\":{\"color\":\"#E5ECF6\",\"width\":0.5},\"pattern\":{\"fillmode\":\"overlay\",\"size\":10,\"solidity\":0.2}},\"type\":\"bar\"}],\"scattergeo\":[{\"type\":\"scattergeo\",\"marker\":{\"colorbar\":{\"outlinewidth\":0,\"ticks\":\"\"}}}],\"scatterpolar\":[{\"type\":\"scatterpolar\",\"marker\":{\"colorbar\":{\"outlinewidth\":0,\"ticks\":\"\"}}}],\"histogram\":[{\"marker\":{\"pattern\":{\"fillmode\":\"overlay\",\"size\":10,\"solidity\":0.2}},\"type\":\"histogram\"}],\"scattergl\":[{\"type\":\"scattergl\",\"marker\":{\"colorbar\":{\"outlinewidth\":0,\"ticks\":\"\"}}}],\"scatter3d\":[{\"type\":\"scatter3d\",\"line\":{\"colorbar\":{\"outlinewidth\":0,\"ticks\":\"\"}},\"marker\":{\"colorbar\":{\"outlinewidth\":0,\"ticks\":\"\"}}}],\"scattermapbox\":[{\"type\":\"scattermapbox\",\"marker\":{\"colorbar\":{\"outlinewidth\":0,\"ticks\":\"\"}}}],\"scatterternary\":[{\"type\":\"scatterternary\",\"marker\":{\"colorbar\":{\"outlinewidth\":0,\"ticks\":\"\"}}}],\"scattercarpet\":[{\"type\":\"scattercarpet\",\"marker\":{\"colorbar\":{\"outlinewidth\":0,\"ticks\":\"\"}}}],\"carpet\":[{\"aaxis\":{\"endlinecolor\":\"#2a3f5f\",\"gridcolor\":\"white\",\"linecolor\":\"white\",\"minorgridcolor\":\"white\",\"startlinecolor\":\"#2a3f5f\"},\"baxis\":{\"endlinecolor\":\"#2a3f5f\",\"gridcolor\":\"white\",\"linecolor\":\"white\",\"minorgridcolor\":\"white\",\"startlinecolor\":\"#2a3f5f\"},\"type\":\"carpet\"}],\"table\":[{\"cells\":{\"fill\":{\"color\":\"#EBF0F8\"},\"line\":{\"color\":\"white\"}},\"header\":{\"fill\":{\"color\":\"#C8D4E3\"},\"line\":{\"color\":\"white\"}},\"type\":\"table\"}],\"barpolar\":[{\"marker\":{\"line\":{\"color\":\"#E5ECF6\",\"width\":0.5},\"pattern\":{\"fillmode\":\"overlay\",\"size\":10,\"solidity\":0.2}},\"type\":\"barpolar\"}],\"pie\":[{\"automargin\":true,\"type\":\"pie\"}]},\"layout\":{\"autotypenumbers\":\"strict\",\"colorway\":[\"#636efa\",\"#EF553B\",\"#00cc96\",\"#ab63fa\",\"#FFA15A\",\"#19d3f3\",\"#FF6692\",\"#B6E880\",\"#FF97FF\",\"#FECB52\"],\"font\":{\"color\":\"#2a3f5f\"},\"hovermode\":\"closest\",\"hoverlabel\":{\"align\":\"left\"},\"paper_bgcolor\":\"white\",\"plot_bgcolor\":\"#E5ECF6\",\"polar\":{\"bgcolor\":\"#E5ECF6\",\"angularaxis\":{\"gridcolor\":\"white\",\"linecolor\":\"white\",\"ticks\":\"\"},\"radialaxis\":{\"gridcolor\":\"white\",\"linecolor\":\"white\",\"ticks\":\"\"}},\"ternary\":{\"bgcolor\":\"#E5ECF6\",\"aaxis\":{\"gridcolor\":\"white\",\"linecolor\":\"white\",\"ticks\":\"\"},\"baxis\":{\"gridcolor\":\"white\",\"linecolor\":\"white\",\"ticks\":\"\"},\"caxis\":{\"gridcolor\":\"white\",\"linecolor\":\"white\",\"ticks\":\"\"}},\"coloraxis\":{\"colorbar\":{\"outlinewidth\":0,\"ticks\":\"\"}},\"colorscale\":{\"sequential\":[[0.0,\"#0d0887\"],[0.1111111111111111,\"#46039f\"],[0.2222222222222222,\"#7201a8\"],[0.3333333333333333,\"#9c179e\"],[0.4444444444444444,\"#bd3786\"],[0.5555555555555556,\"#d8576b\"],[0.6666666666666666,\"#ed7953\"],[0.7777777777777778,\"#fb9f3a\"],[0.8888888888888888,\"#fdca26\"],[1.0,\"#f0f921\"]],\"sequentialminus\":[[0.0,\"#0d0887\"],[0.1111111111111111,\"#46039f\"],[0.2222222222222222,\"#7201a8\"],[0.3333333333333333,\"#9c179e\"],[0.4444444444444444,\"#bd3786\"],[0.5555555555555556,\"#d8576b\"],[0.6666666666666666,\"#ed7953\"],[0.7777777777777778,\"#fb9f3a\"],[0.8888888888888888,\"#fdca26\"],[1.0,\"#f0f921\"]],\"diverging\":[[0,\"#8e0152\"],[0.1,\"#c51b7d\"],[0.2,\"#de77ae\"],[0.3,\"#f1b6da\"],[0.4,\"#fde0ef\"],[0.5,\"#f7f7f7\"],[0.6,\"#e6f5d0\"],[0.7,\"#b8e186\"],[0.8,\"#7fbc41\"],[0.9,\"#4d9221\"],[1,\"#276419\"]]},\"xaxis\":{\"gridcolor\":\"white\",\"linecolor\":\"white\",\"ticks\":\"\",\"title\":{\"standoff\":15},\"zerolinecolor\":\"white\",\"automargin\":true,\"zerolinewidth\":2},\"yaxis\":{\"gridcolor\":\"white\",\"linecolor\":\"white\",\"ticks\":\"\",\"title\":{\"standoff\":15},\"zerolinecolor\":\"white\",\"automargin\":true,\"zerolinewidth\":2},\"scene\":{\"xaxis\":{\"backgroundcolor\":\"#E5ECF6\",\"gridcolor\":\"white\",\"linecolor\":\"white\",\"showbackground\":true,\"ticks\":\"\",\"zerolinecolor\":\"white\",\"gridwidth\":2},\"yaxis\":{\"backgroundcolor\":\"#E5ECF6\",\"gridcolor\":\"white\",\"linecolor\":\"white\",\"showbackground\":true,\"ticks\":\"\",\"zerolinecolor\":\"white\",\"gridwidth\":2},\"zaxis\":{\"backgroundcolor\":\"#E5ECF6\",\"gridcolor\":\"white\",\"linecolor\":\"white\",\"showbackground\":true,\"ticks\":\"\",\"zerolinecolor\":\"white\",\"gridwidth\":2}},\"shapedefaults\":{\"line\":{\"color\":\"#2a3f5f\"}},\"annotationdefaults\":{\"arrowcolor\":\"#2a3f5f\",\"arrowhead\":0,\"arrowwidth\":1},\"geo\":{\"bgcolor\":\"white\",\"landcolor\":\"#E5ECF6\",\"subunitcolor\":\"white\",\"showland\":true,\"showlakes\":true,\"lakecolor\":\"white\"},\"title\":{\"x\":0.05},\"mapbox\":{\"style\":\"light\"}}},\"scene\":{\"domain\":{\"x\":[0.0,1.0],\"y\":[0.0,1.0]},\"xaxis\":{\"title\":{\"text\":\"Previous Scores\"}},\"yaxis\":{\"title\":{\"text\":\"Performance Index\"}},\"zaxis\":{\"title\":{\"text\":\"Hours Studied\"}}},\"legend\":{\"tracegroupgap\":0},\"margin\":{\"t\":60}},                        {\"responsive\": true}                    ).then(function(){\n",
              "                            \n",
              "var gd = document.getElementById('7289de77-486d-4b3a-8743-ecc9d0734227');\n",
              "var x = new MutationObserver(function (mutations, observer) {{\n",
              "        var display = window.getComputedStyle(gd).display;\n",
              "        if (!display || display === 'none') {{\n",
              "            console.log([gd, 'removed!']);\n",
              "            Plotly.purge(gd);\n",
              "            observer.disconnect();\n",
              "        }}\n",
              "}});\n",
              "\n",
              "// Listen for the removal of the full notebook cells\n",
              "var notebookContainer = gd.closest('#notebook-container');\n",
              "if (notebookContainer) {{\n",
              "    x.observe(notebookContainer, {childList: true});\n",
              "}}\n",
              "\n",
              "// Listen for the clearing of the current output cell\n",
              "var outputEl = gd.closest('.output');\n",
              "if (outputEl) {{\n",
              "    x.observe(outputEl, {childList: true});\n",
              "}}\n",
              "\n",
              "                        })                };                            </script>        </div>\n",
              "</body>\n",
              "</html>"
            ]
          },
          "metadata": {}
        }
      ]
    },
    {
      "cell_type": "code",
      "source": [
        "X = stud_df.iloc[:, :2]\n",
        "y = stud_df.iloc[:, -1]\n",
        "\n",
        "X_Train, X_test, y_train, y_test = train_test_split(X, y, test_size=.3, random_state=4)"
      ],
      "metadata": {
        "id": "fKzxYn1BJKjP"
      },
      "execution_count": 40,
      "outputs": []
    },
    {
      "cell_type": "code",
      "source": [
        "y_train.shape\n",
        "# X_Train.shape"
      ],
      "metadata": {
        "colab": {
          "base_uri": "https://localhost:8080/"
        },
        "id": "qyL6_yskKhVw",
        "outputId": "0fa63d4c-46f7-4eb6-d2e7-9c6f04324af0"
      },
      "execution_count": 41,
      "outputs": [
        {
          "output_type": "execute_result",
          "data": {
            "text/plain": [
              "(7000,)"
            ]
          },
          "metadata": {},
          "execution_count": 41
        }
      ]
    },
    {
      "cell_type": "code",
      "source": [
        "lr = LinearRegression()"
      ],
      "metadata": {
        "id": "iQO1TcPnKI0i"
      },
      "execution_count": 42,
      "outputs": []
    },
    {
      "cell_type": "code",
      "source": [
        "lr.fit(X_Train, y_train)\n"
      ],
      "metadata": {
        "colab": {
          "base_uri": "https://localhost:8080/",
          "height": 80
        },
        "id": "7lVf18Q8KPr8",
        "outputId": "8d9be3dc-7f55-45e4-a6a4-fac5657bb86a"
      },
      "execution_count": 43,
      "outputs": [
        {
          "output_type": "execute_result",
          "data": {
            "text/plain": [
              "LinearRegression()"
            ],
            "text/html": [
              "<style>#sk-container-id-1 {\n",
              "  /* Definition of color scheme common for light and dark mode */\n",
              "  --sklearn-color-text: #000;\n",
              "  --sklearn-color-text-muted: #666;\n",
              "  --sklearn-color-line: gray;\n",
              "  /* Definition of color scheme for unfitted estimators */\n",
              "  --sklearn-color-unfitted-level-0: #fff5e6;\n",
              "  --sklearn-color-unfitted-level-1: #f6e4d2;\n",
              "  --sklearn-color-unfitted-level-2: #ffe0b3;\n",
              "  --sklearn-color-unfitted-level-3: chocolate;\n",
              "  /* Definition of color scheme for fitted estimators */\n",
              "  --sklearn-color-fitted-level-0: #f0f8ff;\n",
              "  --sklearn-color-fitted-level-1: #d4ebff;\n",
              "  --sklearn-color-fitted-level-2: #b3dbfd;\n",
              "  --sklearn-color-fitted-level-3: cornflowerblue;\n",
              "\n",
              "  /* Specific color for light theme */\n",
              "  --sklearn-color-text-on-default-background: var(--sg-text-color, var(--theme-code-foreground, var(--jp-content-font-color1, black)));\n",
              "  --sklearn-color-background: var(--sg-background-color, var(--theme-background, var(--jp-layout-color0, white)));\n",
              "  --sklearn-color-border-box: var(--sg-text-color, var(--theme-code-foreground, var(--jp-content-font-color1, black)));\n",
              "  --sklearn-color-icon: #696969;\n",
              "\n",
              "  @media (prefers-color-scheme: dark) {\n",
              "    /* Redefinition of color scheme for dark theme */\n",
              "    --sklearn-color-text-on-default-background: var(--sg-text-color, var(--theme-code-foreground, var(--jp-content-font-color1, white)));\n",
              "    --sklearn-color-background: var(--sg-background-color, var(--theme-background, var(--jp-layout-color0, #111)));\n",
              "    --sklearn-color-border-box: var(--sg-text-color, var(--theme-code-foreground, var(--jp-content-font-color1, white)));\n",
              "    --sklearn-color-icon: #878787;\n",
              "  }\n",
              "}\n",
              "\n",
              "#sk-container-id-1 {\n",
              "  color: var(--sklearn-color-text);\n",
              "}\n",
              "\n",
              "#sk-container-id-1 pre {\n",
              "  padding: 0;\n",
              "}\n",
              "\n",
              "#sk-container-id-1 input.sk-hidden--visually {\n",
              "  border: 0;\n",
              "  clip: rect(1px 1px 1px 1px);\n",
              "  clip: rect(1px, 1px, 1px, 1px);\n",
              "  height: 1px;\n",
              "  margin: -1px;\n",
              "  overflow: hidden;\n",
              "  padding: 0;\n",
              "  position: absolute;\n",
              "  width: 1px;\n",
              "}\n",
              "\n",
              "#sk-container-id-1 div.sk-dashed-wrapped {\n",
              "  border: 1px dashed var(--sklearn-color-line);\n",
              "  margin: 0 0.4em 0.5em 0.4em;\n",
              "  box-sizing: border-box;\n",
              "  padding-bottom: 0.4em;\n",
              "  background-color: var(--sklearn-color-background);\n",
              "}\n",
              "\n",
              "#sk-container-id-1 div.sk-container {\n",
              "  /* jupyter's `normalize.less` sets `[hidden] { display: none; }`\n",
              "     but bootstrap.min.css set `[hidden] { display: none !important; }`\n",
              "     so we also need the `!important` here to be able to override the\n",
              "     default hidden behavior on the sphinx rendered scikit-learn.org.\n",
              "     See: https://github.com/scikit-learn/scikit-learn/issues/21755 */\n",
              "  display: inline-block !important;\n",
              "  position: relative;\n",
              "}\n",
              "\n",
              "#sk-container-id-1 div.sk-text-repr-fallback {\n",
              "  display: none;\n",
              "}\n",
              "\n",
              "div.sk-parallel-item,\n",
              "div.sk-serial,\n",
              "div.sk-item {\n",
              "  /* draw centered vertical line to link estimators */\n",
              "  background-image: linear-gradient(var(--sklearn-color-text-on-default-background), var(--sklearn-color-text-on-default-background));\n",
              "  background-size: 2px 100%;\n",
              "  background-repeat: no-repeat;\n",
              "  background-position: center center;\n",
              "}\n",
              "\n",
              "/* Parallel-specific style estimator block */\n",
              "\n",
              "#sk-container-id-1 div.sk-parallel-item::after {\n",
              "  content: \"\";\n",
              "  width: 100%;\n",
              "  border-bottom: 2px solid var(--sklearn-color-text-on-default-background);\n",
              "  flex-grow: 1;\n",
              "}\n",
              "\n",
              "#sk-container-id-1 div.sk-parallel {\n",
              "  display: flex;\n",
              "  align-items: stretch;\n",
              "  justify-content: center;\n",
              "  background-color: var(--sklearn-color-background);\n",
              "  position: relative;\n",
              "}\n",
              "\n",
              "#sk-container-id-1 div.sk-parallel-item {\n",
              "  display: flex;\n",
              "  flex-direction: column;\n",
              "}\n",
              "\n",
              "#sk-container-id-1 div.sk-parallel-item:first-child::after {\n",
              "  align-self: flex-end;\n",
              "  width: 50%;\n",
              "}\n",
              "\n",
              "#sk-container-id-1 div.sk-parallel-item:last-child::after {\n",
              "  align-self: flex-start;\n",
              "  width: 50%;\n",
              "}\n",
              "\n",
              "#sk-container-id-1 div.sk-parallel-item:only-child::after {\n",
              "  width: 0;\n",
              "}\n",
              "\n",
              "/* Serial-specific style estimator block */\n",
              "\n",
              "#sk-container-id-1 div.sk-serial {\n",
              "  display: flex;\n",
              "  flex-direction: column;\n",
              "  align-items: center;\n",
              "  background-color: var(--sklearn-color-background);\n",
              "  padding-right: 1em;\n",
              "  padding-left: 1em;\n",
              "}\n",
              "\n",
              "\n",
              "/* Toggleable style: style used for estimator/Pipeline/ColumnTransformer box that is\n",
              "clickable and can be expanded/collapsed.\n",
              "- Pipeline and ColumnTransformer use this feature and define the default style\n",
              "- Estimators will overwrite some part of the style using the `sk-estimator` class\n",
              "*/\n",
              "\n",
              "/* Pipeline and ColumnTransformer style (default) */\n",
              "\n",
              "#sk-container-id-1 div.sk-toggleable {\n",
              "  /* Default theme specific background. It is overwritten whether we have a\n",
              "  specific estimator or a Pipeline/ColumnTransformer */\n",
              "  background-color: var(--sklearn-color-background);\n",
              "}\n",
              "\n",
              "/* Toggleable label */\n",
              "#sk-container-id-1 label.sk-toggleable__label {\n",
              "  cursor: pointer;\n",
              "  display: flex;\n",
              "  width: 100%;\n",
              "  margin-bottom: 0;\n",
              "  padding: 0.5em;\n",
              "  box-sizing: border-box;\n",
              "  text-align: center;\n",
              "  align-items: start;\n",
              "  justify-content: space-between;\n",
              "  gap: 0.5em;\n",
              "}\n",
              "\n",
              "#sk-container-id-1 label.sk-toggleable__label .caption {\n",
              "  font-size: 0.6rem;\n",
              "  font-weight: lighter;\n",
              "  color: var(--sklearn-color-text-muted);\n",
              "}\n",
              "\n",
              "#sk-container-id-1 label.sk-toggleable__label-arrow:before {\n",
              "  /* Arrow on the left of the label */\n",
              "  content: \"▸\";\n",
              "  float: left;\n",
              "  margin-right: 0.25em;\n",
              "  color: var(--sklearn-color-icon);\n",
              "}\n",
              "\n",
              "#sk-container-id-1 label.sk-toggleable__label-arrow:hover:before {\n",
              "  color: var(--sklearn-color-text);\n",
              "}\n",
              "\n",
              "/* Toggleable content - dropdown */\n",
              "\n",
              "#sk-container-id-1 div.sk-toggleable__content {\n",
              "  max-height: 0;\n",
              "  max-width: 0;\n",
              "  overflow: hidden;\n",
              "  text-align: left;\n",
              "  /* unfitted */\n",
              "  background-color: var(--sklearn-color-unfitted-level-0);\n",
              "}\n",
              "\n",
              "#sk-container-id-1 div.sk-toggleable__content.fitted {\n",
              "  /* fitted */\n",
              "  background-color: var(--sklearn-color-fitted-level-0);\n",
              "}\n",
              "\n",
              "#sk-container-id-1 div.sk-toggleable__content pre {\n",
              "  margin: 0.2em;\n",
              "  border-radius: 0.25em;\n",
              "  color: var(--sklearn-color-text);\n",
              "  /* unfitted */\n",
              "  background-color: var(--sklearn-color-unfitted-level-0);\n",
              "}\n",
              "\n",
              "#sk-container-id-1 div.sk-toggleable__content.fitted pre {\n",
              "  /* unfitted */\n",
              "  background-color: var(--sklearn-color-fitted-level-0);\n",
              "}\n",
              "\n",
              "#sk-container-id-1 input.sk-toggleable__control:checked~div.sk-toggleable__content {\n",
              "  /* Expand drop-down */\n",
              "  max-height: 200px;\n",
              "  max-width: 100%;\n",
              "  overflow: auto;\n",
              "}\n",
              "\n",
              "#sk-container-id-1 input.sk-toggleable__control:checked~label.sk-toggleable__label-arrow:before {\n",
              "  content: \"▾\";\n",
              "}\n",
              "\n",
              "/* Pipeline/ColumnTransformer-specific style */\n",
              "\n",
              "#sk-container-id-1 div.sk-label input.sk-toggleable__control:checked~label.sk-toggleable__label {\n",
              "  color: var(--sklearn-color-text);\n",
              "  background-color: var(--sklearn-color-unfitted-level-2);\n",
              "}\n",
              "\n",
              "#sk-container-id-1 div.sk-label.fitted input.sk-toggleable__control:checked~label.sk-toggleable__label {\n",
              "  background-color: var(--sklearn-color-fitted-level-2);\n",
              "}\n",
              "\n",
              "/* Estimator-specific style */\n",
              "\n",
              "/* Colorize estimator box */\n",
              "#sk-container-id-1 div.sk-estimator input.sk-toggleable__control:checked~label.sk-toggleable__label {\n",
              "  /* unfitted */\n",
              "  background-color: var(--sklearn-color-unfitted-level-2);\n",
              "}\n",
              "\n",
              "#sk-container-id-1 div.sk-estimator.fitted input.sk-toggleable__control:checked~label.sk-toggleable__label {\n",
              "  /* fitted */\n",
              "  background-color: var(--sklearn-color-fitted-level-2);\n",
              "}\n",
              "\n",
              "#sk-container-id-1 div.sk-label label.sk-toggleable__label,\n",
              "#sk-container-id-1 div.sk-label label {\n",
              "  /* The background is the default theme color */\n",
              "  color: var(--sklearn-color-text-on-default-background);\n",
              "}\n",
              "\n",
              "/* On hover, darken the color of the background */\n",
              "#sk-container-id-1 div.sk-label:hover label.sk-toggleable__label {\n",
              "  color: var(--sklearn-color-text);\n",
              "  background-color: var(--sklearn-color-unfitted-level-2);\n",
              "}\n",
              "\n",
              "/* Label box, darken color on hover, fitted */\n",
              "#sk-container-id-1 div.sk-label.fitted:hover label.sk-toggleable__label.fitted {\n",
              "  color: var(--sklearn-color-text);\n",
              "  background-color: var(--sklearn-color-fitted-level-2);\n",
              "}\n",
              "\n",
              "/* Estimator label */\n",
              "\n",
              "#sk-container-id-1 div.sk-label label {\n",
              "  font-family: monospace;\n",
              "  font-weight: bold;\n",
              "  display: inline-block;\n",
              "  line-height: 1.2em;\n",
              "}\n",
              "\n",
              "#sk-container-id-1 div.sk-label-container {\n",
              "  text-align: center;\n",
              "}\n",
              "\n",
              "/* Estimator-specific */\n",
              "#sk-container-id-1 div.sk-estimator {\n",
              "  font-family: monospace;\n",
              "  border: 1px dotted var(--sklearn-color-border-box);\n",
              "  border-radius: 0.25em;\n",
              "  box-sizing: border-box;\n",
              "  margin-bottom: 0.5em;\n",
              "  /* unfitted */\n",
              "  background-color: var(--sklearn-color-unfitted-level-0);\n",
              "}\n",
              "\n",
              "#sk-container-id-1 div.sk-estimator.fitted {\n",
              "  /* fitted */\n",
              "  background-color: var(--sklearn-color-fitted-level-0);\n",
              "}\n",
              "\n",
              "/* on hover */\n",
              "#sk-container-id-1 div.sk-estimator:hover {\n",
              "  /* unfitted */\n",
              "  background-color: var(--sklearn-color-unfitted-level-2);\n",
              "}\n",
              "\n",
              "#sk-container-id-1 div.sk-estimator.fitted:hover {\n",
              "  /* fitted */\n",
              "  background-color: var(--sklearn-color-fitted-level-2);\n",
              "}\n",
              "\n",
              "/* Specification for estimator info (e.g. \"i\" and \"?\") */\n",
              "\n",
              "/* Common style for \"i\" and \"?\" */\n",
              "\n",
              ".sk-estimator-doc-link,\n",
              "a:link.sk-estimator-doc-link,\n",
              "a:visited.sk-estimator-doc-link {\n",
              "  float: right;\n",
              "  font-size: smaller;\n",
              "  line-height: 1em;\n",
              "  font-family: monospace;\n",
              "  background-color: var(--sklearn-color-background);\n",
              "  border-radius: 1em;\n",
              "  height: 1em;\n",
              "  width: 1em;\n",
              "  text-decoration: none !important;\n",
              "  margin-left: 0.5em;\n",
              "  text-align: center;\n",
              "  /* unfitted */\n",
              "  border: var(--sklearn-color-unfitted-level-1) 1pt solid;\n",
              "  color: var(--sklearn-color-unfitted-level-1);\n",
              "}\n",
              "\n",
              ".sk-estimator-doc-link.fitted,\n",
              "a:link.sk-estimator-doc-link.fitted,\n",
              "a:visited.sk-estimator-doc-link.fitted {\n",
              "  /* fitted */\n",
              "  border: var(--sklearn-color-fitted-level-1) 1pt solid;\n",
              "  color: var(--sklearn-color-fitted-level-1);\n",
              "}\n",
              "\n",
              "/* On hover */\n",
              "div.sk-estimator:hover .sk-estimator-doc-link:hover,\n",
              ".sk-estimator-doc-link:hover,\n",
              "div.sk-label-container:hover .sk-estimator-doc-link:hover,\n",
              ".sk-estimator-doc-link:hover {\n",
              "  /* unfitted */\n",
              "  background-color: var(--sklearn-color-unfitted-level-3);\n",
              "  color: var(--sklearn-color-background);\n",
              "  text-decoration: none;\n",
              "}\n",
              "\n",
              "div.sk-estimator.fitted:hover .sk-estimator-doc-link.fitted:hover,\n",
              ".sk-estimator-doc-link.fitted:hover,\n",
              "div.sk-label-container:hover .sk-estimator-doc-link.fitted:hover,\n",
              ".sk-estimator-doc-link.fitted:hover {\n",
              "  /* fitted */\n",
              "  background-color: var(--sklearn-color-fitted-level-3);\n",
              "  color: var(--sklearn-color-background);\n",
              "  text-decoration: none;\n",
              "}\n",
              "\n",
              "/* Span, style for the box shown on hovering the info icon */\n",
              ".sk-estimator-doc-link span {\n",
              "  display: none;\n",
              "  z-index: 9999;\n",
              "  position: relative;\n",
              "  font-weight: normal;\n",
              "  right: .2ex;\n",
              "  padding: .5ex;\n",
              "  margin: .5ex;\n",
              "  width: min-content;\n",
              "  min-width: 20ex;\n",
              "  max-width: 50ex;\n",
              "  color: var(--sklearn-color-text);\n",
              "  box-shadow: 2pt 2pt 4pt #999;\n",
              "  /* unfitted */\n",
              "  background: var(--sklearn-color-unfitted-level-0);\n",
              "  border: .5pt solid var(--sklearn-color-unfitted-level-3);\n",
              "}\n",
              "\n",
              ".sk-estimator-doc-link.fitted span {\n",
              "  /* fitted */\n",
              "  background: var(--sklearn-color-fitted-level-0);\n",
              "  border: var(--sklearn-color-fitted-level-3);\n",
              "}\n",
              "\n",
              ".sk-estimator-doc-link:hover span {\n",
              "  display: block;\n",
              "}\n",
              "\n",
              "/* \"?\"-specific style due to the `<a>` HTML tag */\n",
              "\n",
              "#sk-container-id-1 a.estimator_doc_link {\n",
              "  float: right;\n",
              "  font-size: 1rem;\n",
              "  line-height: 1em;\n",
              "  font-family: monospace;\n",
              "  background-color: var(--sklearn-color-background);\n",
              "  border-radius: 1rem;\n",
              "  height: 1rem;\n",
              "  width: 1rem;\n",
              "  text-decoration: none;\n",
              "  /* unfitted */\n",
              "  color: var(--sklearn-color-unfitted-level-1);\n",
              "  border: var(--sklearn-color-unfitted-level-1) 1pt solid;\n",
              "}\n",
              "\n",
              "#sk-container-id-1 a.estimator_doc_link.fitted {\n",
              "  /* fitted */\n",
              "  border: var(--sklearn-color-fitted-level-1) 1pt solid;\n",
              "  color: var(--sklearn-color-fitted-level-1);\n",
              "}\n",
              "\n",
              "/* On hover */\n",
              "#sk-container-id-1 a.estimator_doc_link:hover {\n",
              "  /* unfitted */\n",
              "  background-color: var(--sklearn-color-unfitted-level-3);\n",
              "  color: var(--sklearn-color-background);\n",
              "  text-decoration: none;\n",
              "}\n",
              "\n",
              "#sk-container-id-1 a.estimator_doc_link.fitted:hover {\n",
              "  /* fitted */\n",
              "  background-color: var(--sklearn-color-fitted-level-3);\n",
              "}\n",
              "</style><div id=\"sk-container-id-1\" class=\"sk-top-container\"><div class=\"sk-text-repr-fallback\"><pre>LinearRegression()</pre><b>In a Jupyter environment, please rerun this cell to show the HTML representation or trust the notebook. <br />On GitHub, the HTML representation is unable to render, please try loading this page with nbviewer.org.</b></div><div class=\"sk-container\" hidden><div class=\"sk-item\"><div class=\"sk-estimator fitted sk-toggleable\"><input class=\"sk-toggleable__control sk-hidden--visually\" id=\"sk-estimator-id-1\" type=\"checkbox\" checked><label for=\"sk-estimator-id-1\" class=\"sk-toggleable__label fitted sk-toggleable__label-arrow\"><div><div>LinearRegression</div></div><div><a class=\"sk-estimator-doc-link fitted\" rel=\"noreferrer\" target=\"_blank\" href=\"https://scikit-learn.org/1.6/modules/generated/sklearn.linear_model.LinearRegression.html\">?<span>Documentation for LinearRegression</span></a><span class=\"sk-estimator-doc-link fitted\">i<span>Fitted</span></span></div></label><div class=\"sk-toggleable__content fitted\"><pre>LinearRegression()</pre></div> </div></div></div></div>"
            ]
          },
          "metadata": {},
          "execution_count": 43
        }
      ]
    },
    {
      "cell_type": "code",
      "source": [
        "y_pred = lr.predict(X_test)\n",
        "y_pred"
      ],
      "metadata": {
        "colab": {
          "base_uri": "https://localhost:8080/"
        },
        "id": "d3GzdmBvKTnq",
        "outputId": "b319f991-e8e4-4ee6-c138-e558a3e394ca"
      },
      "execution_count": 44,
      "outputs": [
        {
          "output_type": "execute_result",
          "data": {
            "text/plain": [
              "array([49.5190907 , 89.90258014, 16.65605058, ..., 30.52669518,\n",
              "       53.78955078, 19.92543659])"
            ]
          },
          "metadata": {},
          "execution_count": 44
        }
      ]
    },
    {
      "cell_type": "code",
      "source": [
        "mean_absolute_error(y_test, y_pred)"
      ],
      "metadata": {
        "colab": {
          "base_uri": "https://localhost:8080/"
        },
        "id": "7ac3gdumLhhq",
        "outputId": "563536c2-78fa-4fcf-9444-e69df4a1a86b"
      },
      "execution_count": 45,
      "outputs": [
        {
          "output_type": "execute_result",
          "data": {
            "text/plain": [
              "1.8357089945168759"
            ]
          },
          "metadata": {},
          "execution_count": 45
        }
      ]
    },
    {
      "cell_type": "code",
      "source": [
        "mean_squared_error(y_test, y_pred)"
      ],
      "metadata": {
        "colab": {
          "base_uri": "https://localhost:8080/"
        },
        "id": "GZOdHHtFLpWT",
        "outputId": "92772330-ca7e-4333-f840-be45bdcc598c"
      },
      "execution_count": 46,
      "outputs": [
        {
          "output_type": "execute_result",
          "data": {
            "text/plain": [
              "5.264220112987227"
            ]
          },
          "metadata": {},
          "execution_count": 46
        }
      ]
    },
    {
      "cell_type": "code",
      "source": [
        "r2_score(y_test, y_pred)"
      ],
      "metadata": {
        "colab": {
          "base_uri": "https://localhost:8080/"
        },
        "id": "C1ksu1tdLtuH",
        "outputId": "41a96ad6-81d9-47ef-efa7-f4fa8e58a74e"
      },
      "execution_count": 47,
      "outputs": [
        {
          "output_type": "execute_result",
          "data": {
            "text/plain": [
              "0.9856973652463842"
            ]
          },
          "metadata": {},
          "execution_count": 47
        }
      ]
    },
    {
      "cell_type": "code",
      "source": [],
      "metadata": {
        "id": "XpELN1PFLz81"
      },
      "execution_count": null,
      "outputs": []
    }
  ]
}