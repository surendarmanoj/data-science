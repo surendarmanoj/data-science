{
  "nbformat": 4,
  "nbformat_minor": 0,
  "metadata": {
    "colab": {
      "provenance": [],
      "authorship_tag": "ABX9TyOfIr+iaoVjuJfInO9rKbr/",
      "include_colab_link": true
    },
    "kernelspec": {
      "name": "python3",
      "display_name": "Python 3"
    },
    "language_info": {
      "name": "python"
    }
  },
  "cells": [
    {
      "cell_type": "markdown",
      "metadata": {
        "id": "view-in-github",
        "colab_type": "text"
      },
      "source": [
        "<a href=\"https://colab.research.google.com/github/surendarmanoj/data-science/blob/main/Data_Frames.ipynb\" target=\"_parent\"><img src=\"https://colab.research.google.com/assets/colab-badge.svg\" alt=\"Open In Colab\"/></a>"
      ]
    },
    {
      "cell_type": "markdown",
      "source": [
        "Link for dataset -> [Newyork weather data](https://docs.google.com/spreadsheets/d/1pnOJB9GqTfVbAEluVDbFJoSvjMmZC0hZGy4K23EaaYo/edit?usp=sharing)"
      ],
      "metadata": {
        "id": "ZAWeZkCV2y9H"
      }
    },
    {
      "cell_type": "code",
      "source": [
        "print(\"Hello github\")"
      ],
      "metadata": {
        "colab": {
          "base_uri": "https://localhost:8080/"
        },
        "id": "lrcgQw9V2fdZ",
        "outputId": "00ef39e2-c4d7-4e96-8230-a995e138cdd5"
      },
      "execution_count": 8,
      "outputs": [
        {
          "output_type": "stream",
          "name": "stdout",
          "text": [
            "Hello github\n"
          ]
        }
      ]
    },
    {
      "cell_type": "code",
      "source": [],
      "metadata": {
        "id": "5sBev7r92jHn"
      },
      "execution_count": null,
      "outputs": []
    }
  ]
}