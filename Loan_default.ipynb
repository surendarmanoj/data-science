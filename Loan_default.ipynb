{
  "nbformat": 4,
  "nbformat_minor": 0,
  "metadata": {
    "colab": {
      "provenance": [],
      "authorship_tag": "ABX9TyPn2zjS7uQnMAkcM83v/+fV",
      "include_colab_link": true
    },
    "kernelspec": {
      "name": "python3",
      "display_name": "Python 3"
    },
    "language_info": {
      "name": "python"
    }
  },
  "cells": [
    {
      "cell_type": "markdown",
      "metadata": {
        "id": "view-in-github",
        "colab_type": "text"
      },
      "source": [
        "<a href=\"https://colab.research.google.com/github/surendarmanoj/data-science/blob/main/Loan_default.ipynb\" target=\"_parent\"><img src=\"https://colab.research.google.com/assets/colab-badge.svg\" alt=\"Open In Colab\"/></a>"
      ]
    },
    {
      "cell_type": "markdown",
      "source": [
        "Loan Default Dataset -> [Link](https://drive.google.com/drive/folders/1SeYE_7aomu5X70xSiVJYUSPiiwlrnJQk?usp=sharing)\n",
        "\n",
        "Kaggle link -> [link](https://www.kaggle.com/datasets/gauravduttakiit/loan-defaulter)"
      ],
      "metadata": {
        "id": "M8OdZ_V6gz7_"
      }
    },
    {
      "cell_type": "code",
      "execution_count": null,
      "metadata": {
        "id": "CyZ1OQ5ffPy9"
      },
      "outputs": [],
      "source": []
    }
  ]
}