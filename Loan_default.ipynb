{
  "nbformat": 4,
  "nbformat_minor": 0,
  "metadata": {
    "colab": {
      "provenance": [],
      "authorship_tag": "ABX9TyPXJP5JWjMgbw8fs6qCyjgy",
      "include_colab_link": true
    },
    "kernelspec": {
      "name": "python3",
      "display_name": "Python 3"
    },
    "language_info": {
      "name": "python"
    }
  },
  "cells": [
    {
      "cell_type": "markdown",
      "metadata": {
        "id": "view-in-github",
        "colab_type": "text"
      },
      "source": [
        "<a href=\"https://colab.research.google.com/github/surendarmanoj/data-science/blob/main/Loan_default.ipynb\" target=\"_parent\"><img src=\"https://colab.research.google.com/assets/colab-badge.svg\" alt=\"Open In Colab\"/></a>"
      ]
    },
    {
      "cell_type": "markdown",
      "source": [
        "Loan Default Dataset -> [Link](https://drive.google.com/drive/folders/1SeYE_7aomu5X70xSiVJYUSPiiwlrnJQk?usp=sharing)\n",
        "\n",
        "Kaggle link -> [link](https://www.kaggle.com/datasets/gauravduttakiit/loan-defaulter)"
      ],
      "metadata": {
        "id": "M8OdZ_V6gz7_"
      }
    },
    {
      "cell_type": "code",
      "execution_count": null,
      "metadata": {
        "id": "CyZ1OQ5ffPy9"
      },
      "outputs": [],
      "source": [
        "import pandas as pd\n",
        "import numpy as np\n",
        "import matplotlib.pyplot as plt\n",
        "import seaborn as sns\n",
        "\n",
        "pd.set_option('display.max_columns', None)\n",
        "pd.set_option('display.max_rows', None)"
      ]
    },
    {
      "cell_type": "markdown",
      "source": [
        "Data Interpretation\n",
        "\n",
        "Feature selection\n",
        "\n",
        "Feature engineering\n",
        "\n",
        "Missing value imputation\n",
        "\n",
        "Variable segmentation\n",
        "\n",
        "Bucketing / Binning\n",
        "\n",
        "Behaviour observation\n",
        "\n",
        "insights\n",
        "\n",
        "visualisation"
      ],
      "metadata": {
        "id": "KMvWdQtKzECn"
      }
    },
    {
      "cell_type": "code",
      "source": [
        "c_app = pd.read_csv(\"application_data.csv\")\n",
        "c_app.head()"
      ],
      "metadata": {
        "id": "ywL_geh7y44a"
      },
      "execution_count": null,
      "outputs": []
    },
    {
      "cell_type": "code",
      "source": [
        "c_app.shape"
      ],
      "metadata": {
        "id": "gGIZnmZxz6xU"
      },
      "execution_count": null,
      "outputs": []
    },
    {
      "cell_type": "code",
      "source": [
        "p_app = pd.read_csv(\"previous_application.csv\")\n",
        "p_app.head()"
      ],
      "metadata": {
        "id": "ErMmg3kV01FQ"
      },
      "execution_count": null,
      "outputs": []
    },
    {
      "cell_type": "code",
      "source": [
        "p_app.shape"
      ],
      "metadata": {
        "id": "zbOP6ZK01FRP"
      },
      "execution_count": null,
      "outputs": []
    },
    {
      "cell_type": "code",
      "source": [
        "current_app = c_app.copy()\n",
        "prev_app = p_app.copy()"
      ],
      "metadata": {
        "id": "vFAs4BSO1QyM"
      },
      "execution_count": null,
      "outputs": []
    },
    {
      "cell_type": "code",
      "source": [
        "current_app.columns.tolist()"
      ],
      "metadata": {
        "id": "tclbmKj62Gym"
      },
      "execution_count": null,
      "outputs": []
    },
    {
      "cell_type": "code",
      "source": [
        "analysis1 = pd.DataFrame(current_app.isnull().sum().sort_values(ascending=False)).reset_index()\n",
        "analysis1.rename(columns={\"index\":\"Column_Name\", 0:\"Null_Count\"}, inplace=True)\n"
      ],
      "metadata": {
        "id": "CkAeudkS2O2t"
      },
      "execution_count": null,
      "outputs": []
    },
    {
      "cell_type": "code",
      "source": [
        "analysis1.to_excel(\"Null_value.xlsx\", index=False)"
      ],
      "metadata": {
        "id": "EsqdDy8H2fYw"
      },
      "execution_count": null,
      "outputs": []
    },
    {
      "cell_type": "code",
      "source": [
        "percentage = (analysis1['Null_Count']/current_app.shape[0])*100\n",
        "analysis1[\"percentage\"] = percentage.round(2)\n",
        "# analysis1.to_excel(\"Null_value.xlsx\", index=False)\n"
      ],
      "metadata": {
        "id": "EBKP5eK03vPD"
      },
      "execution_count": null,
      "outputs": []
    },
    {
      "cell_type": "code",
      "source": [
        "perc_abv_40 = analysis1[analysis1['percentage']>= 40]\n",
        "perc_abv_40"
      ],
      "metadata": {
        "id": "JkyLDG5B401f"
      },
      "execution_count": null,
      "outputs": []
    },
    {
      "cell_type": "code",
      "source": [
        "l_t = perc_abv_40['Column_Name'].tolist()\n",
        "l_t"
      ],
      "metadata": {
        "id": "2Y7TD_8t6ACu"
      },
      "execution_count": null,
      "outputs": []
    },
    {
      "cell_type": "code",
      "source": [
        "current_app_rmd = current_app.drop(labels=l_t, axis=1)\n",
        "current_app_rmd.head()"
      ],
      "metadata": {
        "id": "8rf2h_YtGNlG"
      },
      "execution_count": null,
      "outputs": []
    },
    {
      "cell_type": "code",
      "source": [
        "current_app_rmd.shape"
      ],
      "metadata": {
        "id": "DG-8vaWEGja8"
      },
      "execution_count": null,
      "outputs": []
    },
    {
      "cell_type": "code",
      "source": [
        "current_app_rmd.isnull().sum().sort_values(ascending=False)"
      ],
      "metadata": {
        "id": "9uW69rOIGqlV"
      },
      "execution_count": null,
      "outputs": []
    },
    {
      "cell_type": "code",
      "source": [
        "flag_col = []\n",
        "for i in current_app_rmd.columns:\n",
        "  if i.startswith(\"FLAG_\"):\n",
        "    flag_col.append(i)\n",
        "\n",
        "flag_col"
      ],
      "metadata": {
        "id": "Mix1GkKAG9Sc"
      },
      "execution_count": null,
      "outputs": []
    },
    {
      "cell_type": "code",
      "source": [
        "len(flag_col)"
      ],
      "metadata": {
        "id": "v58uka2xHxRS"
      },
      "execution_count": null,
      "outputs": []
    },
    {
      "cell_type": "code",
      "source": [
        "current_app_rmd[flag_col].head()"
      ],
      "metadata": {
        "id": "cYvXfXE1H3mI"
      },
      "execution_count": null,
      "outputs": []
    },
    {
      "cell_type": "code",
      "source": [
        "current_app_rmd['FLAG_OWN_CAR'] = current_app_rmd['FLAG_OWN_CAR'].map({'Y': 1, 'N': 0})\n",
        "current_app_rmd['FLAG_OWN_REALTY'] = current_app_rmd['FLAG_OWN_REALTY'].map({'Y': 1, 'N': 0})\n",
        "current_app_rmd"
      ],
      "metadata": {
        "id": "BzeFWgUeIH4o"
      },
      "execution_count": null,
      "outputs": []
    },
    {
      "cell_type": "code",
      "source": [],
      "metadata": {
        "id": "tigrN2c0IwbR"
      },
      "execution_count": null,
      "outputs": []
    }
  ]
}